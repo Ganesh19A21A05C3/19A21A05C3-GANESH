{
  "nbformat": 4,
  "nbformat_minor": 0,
  "metadata": {
    "colab": {
      "name": "19A21A05C3,Ganesh.ipynb",
      "provenance": [],
      "authorship_tag": "ABX9TyOU7K6Exw5Te6hfTlHJCW5h",
      "include_colab_link": true
    },
    "kernelspec": {
      "display_name": "Python 3",
      "name": "python3"
    },
    "language_info": {
      "name": "python"
    }
  },
  "cells": [
    {
      "cell_type": "markdown",
      "metadata": {
        "id": "view-in-github",
        "colab_type": "text"
      },
      "source": [
        "<a href=\"https://colab.research.google.com/github/Ganesh19A21A05C3/19A21A05C3-GANESH/blob/main/19A21A05C3%2CGanesh.ipynb\" target=\"_parent\"><img src=\"https://colab.research.google.com/assets/colab-badge.svg\" alt=\"Open In Colab\"/></a>"
      ]
    },
    {
      "cell_type": "markdown",
      "metadata": {
        "id": "L1YA2JX5eNsa"
      },
      "source": [
        " NAME:Tirumani Ganesh\n",
        " \n",
        "REGNO:19A21A05C3\n",
        " \n",
        "SECTION:CSE-B"
      ]
    },
    {
      "cell_type": "markdown",
      "metadata": {
        "id": "bwBVefARl_pG"
      },
      "source": [
        " # **Exercise 1 - Basics**\n",
        " \n",
        "**AIM:**\n",
        " \n",
        "a) Running instructions in Interactive interpreter and a Python Script"
      ]
    },
    {
      "cell_type": "markdown",
      "metadata": {
        "id": "mLXDWd34mMiY"
      },
      "source": [
        "**DESCRIPTION:**"
      ]
    },
    {
      "cell_type": "markdown",
      "metadata": {
        "id": "tm-lOK4cmWEd"
      },
      "source": [
        "Python is a high-level, interpreted, interactive and object-oriented \n",
        "scripting language. \n",
        "Python is designed to be highly readable.  It uses English keywords frequently where as other languages use \n",
        "punctuation, and it has fewer syntactical constructions than other languages. \n",
        " \n",
        "* Python is Interpreted \n",
        " \n",
        "* Python is Interactive \n",
        " \n",
        "* Python is Object-Oriented\n",
        " \n",
        "* Python is a Beginner's Language\n",
        " \n",
        "**Python Programming Running Python Scripts**\n",
        " \n",
        "Running Python in THREE ways: \n",
        " \n",
        "a) Running Python Interpreter \n",
        " \n",
        "b) Running Python Scripts in IDLE \n",
        " \n",
        "c) Running python scripts in Command Prompt \n",
        " \n",
        "**a) Running Python Interpreter:**\n",
        "Python comes with an interactive interpreter. When you type python in your shell or command prompt, the python interpreter becomes active with a >>> prompt and waits for your commands\n",
        " \n",
        "b) **Running Python Scripts in IDLE:**\n",
        ". Go to File menu click on New File (CTRL+N) and write the \n",
        "code and save first.py\n",
        " \n",
        "c) **Running python scripts in Command Prompt: ** **bold text**\n",
        "· Before going to run we have to check the PATH in environment \n",
        "variables."
      ]
    },
    {
      "cell_type": "markdown",
      "metadata": {
        "id": "-bScGzmimtat"
      },
      "source": [
        " **PROGRAM:-**"
      ]
    },
    {
      "cell_type": "code",
      "metadata": {
        "colab": {
          "base_uri": "https://localhost:8080/"
        },
        "id": "9YeXbbuhnH75",
        "outputId": "04cd12a0-b945-4b64-b66f-464ee36c5d9d"
      },
      "source": [
        " print(\"Hello,Ganesh\")"
      ],
      "execution_count": null,
      "outputs": [
        {
          "name": "stdout",
          "output_type": "stream",
          "text": [
            "Hello,Ganesh\n"
          ]
        }
      ]
    },
    {
      "cell_type": "markdown",
      "metadata": {
        "id": "DUurZ6jHnXt-"
      },
      "source": [
        "**AIM:**"
      ]
    },
    {
      "cell_type": "markdown",
      "metadata": {
        "id": "oqDhCPcWnmX1"
      },
      "source": [
        "b) Write a program to purposefully raise Indentation Error and Correct it"
      ]
    },
    {
      "cell_type": "markdown",
      "metadata": {
        "id": "Yr1MjL1cnsCt"
      },
      "source": [
        "**DESCRIPTION:**"
      ]
    },
    {
      "cell_type": "markdown",
      "metadata": {
        "id": "VGEGAWfqnwDp"
      },
      "source": [
        " **Indentation** \n",
        "* Python does not support braces to indicate blocks of code for class and \n",
        "function definitions or flow control. \n",
        " \n",
        "* Blocks of code are denoted by line indentation.\n",
        " \n",
        "* All the continuous lines indented with same number of spaces would form a block. \n",
        " \n",
        "* Python strictly follow indentation rules to indicate the blocks."
      ]
    },
    {
      "cell_type": "markdown",
      "metadata": {
        "id": "YWiLG6scoBZ_"
      },
      "source": [
        "**PROGRAM:**"
      ]
    },
    {
      "cell_type": "code",
      "metadata": {
        "id": "hor4isDGoaW5"
      },
      "source": [
        " if True:\n",
        "    print(\"True\");\n",
        "   else:\n",
        "    print(\"false\");"
      ],
      "execution_count": null,
      "outputs": []
    },
    {
      "cell_type": "markdown",
      "metadata": {
        "id": "RkDnmkhAotak"
      },
      "source": [
        "**Correct Program:**"
      ]
    },
    {
      "cell_type": "code",
      "metadata": {
        "colab": {
          "base_uri": "https://localhost:8080/"
        },
        "id": "ht1yejJ-o0P0",
        "outputId": "896aca00-761e-4ee9-ff97-1d04d329294c"
      },
      "source": [
        "if True:\n",
        "    print(\"True\");\n",
        "else:\n",
        "    print(\"false\");"
      ],
      "execution_count": null,
      "outputs": [
        {
          "name": "stdout",
          "output_type": "stream",
          "text": [
            "True\n"
          ]
        }
      ]
    },
    {
      "cell_type": "markdown",
      "metadata": {
        "id": "TVmkuf9RpSTN"
      },
      "source": [
        "# **Exercise 2 - Operations**\n",
        "**AIM:**\n",
        " \n",
        "a) Write a program to compute distance between two points taking input from the user(PythagoreanTheorem)"
      ]
    },
    {
      "cell_type": "markdown",
      "metadata": {
        "id": "aHtzMxt1pp-h"
      },
      "source": [
        "**DESCRIPTION:**"
      ]
    },
    {
      "cell_type": "markdown",
      "metadata": {
        "id": "h8Vvn6-4pwBx"
      },
      "source": [
        "**Taking Input From the User:**\n",
        "A function is defined as a block of organized, reusable code used to perform a single, related action. Python has many built-in functions; you can also create your own. \n",
        " \n",
        "Python has an input function which lets you ask a user for some text input. You call this function to tell the program to stop and wait for the user to key in the data.\n",
        " \n",
        " In Python 2, you have a built-in function raw_input(), whereas in Python 3, you have input(). The program will resume once the user presses the ENTER or RETURN key.\n",
        " \n",
        " **Input Function**\n",
        " \n",
        "input(prompt=None,/). \n",
        " \n",
        "Read a string from standard input. The trailing newline is stripped. \n",
        " \n",
        "The prompt string, if given, is printed to standard output without a trailing newline before reading input. \n",
        " \n",
        "If the user hits EOF (*nix: Ctrl-D, Windows: Ctrl Z+Return), raise EOFError."
      ]
    },
    {
      "cell_type": "markdown",
      "metadata": {
        "id": "VLLju28sp7RA"
      },
      "source": [
        "**PROGRAM**"
      ]
    },
    {
      "cell_type": "code",
      "metadata": {
        "colab": {
          "base_uri": "https://localhost:8080/"
        },
        "id": "oFrISFIoqFbc",
        "outputId": "c5494b67-a2fa-4dc0-b874-17d4263cae56"
      },
      "source": [
        "import math\n",
        "x1=int(input(\"enter x1 : \"))\n",
        " \n",
        "x2=int(input(\"enter x2 : \"))\n",
        " \n",
        "y1=int(input(\"enter y1 : \"))\n",
        " \n",
        "y2=int(input(\"enter y2 : \"))\n",
        " \n",
        "d= math.sqrt(((x2 - x1 )**2) + ((y2-y1)**2) )\n",
        " \n",
        "print(\"distance between two points = \",d)"
      ],
      "execution_count": null,
      "outputs": [
        {
          "name": "stdout",
          "output_type": "stream",
          "text": [
            "enter x1 : 5\n",
            "enter x2 : 3\n",
            "enter y1 : 5\n",
            "enter y2 : 4\n",
            "distance between two points =  2.23606797749979\n"
          ]
        }
      ]
    },
    {
      "cell_type": "markdown",
      "metadata": {
        "id": "x4CeKhMSqXMo"
      },
      "source": [
        "**AIM:**"
      ]
    },
    {
      "cell_type": "markdown",
      "metadata": {
        "id": "o-w6xWewqZLD"
      },
      "source": [
        " b) Write a program add.py that takes 2 numbers as command line arguments and prints its sum"
      ]
    },
    {
      "cell_type": "markdown",
      "metadata": {
        "id": "SFS9W6HDqlvp"
      },
      "source": [
        "**DESCRIPTION:**"
      ]
    },
    {
      "cell_type": "markdown",
      "metadata": {
        "id": "zxqFy_WvqrjQ"
      },
      "source": [
        "The arguments that are given after the name of the program in the command line shell of the operating system are known as Command Line Arguments. Python provides various ways of dealing with these types of arguments. The three most common are: \n",
        " \n",
        "Using sys.argv\n",
        " \n",
        "Using getopt module\n",
        " \n",
        "Using argparse module\n",
        " \n",
        "Using sys.argv\n",
        " \n",
        "The sys module provides functions and variables used to manipulate different parts of the Python runtime environment. This module provides access to some variables used or maintained by the interpreter and to functions that interact strongly with the interpreter.\n",
        " \n",
        "One such variable is sys.argv which is a simple list structure. It’s main purpose are:\n",
        " \n",
        "* It is a list of command line arguments.\n",
        " \n",
        "* len(sys.argv) provides the number of command line arguments.\n",
        " \n",
        "* sys.argv[0] is the name of the current Python script."
      ]
    },
    {
      "cell_type": "markdown",
      "metadata": {
        "id": "qMpjOOuUq_5g"
      },
      "source": [
        "**PROGRAM**"
      ]
    },
    {
      "cell_type": "code",
      "metadata": {
        "id": "RimgsvV382iy"
      },
      "source": [
        "import sys\n",
        "x=int(sys.argv[1])\n",
        "y=int(sys.argv[2])\n",
        "sum=x+y\n",
        "print(\"The addition is :\",sum)"
      ],
      "execution_count": null,
      "outputs": []
    },
    {
      "cell_type": "markdown",
      "metadata": {
        "id": "56X9GixbrUaT"
      },
      "source": [
        "# **Exercise - 3 Control Flow**\n",
        " \n",
        "**AIM:**\n",
        " \n",
        "a) Write a Program for checking whether the given number is an even number or not."
      ]
    },
    {
      "cell_type": "markdown",
      "metadata": {
        "id": "BatJyd2Yro2B"
      },
      "source": [
        "**DESCRIPTION:**"
      ]
    },
    {
      "cell_type": "markdown",
      "metadata": {
        "id": "PEVUb3pAr62B"
      },
      "source": [
        "**if..else Statement**\n",
        "When there is an alternate operation in control flow, use an else statement alongside with if statement. The general format is\n",
        " \n",
        "if condition:\n",
        " \n",
        "        true statement\n",
        " \n",
        "else:\n",
        " \n",
        "         false statement"
      ]
    },
    {
      "cell_type": "markdown",
      "metadata": {
        "id": "fKXMYGUasEiJ"
      },
      "source": [
        "**PROGRAM**"
      ]
    },
    {
      "cell_type": "code",
      "metadata": {
        "colab": {
          "base_uri": "https://localhost:8080/"
        },
        "id": "yQqDRQuOzb0J",
        "outputId": "b98c6119-82f0-4a7a-daa3-7642664e21f0"
      },
      "source": [
        " \n",
        "n=int(input(\"enter a number:\"))\n",
        "if (n%2)==0:\n",
        "        print(\"given number is even\")\n",
        "else:\n",
        "      print(\"given number is odd\")"
      ],
      "execution_count": null,
      "outputs": [
        {
          "name": "stdout",
          "output_type": "stream",
          "text": [
            "enter a number:5\n",
            "given number is odd\n"
          ]
        }
      ]
    },
    {
      "cell_type": "markdown",
      "metadata": {
        "id": "IoLwpm5lziXB"
      },
      "source": [
        "**AIM:**"
      ]
    },
    {
      "cell_type": "markdown",
      "metadata": {
        "id": "eugTPfTEzjc8"
      },
      "source": [
        " b) Using a for loop, write a program that prints out the decimal equivalents of 1/2, 1/3, 1/4, . . .1/10"
      ]
    },
    {
      "cell_type": "markdown",
      "metadata": {
        "id": "Eg1qYQV1zqoX"
      },
      "source": [
        "**DESCRIPTION**"
      ]
    },
    {
      "cell_type": "markdown",
      "metadata": {
        "id": "rs_MOoxszvRf"
      },
      "source": [
        "**For Loop:**\n",
        "For loops can iterate over a sequence of numbers using the \"range\" and \"xrange\" functions. The difference between range and xrange is that the range function returns a new list with numbers of that specified range, whereas xrange returns an iterator, which is more efficient. \n",
        " \n",
        "The general format is\n",
        " \n",
        "for x in range(start,stop,step):\n",
        " \n",
        "statements"
      ]
    },
    {
      "cell_type": "markdown",
      "metadata": {
        "id": "q1PblMOFz0qy"
      },
      "source": [
        "**PROGRAM**"
      ]
    },
    {
      "cell_type": "code",
      "metadata": {
        "colab": {
          "base_uri": "https://localhost:8080/"
        },
        "id": "IMsFuOLrz6yN",
        "outputId": "336a3c7d-7d69-4d1f-df58-f84e393e5545"
      },
      "source": [
        "n=int(input(\"Enter a number\"))\n",
        "for i in range(2,n):\n",
        "  de=1/i\n",
        "  print(\"1/\"+str(i)+\"=\",de)"
      ],
      "execution_count": null,
      "outputs": [
        {
          "name": "stdout",
          "output_type": "stream",
          "text": [
            "Enter a number6\n",
            "1/2= 0.5\n",
            "1/3= 0.3333333333333333\n",
            "1/4= 0.25\n",
            "1/5= 0.2\n"
          ]
        }
      ]
    },
    {
      "cell_type": "markdown",
      "metadata": {
        "id": "Td-gLpkx0DMb"
      },
      "source": [
        "**AIM:**"
      ]
    },
    {
      "cell_type": "markdown",
      "metadata": {
        "id": "zLp91Y440HON"
      },
      "source": [
        "c) Write a program using a for loop that loops over a sequence. What is sequence?"
      ]
    },
    {
      "cell_type": "markdown",
      "metadata": {
        "id": "x2AFejmz0LNi"
      },
      "source": [
        "**DESCRIPTION:**\n",
        " \n",
        "**For Loop:**\n",
        "For loops can iterate over a sequence of numbers using the \"range\" and \"xrange\" functions. The difference between range and xrange is that the range function returns a new list with numbers of that specified range, whereas xrange returns an iterator, which is more efficient. \n",
        " \n",
        "The general format is\n",
        " \n",
        "for x in range(start,stop,step):\n",
        " \n",
        "statements"
      ]
    },
    {
      "cell_type": "markdown",
      "metadata": {
        "id": "07oPEIvk0SoR"
      },
      "source": [
        "**PROGRAM**"
      ]
    },
    {
      "cell_type": "code",
      "metadata": {
        "colab": {
          "base_uri": "https://localhost:8080/"
        },
        "id": "gofeypAR0XwF",
        "outputId": "ab594e5b-25fd-457b-eb02-2ec69c828dbd"
      },
      "source": [
        "arr=[4,\"abc\",-45,'c',10.5,True,5,10.6,\"xyz\"]\n",
        "print(\"given array:\",arr)\n",
        "for x in arr:\n",
        "  print(x)"
      ],
      "execution_count": null,
      "outputs": [
        {
          "name": "stdout",
          "output_type": "stream",
          "text": [
            "given array: [4, 'abc', -45, 'c', 10.5, True, 5, 10.6, 'xyz']\n",
            "4\n",
            "abc\n",
            "-45\n",
            "c\n",
            "10.5\n",
            "True\n",
            "5\n",
            "10.6\n",
            "xyz\n"
          ]
        }
      ]
    },
    {
      "cell_type": "markdown",
      "metadata": {
        "id": "_j8QB_uq0fNn"
      },
      "source": [
        "**AIM:**"
      ]
    },
    {
      "cell_type": "markdown",
      "metadata": {
        "id": "Gtne9T7b0lJe"
      },
      "source": [
        "D) Write a program using a while loop that asks the user for a number, and prints a countdownfrom that number to zero."
      ]
    },
    {
      "cell_type": "markdown",
      "metadata": {
        "id": "09Uxr1Si0pFb"
      },
      "source": [
        "**DESCRIPTION:**\n",
        " \n",
        " While Loop is used to execute a block of statements repeatedly until a given condition is satisfied. And when the condition becomes false, the line immediately after the loop in the program is executed. While loop falls under the category of indefinite iteration\n",
        " \n",
        " The syntax for a while loop is: \n",
        " \n",
        " while [ condition]"
      ]
    },
    {
      "cell_type": "markdown",
      "metadata": {
        "id": "S3oM4zn601ak"
      },
      "source": [
        "**PROGRAM:**"
      ]
    },
    {
      "cell_type": "code",
      "metadata": {
        "colab": {
          "base_uri": "https://localhost:8080/"
        },
        "id": "MRdTzB9M061J",
        "outputId": "76ffc3a7-3742-48c2-e15f-8e069aea3744"
      },
      "source": [
        "n=int(input(\"Enter Value of n\"))\n",
        "while n>=0:\n",
        "   print(n)\n",
        "   n-=1"
      ],
      "execution_count": null,
      "outputs": [
        {
          "name": "stdout",
          "output_type": "stream",
          "text": [
            "Enter Value of n8\n",
            "8\n",
            "7\n",
            "6\n",
            "5\n",
            "4\n",
            "3\n",
            "2\n",
            "1\n",
            "0\n"
          ]
        }
      ]
    },
    {
      "cell_type": "markdown",
      "metadata": {
        "id": "0Pt54Dgv1Pfx"
      },
      "source": [
        "# **Exercise 4 - Control Flow - Continued**"
      ]
    },
    {
      "cell_type": "markdown",
      "metadata": {
        "id": "pDWnPCvZ1UNa"
      },
      "source": [
        " **AIM:**"
      ]
    },
    {
      "cell_type": "markdown",
      "metadata": {
        "id": "-ikgRD-V1agN"
      },
      "source": [
        "a) Find the sum of all the primes below two million. Each new term in the Fibonacci sequence is generated by adding the previous two terms. Bystarting with 1 and 2, the first 10 terms will be: 1, 2, 3, 5, 8, 13, 21, 34, 55, 89, ..."
      ]
    },
    {
      "cell_type": "markdown",
      "metadata": {
        "id": "f48FYuJS1kDx"
      },
      "source": [
        "**DESCRIPTION:**\n",
        " \n",
        "A Fibonacci sequence is the integer sequence of 0, 1, 1, 2, 3, 5, 8....\n",
        " \n",
        "The first two terms are 0 and 1. All other terms are obtained by adding the preceding two terms. This means to say the nth term is the sum of (n-1)th and (n-2)th term\n",
        " \n",
        "Here, we store the number of terms in nterms. We initialize the first term to 0 and the second term to 1.\n",
        " \n",
        "If the number of terms is more than 2, we use a while loop to find the next term in the sequence by adding the preceding two terms. We then interchange the variables (update it) and continue on with the process."
      ]
    },
    {
      "cell_type": "markdown",
      "metadata": {
        "id": "avAT9bFn11BJ"
      },
      "source": [
        "**PROGRAM:**"
      ]
    },
    {
      "cell_type": "code",
      "metadata": {
        "colab": {
          "base_uri": "https://localhost:8080/"
        },
        "id": "rLb7yONU1ucL",
        "outputId": "5f4dcf8a-685b-4c65-ae88-f35284f76dad"
      },
      "source": [
        "n=int(input(\"enter an Ending Number: \"));\n",
        "st=\"\"\n",
        "sum=0\n",
        "for i in range(2,n):\n",
        "    state=True\n",
        "    for j in range(2,i):\n",
        "        if(i%j)==0:\n",
        "            state=False\n",
        "            break;\n",
        "    if state==True:\n",
        "            st+=\" \"+str(i)\n",
        "            sum+=i\n",
        " \n",
        "print(\"prime Numbers: \")\n",
        "print(st)\n",
        "print(\"Sum of the prime Numbers: \",sum)"
      ],
      "execution_count": null,
      "outputs": [
        {
          "name": "stdout",
          "output_type": "stream",
          "text": [
            "enter an Ending Number: 100\n",
            "prime Numbers: \n",
            " 2 3 5 7 11 13 17 19 23 29 31 37 41 43 47 53 59 61 67 71 73 79 83 89 97\n",
            "Sum of the prime Numbers:  1060\n"
          ]
        }
      ]
    },
    {
      "cell_type": "markdown",
      "metadata": {
        "id": "oQnE7WCi2NTV"
      },
      "source": [
        "**AIM:**"
      ]
    },
    {
      "cell_type": "markdown",
      "metadata": {
        "id": "vbhjW14R2S_m"
      },
      "source": [
        "b) By considering the terms in the Fibonacci sequence whose values do not exceed four million,find\n",
        "the sum of the even-valued terms."
      ]
    },
    {
      "cell_type": "markdown",
      "metadata": {
        "id": "lUuxaUyy2d4M"
      },
      "source": [
        "**DESCRIPTION:**\n",
        " \n",
        "A Fibonacci sequence is the integer sequence of 0, 1, 1, 2, 3, 5, 8....\n",
        " \n",
        "The first two terms are 0 and 1. All other terms are obtained by adding the preceding two terms. This means to say the nth term is the sum of (n-1)th and (n-2)th term\n",
        " \n",
        "Here, we store the number of terms in nterms. We initialize the first term to 0 and the second term to 1.\n",
        " \n",
        "If the number of terms is more than 2, we use a while loop to find the next term in the sequence by adding the preceding two terms. We then interchange the variables (update it) and continue on with the process."
      ]
    },
    {
      "cell_type": "markdown",
      "metadata": {
        "id": "_uurbAuE2pvF"
      },
      "source": [
        "**PROGRAM:**"
      ]
    },
    {
      "cell_type": "code",
      "metadata": {
        "colab": {
          "base_uri": "https://localhost:8080/"
        },
        "id": "7bYdbXjf2uRx",
        "outputId": "452d4612-254b-4153-ebf4-4dcf200af1bd"
      },
      "source": [
        "n=int(input(\"Enter value of n: \"))\n",
        "a=0\n",
        "b=1\n",
        "c=a+b\n",
        "sum=0\n",
        "print(\"Even numbers in Fibonacci series:\\t \",end='')\n",
        "while c<=n:\n",
        "    if c%2==0:\n",
        "        print(c,end=' ')\n",
        "        sum+=c\n",
        "    a=b\n",
        "    b=c\n",
        "    c=a+b\n",
        "print(\"\\nsum of Fibonacci Series is: \",sum)"
      ],
      "execution_count": null,
      "outputs": [
        {
          "name": "stdout",
          "output_type": "stream",
          "text": [
            "Enter value of n: 800\n",
            "Even numbers in Fibonacci series:\t 2 8 34 144 610 \n",
            "sum of Fibonacci Series is:  798\n"
          ]
        }
      ]
    },
    {
      "cell_type": "markdown",
      "metadata": {
        "id": "bCM2eUqBtJxs"
      },
      "source": [
        "## **Exercise - 5 - DS**"
      ]
    },
    {
      "cell_type": "markdown",
      "metadata": {
        "id": "shJhHyIUtLLm"
      },
      "source": [
        " **AIM:**"
      ]
    },
    {
      "cell_type": "markdown",
      "metadata": {
        "id": "FVqBWuDvt1ZS"
      },
      "source": [
        "a) Write a program to count the numbers of characters in the string and store them in adictionary data\n",
        "structure"
      ]
    },
    {
      "cell_type": "markdown",
      "metadata": {
        "id": "OBqNmMgduInm"
      },
      "source": [
        "**DESCRIPTION:**\n",
        " \n",
        "Given a string, the task is to find the frequencies of all the characters in that string and return a dictionary with key as the character and its value as its frequency in the given string.\n",
        " \n",
        "Method #1 : Naive method\n",
        " \n",
        "Simply iterate through the string and form a key in dictionary of newly occurred element or if element is already occurred, increase its value by 1.\n",
        " \n",
        "Method #2 : Using collections.Counter()\n",
        " \n",
        "The most suggested method that could be used to find all occurrences is this method, this actually gets all element frequency and could also be used to print single element frequency if required."
      ]
    },
    {
      "cell_type": "markdown",
      "metadata": {
        "id": "7eAYynqKuT4g"
      },
      "source": [
        "**PROGRAM:**"
      ]
    },
    {
      "cell_type": "code",
      "metadata": {
        "colab": {
          "base_uri": "https://localhost:8080/"
        },
        "id": "YwD1upCjinuj",
        "outputId": "4d5ba998-8d5f-43c4-b904-61d516cf8f03"
      },
      "source": [
        " \n",
        "name=input(\"enter anmae:\")\n",
        "dic={}\n",
        "for ch in name:\n",
        "    keys=dic.keys()\n",
        " \n",
        "    if(ch in keys):\n",
        "        dic[ch]=dic[ch]+1\n",
        "    else:\n",
        "        dic[ch]=1\n",
        " \n",
        "print(\"dictinarry is:\",dic)"
      ],
      "execution_count": null,
      "outputs": [
        {
          "name": "stdout",
          "output_type": "stream",
          "text": [
            "enter anmae:Ganesh\n",
            "dictinarry is: {'G': 1, 'a': 1, 'n': 1, 'e': 1, 's': 1, 'h': 1}\n"
          ]
        }
      ]
    },
    {
      "cell_type": "markdown",
      "metadata": {
        "id": "hj_eCkSZuxWz"
      },
      "source": [
        "**AIM:**"
      ]
    },
    {
      "cell_type": "markdown",
      "metadata": {
        "id": "922FdfgSu3MC"
      },
      "source": [
        "b) Write a program to use split and join methods in the string and trace a birthday with adictionary\n",
        "data structure"
      ]
    },
    {
      "cell_type": "markdown",
      "metadata": {
        "id": "pwVpimmdvube"
      },
      "source": [
        "**DESCRIPTION:**\n",
        " \n",
        "Python program to Split a string based on a delimiter and join the string using another delimiter.\n",
        " \n",
        "Split a string can be quite useful sometimes, especially when you need only certain parts of strings. A simple yet effective example is splitting the First-name and Last-name of a person. Another application is CSV(Comma Separated Files). We use split to get data from CSV and join to write data to CSV.\n",
        " \n",
        "In Python, we can use the function split() to split a string and \n",
        " \n",
        "join() to join a string."
      ]
    },
    {
      "cell_type": "code",
      "metadata": {
        "colab": {
          "base_uri": "https://localhost:8080/"
        },
        "id": "l0NKdlpKitWU",
        "outputId": "b0340d64-72a0-45c2-adde-6828fd1651ea"
      },
      "source": [
        " \n",
        "dob={\"ganesh\":\"03-01-2002\",\"slsd\":\"14-04-2002\"}\n",
        "name=input(\"enter which person dob u want:\")\n",
        "l=name.split()\n",
        "birth=\"\"\n",
        "for i in l:\n",
        "    if i in dob.keys():\n",
        "        pers=i\n",
        " \n",
        "print(\"\".join([pers,\"birthdayis:\",dob[pers]]))"
      ],
      "execution_count": null,
      "outputs": [
        {
          "name": "stdout",
          "output_type": "stream",
          "text": [
            "enter which person dob u want:ganesh\n",
            "ganeshbirthdayis:03-01-2002\n"
          ]
        }
      ]
    },
    {
      "cell_type": "markdown",
      "metadata": {
        "id": "D5YT616bwE7G"
      },
      "source": [
        "## **Exercise - 6 DS - Continued**\n",
        " \n",
        "**AIM:**\n",
        " \n",
        "a) Write a program combinelists that combines these lists into a dictionary."
      ]
    },
    {
      "cell_type": "markdown",
      "metadata": {
        "id": "7BPqravQwK3W"
      },
      "source": [
        "**DESCRIPTION:**\n",
        " \n",
        "For this, simply declare a dictionary, and then run nested loop for both the lists and assign key and value pairs to from list values to dictionary.\n",
        " \n",
        "Most pythonic and generic method to perform this very task is by using zip(). This function pairs the list element with other list element at corresponding index in form of key-value pairs."
      ]
    },
    {
      "cell_type": "markdown",
      "metadata": {
        "id": "2Mnh5h-1wQDV"
      },
      "source": [
        "**PROGRAM**"
      ]
    },
    {
      "cell_type": "code",
      "metadata": {
        "colab": {
          "base_uri": "https://localhost:8080/"
        },
        "id": "AKNMW5j4i4_B",
        "outputId": "5243dd96-1fa5-4a17-fcc7-5a092f27174d"
      },
      "source": [
        "sub=[\"daa\",\"os\",\"dbms\",\"p&s\",\"ppl\",\"se\"]\n",
        "marks=[85,96,75,65,83,56]\n",
        "print(sub)\n",
        "print(marks)\n",
        "dic=dict(zip(sub,marks))\n",
        "print(dic)"
      ],
      "execution_count": null,
      "outputs": [
        {
          "name": "stdout",
          "output_type": "stream",
          "text": [
            "['daa', 'os', 'dbms', 'p&s', 'ppl', 'se']\n",
            "[85, 96, 75, 65, 83, 56]\n",
            "{'daa': 85, 'os': 96, 'dbms': 75, 'p&s': 65, 'ppl': 83, 'se': 56}\n"
          ]
        }
      ]
    },
    {
      "cell_type": "markdown",
      "metadata": {
        "id": "bnZe1cy_wkj1"
      },
      "source": [
        "**AIM:**"
      ]
    },
    {
      "cell_type": "markdown",
      "metadata": {
        "id": "eJHJZQtewqqW"
      },
      "source": [
        "b) Write a program to count frequency of characters in a given file. Can you use characterfrequency to\n",
        "tell whether the given file is a Python program file, C program file or a text file?"
      ]
    },
    {
      "cell_type": "markdown",
      "metadata": {
        "id": "Jl_KzqKqwvK2"
      },
      "source": [
        "**DESCRIPTION:**\n",
        " \n",
        "approaches to count the number of times a letter appears in a text file in Python.\n",
        " \n",
        "Method 1: Using the in-built count() method.\n",
        " \n",
        "**Approach:**\n",
        " \n",
        "1. Read the file.\n",
        "2. Store the content of the file in a variable.\n",
        "3. Use the count() method with the argument as a letter whose frequency is required.\n",
        "4. Display the count of the letter."
      ]
    },
    {
      "cell_type": "markdown",
      "metadata": {
        "id": "f4dJZ9XCw05p"
      },
      "source": [
        "**PROGRAM**"
      ]
    },
    {
      "cell_type": "code",
      "metadata": {
        "id": "CaAaWEEL93Bb"
      },
      "source": [
        "filetypes=['.py','.c','.txt']\n",
        "fn=input(\"Enter the file name:\")\n",
        "f=open(fn,\"r\")\n",
        "count=dict()\n",
        "print(\"Given file is\",end=\"\")\n",
        "for ft in filetypes:\n",
        "  if(ft in fn):\n",
        "    if(ft=='.py'):\n",
        "      print(\"Python file\")\n",
        "    elif(ft=='.c'):\n",
        "      print(\"C File\")\n",
        "    elif(ft=='.txt'):\n",
        "       print(\"Text File\")\n",
        "for line in f:\n",
        "  for ch in line:\n",
        "    if ch in count:\n",
        "      count[ch]=count[ch]+1\n",
        "    else:\n",
        "      count[ch]=1\n",
        "print(count)\n",
        "f.close()"
      ],
      "execution_count": null,
      "outputs": []
    },
    {
      "cell_type": "markdown",
      "metadata": {
        "id": "Kvf_lTv3xPmI"
      },
      "source": [
        "## **Exercise - 7 Files**\n",
        " \n",
        "**AIM**\n",
        " \n",
        "a) Write a program to print each line of a file in reverse order."
      ]
    },
    {
      "cell_type": "markdown",
      "metadata": {
        "id": "-LGKx4unxTY-"
      },
      "source": [
        "**DESCRIPTION:**\n",
        " \n",
        "The file handling plays an important role when the data needs to be stored permanently into the\n",
        "file. A file is a named location on disk to store related information. We can access the stored\n",
        "information (non-volatile) after the program termination.\n",
        "In Python, files are treated in two modes as text or binary. The file may be in the text or binary\n",
        "format, and each line of a file is ended with the special character.\n",
        "Hence, a file operation can be done in the following order.\n",
        " \n",
        " Open a file\n",
        " \n",
        " Read or write - Performing operation\n",
        " \n",
        " Close the file"
      ]
    },
    {
      "cell_type": "markdown",
      "metadata": {
        "id": "blygg5DRxX9m"
      },
      "source": [
        "**PROGRAM:**"
      ]
    },
    {
      "cell_type": "code",
      "metadata": {
        "id": "q0EMDAsyjLjd"
      },
      "source": [
        " \n",
        "obj=open(\"sam.txt\",\"r\")\n",
        "if obj:\n",
        "    st=obj.read()\n",
        "    print(\"file content is:\")\n",
        "obj.close()\n",
        "print()\n",
        "lines=st.split('\\n')\n",
        "for ln in lines:\n",
        "    i=len(ln)-1\n",
        "    while(i>=0):\n",
        "      print(ln[i],end='')\n",
        "      i=i-1\n",
        "    print()"
      ],
      "execution_count": null,
      "outputs": []
    },
    {
      "cell_type": "markdown",
      "metadata": {
        "id": "2eXx40jpxoNm"
      },
      "source": [
        "**AIM:**"
      ]
    },
    {
      "cell_type": "markdown",
      "metadata": {
        "id": "QNjjmv_ZxtQF"
      },
      "source": [
        "b) Write a program to compute the number of characters, words and lines in a file"
      ]
    },
    {
      "cell_type": "markdown",
      "metadata": {
        "id": "5PGyoB7GxzDr"
      },
      "source": [
        "**DESCRIPTION:**"
      ]
    },
    {
      "cell_type": "markdown",
      "metadata": {
        "id": "MBlmJTFWx5qR"
      },
      "source": [
        "Given a text file fname, the task is to count the total number of characters, words, spaces and lines in the file.\n",
        " \n",
        "As we know, Python provides multiple in-built features and modules for handling files. Let’s discuss different ways to calculate total number of characters, words, spaces and lines in a file using Python.\n",
        " \n",
        "Method #1: Naive approach\n",
        " \n",
        "In this approach, the idea is to solve the task by developing our own logic. Without using any built-in function of Python, the total number of characters, words, spaces and lines of the file will be calculated.\n",
        " \n",
        "Method #2: Using some built-in functions and OS module functions\n",
        " \n",
        "In this approach, the idea is to use the os.linesep() method of OS module to separate the lines on the current platform. When the interpreter’s scanner encounter os.linesep it replaces it with \\n character. After that strip() and split() functions will be used to carry out the task."
      ]
    },
    {
      "cell_type": "code",
      "metadata": {
        "id": "EsginBa8yE_D"
      },
      "source": [
        "nc=nw=nl=0\n",
        "file=open(\"abc.txt\",\"r\")\n",
        " \n",
        "nl=nw=nc=0\n",
        "print(\"File content:\\n\")\n",
        "for line in file:\n",
        "    ln=line.strip(\"\\n\")\n",
        "    print(ln)\n",
        "    words=ln.split()\n",
        "    nl+=1\n",
        "    nw+=len(words)\n",
        "    nc+=len(line)\n",
        "file.close()\n",
        " \n",
        "print(\"\\n No.of lines:\",nl,\"words:\",nw,\"characters:\",nc)"
      ],
      "execution_count": null,
      "outputs": []
    },
    {
      "cell_type": "markdown",
      "metadata": {
        "id": "vci2ymfbyQYU"
      },
      "source": [
        "## **Exercise - 8 Functions**\n",
        " \n",
        "**AIM:**\n",
        " \n",
        "a) Write a function ball collide that takes two balls as parameters and computes if they arecolliding.\n",
        "Your function should return a Boolean representing whether or not the balls arecolliding.\n",
        " \n",
        " \n",
        " \n",
        " \n",
        "*Hint: Represent a ball on a plane as a tuple of (x, y, r), r being the radius\n",
        "If (distance between two balls centers) <= (sum of their radii) then (they are colliding)*"
      ]
    },
    {
      "cell_type": "markdown",
      "metadata": {
        "id": "g6nqfH4Cya1_"
      },
      "source": [
        "**DESCRIPTION**\n",
        " \n",
        "**Functions**\n",
        "A function in python is a block of code that is defined for doing frequent operations in a\n",
        "particular task. The general format is\n",
        " \n",
        "def  Functionname(arguments):\n",
        " \n",
        "      Statements\n",
        " \n",
        "**Calling a Function:**\n",
        " \n",
        "A function can be called by its name followed by arguments within parenthesis.\n",
        " \n",
        "function()"
      ]
    },
    {
      "cell_type": "code",
      "metadata": {
        "id": "cJVXHhIhyqy-"
      },
      "source": [
        "import math\n",
        "def collide(ball_tup1,ball_tup2):\n",
        "    x1,y1,r1=ball_tup1\n",
        "    x2,y2,r2=ball_tup2\n",
        " \n",
        "    print(\"Ball-01: \",ball_tup1)\n",
        "    print(\"Ball-02: \",ball_tup2)\n",
        " \n",
        "    d=math.sqrt((x2-x1)**2+(y2-y1)**2)\n",
        "    print(\"Centroid Distance of two balls: \",d)\n",
        "    print(\"Sum of Radius Ball-01 &Ball-02 is: {}+{}={}\".format(r1,r2,r1+r2))\n",
        " \n",
        "    if d<=r1+r2:\n",
        "        return True\n",
        "    else:\n",
        "        return False\n",
        "b1=(-2,-4,3)\n",
        "b2=(4,6,3)\n",
        " \n",
        "if collide(b1,b2):\n",
        "    print(\"Balls are Colliode....!\")\n",
        "else:\n",
        "    print(\"Balls are not Colliede...!\")"
      ],
      "execution_count": null,
      "outputs": []
    },
    {
      "cell_type": "markdown",
      "metadata": {
        "id": "UoamtVHHy2zk"
      },
      "source": [
        "**AIM:**"
      ]
    },
    {
      "cell_type": "markdown",
      "metadata": {
        "id": "KtpytJbMy6hr"
      },
      "source": [
        "b) Find mean, median, mode for the given set of numbers in a list"
      ]
    },
    {
      "cell_type": "markdown",
      "metadata": {
        "id": "ig-S1ZcazAVJ"
      },
      "source": [
        "**DESCRIPTION**\n",
        " \n",
        "Mean : The mean is the average of all numbers and is sometimes called the arithmetic mean. This code calculates Mean or Average of a list containing numbers:\n",
        " \n",
        "Median : The median is the middle number in a group of numbers. This code calculates Median of a list containing numbers:\n",
        " \n",
        "Mode : The mode is the number that occurs most often within a set of numbers. This code calculates Mode of a list containing numbers:\n",
        " \n",
        "We will import Counter from collections library which is a built-in module in Python 2 and 3. This module will help us count duplicate elements in a list.\n",
        "We define a list of numbers and calculate the length of the list. We then call Counter (a dict subclass) which helps to count hashable objects, and we then convert it to dict object. We then initialize a list with a For Loop to compare all the dict values (Number of elements) to the max of all dict values (count of most occurring element) and it returns all the elements equal to max count. If the elements returned are equal to the number of total elements in a list then we print out ‘No mode’, else we print out the modes returned."
      ]
    },
    {
      "cell_type": "code",
      "metadata": {
        "id": "I9VqlGwIzMFp"
      },
      "source": [
        "def list_mean(num_list):\n",
        "    return sum(num_list)/len(num_list)\n",
        " \n",
        "def list_median(num_list):\n",
        "    num_list.sort()\n",
        "    n=len(num_list)\n",
        "    mid=n//2\n",
        "    if(n%2==1):\n",
        "        return num_list[mid]\n",
        "    else:\n",
        "        mid\n",
        "        return(num_list[mid+1]+num_list[mid])/2\n",
        " \n",
        "def list_mode(num_list):\n",
        "    num_list.sort()\n",
        "    temp=[]\n",
        " \n",
        "    i=0\n",
        "    while i<len(num_list):\n",
        "        temp.append(num_list.count(num_list[i]))\n",
        "        i+=1\n",
        " \n",
        "    dic=dict(zip(num_list,temp))\n",
        "    mode={k for(k,v) in dic.items() if v==max(temp)}\n",
        "    return mode\n",
        " \n",
        " \n",
        "    \n",
        "lst=[1,1,2,2,2,3,4,5,3]\n",
        " \n",
        "print(\"Given list is; \",lst)\n",
        "print(\"Mean of the given list: \",list_mean(lst))\n",
        "print(\"Median of the given list: \",list_median(lst))\n",
        "print(\"Mode of the given list: \",list_mode(lst))"
      ],
      "execution_count": null,
      "outputs": []
    },
    {
      "cell_type": "markdown",
      "metadata": {
        "id": "YvnVdacjzUgb"
      },
      "source": [
        "# **Exercise - 9 Functions - Continued**\n",
        " \n",
        "**AIM:**\n",
        " \n",
        "a) Write a function nearly equal to test whether two strings are nearly"
      ]
    },
    {
      "cell_type": "markdown",
      "metadata": {
        "id": "MGcnjrpwzZGC"
      },
      "source": [
        "**DESCRIPTION:**\n",
        " \n",
        "strlen() function is used to check wether the two string are nearly equal or not by basis of the Length of those Strings\n",
        " \n",
        "len() function is an inbuilt function in Python programming language that returns the length of the string.\n",
        " \n",
        "len() is a built-in function in python.You can use the len() to get the length of the given string, array, list, tuple, dictionary, etc.\n",
        " \n",
        "Value: the given value you want the length of.\n",
        " \n",
        "Return value a return an integer value i.e. the length of the given string, or array, or list, or collections.\n",
        " \n",
        "Syntax:\n",
        " \n",
        "len(string)"
      ]
    },
    {
      "cell_type": "code",
      "metadata": {
        "colab": {
          "base_uri": "https://localhost:8080/"
        },
        "id": "twX8xNhfjsUK",
        "outputId": "9ac4e0ae-ef60-49bf-e5ea-1ecf5c5e743a"
      },
      "source": [
        "\n",
        "\n",
        " \n",
        "def nearlyeq(str1,str2):\n",
        "    count=0\n",
        "    i=j=0\n",
        "    ss=0\n",
        "    while(i<len(str1)and j<len(str2)):\n",
        "        if(str1[i]!=str2[j]):\n",
        "            count+=1\n",
        "        if(len(str1)>len(str2)):\n",
        "            i+=1\n",
        " \n",
        "        elif(len(str1)==len(str2)):\n",
        "            pass\n",
        "        else:\n",
        "            i-=1     \n",
        "        if(count>1):\n",
        "             ss-=1\n",
        "             \n",
        "        i+=1\n",
        "        j+=1\n",
        "        if(count<2):\n",
        "             ss+=1\n",
        " \n",
        "    return ss\n",
        "s1=input(\"enter a string 1:\")\n",
        "s2=input(\"enter the string2:\")\n",
        "t=nearlyeq(s1,s2)\n",
        "if(t>1):\n",
        "    print(\"neraly equal0\")\n",
        "else:\n",
        "    print(\"not nearly equal\")"
      ],
      "execution_count": null,
      "outputs": [
        {
          "name": "stdout",
          "output_type": "stream",
          "text": [
            "enter a string 1:56\n",
            "enter the string2:65\n",
            "not nearly equal\n"
          ]
        }
      ]
    },
    {
      "cell_type": "markdown",
      "metadata": {
        "id": "rCjrOgFSzsED"
      },
      "source": [
        "**AIM:**"
      ]
    },
    {
      "cell_type": "markdown",
      "metadata": {
        "id": "A92g1cLBzsv-"
      },
      "source": [
        " b) Write a function dup to find all duplicates in the list."
      ]
    },
    {
      "cell_type": "markdown",
      "metadata": {
        "id": "y0PaYt_fz1ic"
      },
      "source": [
        "**DESCRIPTION:**\n",
        " \n",
        "To check if a list contains any duplicate element follow the following steps,\n",
        " \n",
        "1. Add the contents of list in a set.\n",
        " \n",
        "        As set contains only unique elements, so no duplicates will be added   the the set.\n",
        " \n",
        "2. Compare the size of set and list.\n",
        " \n",
        "            If size of list & set is equal then it means no duplicates in list.\n",
        " \n",
        "3. If size of list & set are different then it means yes, there are duplicates in list."
      ]
    },
    {
      "cell_type": "code",
      "metadata": {
        "colab": {
          "base_uri": "https://localhost:8080/"
        },
        "id": "VUJGMhPRz8p8",
        "outputId": "31ce544d-3c5c-4dfa-d47e-f81a403b61ad"
      },
      "source": [
        "def dups(numlist):\n",
        "    temp=[]\n",
        "    for i in numlist:\n",
        "        cnt=numlist.count(i)\n",
        "        if(cnt>1 and (i not in temp)):\n",
        "            temp.append(i)\n",
        "    print(\"Duplicates in the list: \",temp)\n",
        " \n",
        "lst=[1,2,6,9,1,3,5,2,1]\n",
        "print(\"Given elements in the list: \",lst)\n",
        "dups(lst)"
      ],
      "execution_count": null,
      "outputs": [
        {
          "name": "stdout",
          "output_type": "stream",
          "text": [
            "Given elements in the list:  [1, 2, 6, 9, 1, 3, 5, 2, 1]\n",
            "Duplicates in the list:  [1, 2]\n"
          ]
        }
      ]
    },
    {
      "cell_type": "markdown",
      "metadata": {
        "id": "ulGb34Bg0EiA"
      },
      "source": [
        "**AIM:**"
      ]
    },
    {
      "cell_type": "markdown",
      "metadata": {
        "id": "lynFLDnk0FZr"
      },
      "source": [
        " c) Write a function unique to find all the unique elements of a list."
      ]
    },
    {
      "cell_type": "markdown",
      "metadata": {
        "id": "AhndRXS80NO0"
      },
      "source": [
        "**DESCRIPTION:**\n",
        " \n",
        "To find the unique in the list .There is a Specific Method i.e.,\n",
        " \n",
        "Method  : Traversal of list\n",
        " \n",
        "Using traversal, we can traverse for every element in the list and check if the element is in the unique_list already if it is not over there, then we can append it in the unique_list. \n",
        " \n",
        "This is done using one for loop and other if statement which check if the value is in the unique list or not which is equivalent to another for loop."
      ]
    },
    {
      "cell_type": "markdown",
      "metadata": {
        "id": "5o52lUfq0WZn"
      },
      "source": [
        " **PROGRAM:**"
      ]
    },
    {
      "cell_type": "code",
      "metadata": {
        "colab": {
          "base_uri": "https://localhost:8080/"
        },
        "id": "kH1yyuJQ0bjh",
        "outputId": "d2ab4ca9-0b4d-4d43-94ab-191d151a8e6f"
      },
      "source": [
        "def dups(numlist):\n",
        "    temp=[]\n",
        "    for i in numlist:\n",
        "        cnt=numlist.count(i)\n",
        "        if cnt==1:\n",
        "            temp.append(i)\n",
        "    print(\"Unique in the list: \",temp)\n",
        " \n",
        "lst=[1,2,6,9,1,3,5,2,1]\n",
        "print(\"Given elements in the list: \",lst)\n",
        "dups(lst)"
      ],
      "execution_count": null,
      "outputs": [
        {
          "name": "stdout",
          "output_type": "stream",
          "text": [
            "Given elements in the list:  [1, 2, 6, 9, 1, 3, 5, 2, 1]\n",
            "Unique in the list:  [6, 9, 3, 5]\n"
          ]
        }
      ]
    },
    {
      "cell_type": "markdown",
      "metadata": {
        "id": "ZY4qv-zp0jK7"
      },
      "source": [
        "## **Exercise - 10 - Functions - Problem Solving**\n",
        " \n",
        "**AIM**:\n",
        " \n",
        "a) Write a function cumulative product to compute cumulative product of a list of numbers."
      ]
    },
    {
      "cell_type": "markdown",
      "metadata": {
        "id": "Ic6VODM30peP"
      },
      "source": [
        "**DESCRIPTION:**\n",
        " \n",
        "A cumulative product is a sequence of partial products of a given sequence. For example, the cumulative products of the sequence. , are , , .. Cumulative products can be implemented in the Wolfram Language as Rest[FoldList[Times, 1, list]]\n",
        " \n",
        "cumprod(A,1) works on successive elements in the columns of A and returns the cumulative products of each column. cumprod(A,2) works on successive elements in the rows of A and returns the cumulative products of each row.\n",
        " \n",
        "umprod() function is used when we want to compute the cumulative product of array elements over a given axis. Syntax : numpy.cumprod(arr, axis=None, dtype=None, out=None) Parameters : arr : [array_like] Array containing numbers whose cumulative product is desired."
      ]
    },
    {
      "cell_type": "markdown",
      "metadata": {
        "id": "Au41zM1B0txA"
      },
      "source": [
        "**PROGRAM**"
      ]
    },
    {
      "cell_type": "code",
      "metadata": {
        "colab": {
          "base_uri": "https://localhost:8080/"
        },
        "id": "ARGg8wuT00lf",
        "outputId": "8b1c1609-b611-4722-ca16-dcfd815b8f6f"
      },
      "source": [
        "def cum_prod(numlist):\n",
        "    prod=1\n",
        "    temp=[]\n",
        "    for i in numlist:\n",
        "        prod*=i\n",
        "        temp.append(prod)\n",
        "    return temp\n",
        " \n",
        "lst=[1,2,4,5,3]\n",
        "print(\"Given elements in the list: \",lst)\n",
        "print(\"Cumulative Product list is: \",cum_prod(lst))"
      ],
      "execution_count": null,
      "outputs": [
        {
          "name": "stdout",
          "output_type": "stream",
          "text": [
            "Given elements in the list:  [1, 2, 4, 5, 3]\n",
            "Cumulative Product list is:  [1, 2, 8, 40, 120]\n"
          ]
        }
      ]
    },
    {
      "cell_type": "markdown",
      "metadata": {
        "id": "oGG91vb_06xi"
      },
      "source": [
        "**AIM:**"
      ]
    },
    {
      "cell_type": "markdown",
      "metadata": {
        "id": "77roYmol1PdQ"
      },
      "source": [
        "b) Write a function reverse to reverse a list. Without using the reverse function."
      ]
    },
    {
      "cell_type": "markdown",
      "metadata": {
        "id": "y2SDxR941hSa"
      },
      "source": [
        "**DESCRIPTION:**\n",
        " \n",
        "In this Python code snippet post, we are going to implement a list reverse function from the scratch without using any builtin functions.\n",
        " \n",
        "Let us see how…\n",
        " \n",
        "Iterative solution\n",
        " \n",
        "We can use a for loop to swap the first and last items, the second and the one before the last item and so on until the list is reversed in place. The number of iterations needed is half the list size. If the list has an odd number of items then the middle item will stay in its place."
      ]
    },
    {
      "cell_type": "markdown",
      "metadata": {
        "id": "KK11NI2_1nhL"
      },
      "source": [
        "**PROGRAM:**"
      ]
    },
    {
      "cell_type": "code",
      "metadata": {
        "colab": {
          "base_uri": "https://localhost:8080/"
        },
        "id": "cUcX4e1H1x2i",
        "outputId": "e46d3b33-f4a9-4449-fb64-65fd4f499878"
      },
      "source": [
        "def reverse_list(numlist):\n",
        "    i=0\n",
        "    j=len(numlist)-1\n",
        "    while(i<=j):\n",
        "        temp=numlist[i]\n",
        "        numlist[i]=numlist[j]\n",
        "        numlist[j]=temp\n",
        "        j-=1\n",
        "        i+=1\n",
        "    return numlist\n",
        "lst=[1,2,3,4]\n",
        "print(\"Given list is: \",lst)\n",
        "reverse_list(lst)\n",
        "print(\"Reverse of the given list is: \",lst)"
      ],
      "execution_count": null,
      "outputs": [
        {
          "name": "stdout",
          "output_type": "stream",
          "text": [
            "Given list is:  [1, 2, 3, 4]\n",
            "Reverse of the given list is:  [4, 3, 2, 1]\n"
          ]
        }
      ]
    },
    {
      "cell_type": "markdown",
      "metadata": {
        "id": "eLcPay4u15qd"
      },
      "source": [
        "**AIM:**"
      ]
    },
    {
      "cell_type": "markdown",
      "metadata": {
        "id": "fQRYUFYO1-7M"
      },
      "source": [
        "c) Write function to compute gcd, lcm of two numbers. Each function shouldn’t exceed one line."
      ]
    },
    {
      "cell_type": "markdown",
      "metadata": {
        "id": "zmLoWXKV2JWw"
      },
      "source": [
        "**DESCRIPTION:**\n",
        " \n",
        "Python provides you an anonymous function called lambda. It can take any number of\n",
        "arguments, but can only have one expression. It can be used to find LCM and GCD values without exceeding each from from one line.\n",
        " \n",
        "The general format is\n",
        " \n",
        "**lambda arguments: expression**\n",
        " \n",
        "The expression is executed during the function call and the result is returned. \n",
        " \n",
        "**Lambda as a Function**\n",
        " \n",
        "The power of using a lambda expression is implementing it using a function"
      ]
    },
    {
      "cell_type": "markdown",
      "metadata": {
        "id": "CvVUeFz42O8Z"
      },
      "source": [
        "**PROGRAM:**"
      ]
    },
    {
      "cell_type": "code",
      "metadata": {
        "colab": {
          "base_uri": "https://localhost:8080/"
        },
        "id": "tFUqfJ1C2Sqm",
        "outputId": "cf5c3e08-50a9-4f92-9ebf-9372b0a94529"
      },
      "source": [
        "gcd=lambda a,b: a if b==0 else gcd(a,a%b)\n",
        "lcm=lambda a,b: (a*b)/gcd(a,b)\n",
        " \n",
        "x=4\n",
        "y=24\n",
        "print(\"The Given Numbers: \",x,y)\n",
        "print(\"GCD is: \",gcd(x,y))\n",
        "print(\"LCM is: \",lcm(x,y))"
      ],
      "execution_count": null,
      "outputs": [
        {
          "name": "stdout",
          "output_type": "stream",
          "text": [
            "The Given Numbers:  4 24\n",
            "GCD is:  4\n",
            "LCM is:  24.0\n"
          ]
        }
      ]
    },
    {
      "cell_type": "markdown",
      "metadata": {
        "id": "cQdV2wZV2anA"
      },
      "source": [
        "# **Exercise 11 - Multi-D Lists**\n",
        "**AIM**:\n",
        " \n",
        "a) Write a program that defines a matrix and prints"
      ]
    },
    {
      "cell_type": "markdown",
      "metadata": {
        "id": "6pCPlZJY2gvU"
      },
      "source": [
        "**DESCRIPTION:**\n",
        " \n",
        "Lists are a very widely use data structure in python. They contain a list of elements separated by comma. But sometimes lists can also contain lists within them. These are called nested lists or multidimensional lists. In this article we will see how to create and access elements in a multidimensional list.\n",
        " \n",
        "**Methods on Multidimensional lists**\n",
        " \n",
        "1. append(): Adds an element at the end of the list.\n",
        " \n",
        "2. extend(): Add the elements of a list (or any iterable), to the end of the current list.\n",
        " \n",
        "3. reverse(): Reverses the order of the list."
      ]
    },
    {
      "cell_type": "markdown",
      "metadata": {
        "id": "nbLFT20E292Q"
      },
      "source": [
        "**PROGRAM:**"
      ]
    },
    {
      "cell_type": "code",
      "metadata": {
        "colab": {
          "base_uri": "https://localhost:8080/"
        },
        "id": "-8h6KeuH3Cj8",
        "outputId": "11e3fef0-71ed-4f67-ff7d-9675706f4daf"
      },
      "source": [
        "matA=[[]]\n",
        "rows=int(input(\"Enter row size of Matrix:\"))\n",
        "cols=int(input(\"Enter column size of Matrix: \"))\n",
        " \n",
        "matA=[[int(input(\"Enter [%d,%d] value: \"%(i,j)))for j in range(cols)]for i in range(rows)]\n",
        " \n",
        "print(\"Matrix is: \")\n",
        "for i in range(rows):\n",
        "    for j in range(cols):\n",
        "        print(matA[i][j],end='\\t')\n",
        "    print()"
      ],
      "execution_count": null,
      "outputs": [
        {
          "name": "stdout",
          "output_type": "stream",
          "text": [
            "Enter row size of Matrix:3\n",
            "Enter column size of Matrix: 3\n",
            "Enter [0,0] value: 23\n",
            "Enter [0,1] value: 21\n",
            "Enter [0,2] value: 1\n",
            "Enter [1,0] value: 4\n",
            "Enter [1,1] value: 5\n",
            "Enter [1,2] value: 6\n",
            "Enter [2,0] value: 6\n",
            "Enter [2,1] value: 6\n",
            "Enter [2,2] value: 6\n",
            "Matrix is: \n",
            "23\t21\t1\t\n",
            "4\t5\t6\t\n",
            "6\t6\t6\t\n"
          ]
        }
      ]
    },
    {
      "cell_type": "markdown",
      "metadata": {
        "id": "MK4twTZp3HXO"
      },
      "source": [
        "**AIM:**"
      ]
    },
    {
      "cell_type": "markdown",
      "metadata": {
        "id": "Hvgvhqob3LMk"
      },
      "source": [
        "b) Write a program to perform addition of two square matrices"
      ]
    },
    {
      "cell_type": "markdown",
      "metadata": {
        "id": "ViRi1FLY3PiQ"
      },
      "source": [
        "**DESCRIPTION:**\n",
        " \n",
        "We can perform matrix addition in following ways in Python.  \n",
        " \n",
        "1. Using for loop: \n",
        " \n",
        "**Explanation** :- \n",
        "In this program we have used nested for loops to iterate through each row and each column. At each point we add the corresponding elements in the two matrices and store it in the result.\n",
        " \n",
        "2. Using nested list comprehension :\n",
        " \n",
        " In Python, we can implement a matrix as nested list (list inside a list). We can treat each element as a row of the matrix. \n",
        " \n",
        "**Explanation :-**\n",
        " \n",
        "The output of this program is the same as above. We have used nested list comprehension to iterate through each element in the matrix. List comprehension allows us to write concise codes and we must try to use them frequently in Python. They are very helpful.\n",
        " \n",
        "3. uising zip function\n",
        " \n",
        "**Explanation :**\n",
        " \n",
        "The zip function accepts iterator i of each element(list) of matrix, mapping them, adding them using sum() and storing them in the map form."
      ]
    },
    {
      "cell_type": "markdown",
      "metadata": {
        "id": "DrFrGaes3WOc"
      },
      "source": [
        "**PROGRAM:**"
      ]
    },
    {
      "cell_type": "code",
      "metadata": {
        "colab": {
          "base_uri": "https://localhost:8080/"
        },
        "id": "vKLI2RVd3XC9",
        "outputId": "700cdde7-a506-4e2e-dab0-c5084008763e"
      },
      "source": [
        "def matRead(r,c):\n",
        "   return[[int(input(\"[%d,%d]value: \"%(i,j)))for j in range(c)] for i in range(r)]\n",
        " \n",
        "def matDisp(mat,r,c):\n",
        "    for i in range(r):\n",
        "        for j in range(c):\n",
        "            print(mat[i][j],end='\\t')\n",
        "        print()\n",
        " \n",
        "matA=[[]]\n",
        "matB=[[]]\n",
        "matSum=[[]]\n",
        "rows=int(input(\"Enter Row Size of the Matrix: \"))\n",
        "cols=int(input(\"Enter column size of the Matrix: \"))\n",
        "if rows==cols:\n",
        "    print(\"Enter Matrix-A elements: \")\n",
        "    matA=matRead(rows,cols)\n",
        " \n",
        "    print(\"Enter Matrix-B elements: \")\n",
        "    matB=matRead(rows,cols)\n",
        " \n",
        "    print(\"Matrix-A is: \")\n",
        "    matDisp(matA,rows,cols)\n",
        " \n",
        "    print(\"Matrix-B is: \")\n",
        "    matDisp(matB,rows,cols)\n",
        " \n",
        "    matSum=[[matA[i][j]+matB[i][j] for j in range(cols)] for i in range(rows)]\n",
        "    print(\"Sum of Matrices is: \")\n",
        "    matDisp(matSum,rows,cols)\n",
        "else:\n",
        "    print(\"Matrices Addition is not possible\")"
      ],
      "execution_count": null,
      "outputs": [
        {
          "name": "stdout",
          "output_type": "stream",
          "text": [
            "Enter Row Size of the Matrix: 2\n",
            "Enter column size of the Matrix: 3\n",
            "Matrices Addition is not possible\n"
          ]
        }
      ]
    },
    {
      "cell_type": "markdown",
      "metadata": {
        "id": "tkqF0yvH3e1r"
      },
      "source": [
        " **AIM:**"
      ]
    },
    {
      "cell_type": "markdown",
      "metadata": {
        "id": "AJizRrzz3nfc"
      },
      "source": [
        "c) Write a program to perform multiplication of two square"
      ]
    },
    {
      "cell_type": "markdown",
      "metadata": {
        "id": "vf5HrAtL3oC7"
      },
      "source": [
        " **DESCRIPTION:**\n",
        " \n",
        "In Python, we can implement a matrix as nested list (list inside a list).\n",
        " \n",
        "We can treat each element as a row of the matrix.\n",
        " \n",
        "For example X = [[1, 2], [4, 5], [3, 6]] would represent a 3x2 matrix.\n",
        " \n",
        "The first row can be selected as X[0]. And, the element in first row, first column can be selected as X[0][0].\n",
        " \n",
        "Multiplication of two matrices X and Y is defined only if the number of columns in X is equal to the number of rows Y.\n",
        " \n",
        "If X is a n x m matrix and Y is a m x l matrix then, XY is defined and has the dimension n x l (but YX is not defined). Here are a couple of ways to implement matrix multiplication in Python."
      ]
    },
    {
      "cell_type": "markdown",
      "metadata": {
        "id": "wnKLYnab3wvx"
      },
      "source": [
        "**PROGRAM:**"
      ]
    },
    {
      "cell_type": "code",
      "metadata": {
        "colab": {
          "base_uri": "https://localhost:8080/"
        },
        "id": "Et7ZbO2sK6dL",
        "outputId": "b288f8bc-f651-4b28-f3e0-637750413c89"
      },
      "source": [
        "2def matRead(r,c):\n",
        "   return[[int(input(\"[%d,%d]value: \"%(i,j)))for j in range(c)] for i in range(r)]\n",
        " \n",
        "def matDisp(mat,r,c):\n",
        "    for i in range(r):\n",
        "        for j in range(c):\n",
        "            print(mat[i][j],end='\\t')\n",
        "        print()\n",
        " \n",
        "matA=[[]]\n",
        "matB=[[]]\n",
        "matMul=[[]]\n",
        "rows=int(input(\"Enter Row Size of the Matrix: \"))\n",
        "cols=int(input(\"Enter column size of the Matrix: \"))\n",
        "if rows==cols:\n",
        "    print(\"Enter Matrix-A: \")\n",
        "    matA=matRead(rows,cols)\n",
        " \n",
        "    print(\"Enter Matrix-B: \")\n",
        "    matB=matRead(rows,cols)\n",
        " \n",
        "    matMul=[[0 for j in range(cols)] for i in range(rows)]\n",
        " \n",
        "    for i in range(rows):\n",
        "        for j in range(cols):\n",
        "            for k in range(cols):\n",
        "                matMul[i][j]+=matA[i][k]*matB[k][j]\n",
        "                \n",
        "    print(\"Matrix-A is: \")\n",
        "    matDisp(matA,rows,cols)\n",
        " \n",
        "    print(\"Matrix-B is: \")\n",
        "    matDisp(matB,rows,cols)\n",
        " \n",
        "    print(\"Multiplication of Matrices is: \")\n",
        "    matDisp(matMul,rows,cols)\n",
        "else:\n",
        "    print(\"Matrices Multiplication is not possible\")"
      ],
      "execution_count": null,
      "outputs": [
        {
          "name": "stdout",
          "output_type": "stream",
          "text": [
            "Enter Row Size of the Matrix: 3\n",
            "Enter column size of the Matrix: 3\n",
            "Enter Matrix-A: \n",
            "[0,0]value: 2\n",
            "[0,1]value: 3\n",
            "[0,2]value: 3\n",
            "[1,0]value: 4\n",
            "[1,1]value: 4\n",
            "[1,2]value: 5\n",
            "[2,0]value: 5\n",
            "[2,1]value: 6\n",
            "[2,2]value: 6\n",
            "Enter Matrix-B: \n",
            "[0,0]value: 6\n",
            "[0,1]value: 6\n",
            "[0,2]value: 5\n",
            "[1,0]value: 5\n",
            "[1,1]value: 4\n",
            "[1,2]value: 4\n",
            "[2,0]value: 3\n",
            "[2,1]value: 3\n",
            "[2,2]value: 2\n",
            "Matrix-A is: \n",
            "2\t3\t3\t\n",
            "4\t4\t5\t\n",
            "5\t6\t6\t\n",
            "Matrix-B is: \n",
            "6\t6\t5\t\n",
            "5\t4\t4\t\n",
            "3\t3\t2\t\n",
            "Multiplication of Matrices is: \n",
            "36\t33\t28\t\n",
            "59\t55\t46\t\n",
            "78\t72\t61\t\n"
          ]
        }
      ]
    },
    {
      "cell_type": "markdown",
      "metadata": {
        "id": "KR3xHEv1K_S7"
      },
      "source": [
        "# **Exercise-12-Modules**"
      ]
    },
    {
      "cell_type": "markdown",
      "metadata": {
        "id": "DQrw5C36LDUR"
      },
      "source": [
        "**AIM:**"
      ]
    },
    {
      "cell_type": "markdown",
      "metadata": {
        "id": "VAf8-cnqLHi6"
      },
      "source": [
        "a) Install packages requests,flask and explore them using(pip)"
      ]
    },
    {
      "cell_type": "markdown",
      "metadata": {
        "id": "h6m6Sa2fLLOC"
      },
      "source": [
        "**DESCRIPTION:**\n",
        " \n",
        "Installing the pip Python package manager on Windows\n",
        "If you are on Windows, and your installed Python the current version, you already have pip! If your Python installation is not the most recent, the easiest thing to do is to simply reinstall it. Download the Python Windows installer at https://www.python.org/downloads/.\n",
        " \n",
        "In Windows, the variable that controls which programs are accessible from the command line is path. To modify your path to include Python and pip, we have to add C:\\Python27 and C:\\Python27\\Tools. Edit the Windows path by opening the Windows menu, right-clicking on Computer and clicking on Properties. Under Advanced system settings, click Environment Variables.... Scroll down until you find Path, double-click it, and add ;C:\\Python27;C:\\Python27\\Tools to the end.\n",
        " \n",
        "**Installing packages:**\n",
        " \n",
        "Suppose you want to install a package called requests (which is used to make HTTP requests). You need to issue the following command.\n",
        " \n",
        "pip install requests\n",
        " \n",
        "**show installed packages**\n",
        " \n",
        "You can use the following command to get information about a installed package, i.e Package name, version, location, dependencies.\n",
        " \n",
        "pip show package_name\n",
        " \n",
        "**install flask**\n",
        " \n",
        "On Mac and Linux, because you are installing programs outside the user-owned folders, you might have to prepend sudo to the install commands. To install Flask, simply run this:\n",
        " \n",
        "$ pip install flask\n",
        " \n",
        "**show installed flask**\n",
        " \n",
        "You can use the following command to get information about a installed flask, i.e Package name, version, location, dependencies\n",
        " \n",
        "$ pip show flask"
      ]
    },
    {
      "cell_type": "markdown",
      "metadata": {
        "id": "bQrZCFcOLVPB"
      },
      "source": [
        "**PROGRAM:**"
      ]
    },
    {
      "cell_type": "markdown",
      "metadata": {
        "id": "KNM--lq2LlKt"
      },
      "source": [
        "The requests and flask packages are downloaded from internet using the following commands."
      ]
    },
    {
      "cell_type": "code",
      "metadata": {
        "id": "IOMJmkTu2pVn"
      },
      "source": [
        " The requests and flask packages are download from internet using the following commands.\n",
        "\n",
        "C:\\python3.9\\scripts>pip install requests\n",
        "\n",
        "C:\\python3.9\\scripts>pip show requests\n",
        "\n",
        "C:\\python3.9\\scripts>pip install flask\n",
        "\n",
        "C:\\python3.9\\scripts>pip show flask"
      ],
      "execution_count": null,
      "outputs": []
    },
    {
      "cell_type": "markdown",
      "metadata": {
        "id": "rFl5mA_RMOcJ"
      },
      "source": [
        "**AIM:**"
      ]
    },
    {
      "cell_type": "markdown",
      "metadata": {
        "id": "FX9_NAm8MRR0"
      },
      "source": [
        "b) Write a scripts that imports requests and fetch content from the page.Eg. (Wiki)code:"
      ]
    },
    {
      "cell_type": "markdown",
      "metadata": {
        "id": "VvCQo6yZMUSi"
      },
      "source": [
        "**DESCRIPTION:**\n",
        " \n",
        "The Hypertext Transfer Protocol (HTTP) is an application protocol for distributed, collaborative, hypermedia information systems. HTTP is the foundation of data communication for the World Wide Web.\n",
        " \n",
        "**Python requests**\n",
        " \n",
        "Requests is a simple and elegant Python HTTP library. It provides methods for accessing Web resources via HTTP.\n",
        " \n",
        "**Python requests reading a web page**\n",
        " \n",
        "The **get()** method issues a GET request; it fetches documents identified by the given URL."
      ]
    },
    {
      "cell_type": "markdown",
      "metadata": {
        "id": "lwzc-VgQMYxC"
      },
      "source": [
        "**PROGRAM:**"
      ]
    },
    {
      "cell_type": "code",
      "metadata": {
        "colab": {
          "base_uri": "https://localhost:8080/"
        },
        "id": "uOF6bH9CYvkn",
        "outputId": "07374c18-99ea-42bf-cc67-c5ed8eca2888"
      },
      "source": [
        " import requests\n",
        "r=requests.get('https://www.google.com')\n",
        "print(\"status code:\",r.status_code)\n",
        "print(\"header content:\",r.headers['content-type'])\n",
        "print(r.text)"
      ],
      "execution_count": null,
      "outputs": [
        {
          "name": "stdout",
          "output_type": "stream",
          "text": [
            "status code: 200\n",
            "header content: text/html; charset=ISO-8859-1\n",
            "<!doctype html><html itemscope=\"\" itemtype=\"http://schema.org/WebPage\" lang=\"zh-TW\"><head><meta content=\"text/html; charset=UTF-8\" http-equiv=\"Content-Type\"><meta content=\"/images/branding/googleg/1x/googleg_standard_color_128dp.png\" itemprop=\"image\"><title>Google</title><script nonce=\"FjKgAuTmFze5J6oqrHTYCw==\">(function(){window.google={kEI:'C4o4YdiNLrKUmAWEyIj4Dg',kEXPI:'0,772215,1,530320,56873,954,5104,207,2414,2390,2316,383,246,5,1354,5251,1122515,1197701,582,111,328873,51224,16108,28690,17572,4858,1362,9290,3026,4748,12835,4998,13228,3847,10622,19048,2774,919,5081,887,708,1277,2212,530,149,1103,840,1983,214,4100,3514,606,2023,1777,520,14670,3227,1989,856,7,4811,7543,5096,11624,4143,554,907,2,940,2615,13142,3,346,230,6459,149,13975,4,1528,2301,1239,10486,2015,18375,2658,4163,80,2458,656,30,11412,4522,639,1492,5586,3772,7428,2521,3294,2314,228,4094,17,3122,5,908,3,3541,1,14710,1814,283,38,874,5992,16728,1715,2,3057,10965,1931,1145,387,2379,407,1271,743,5853,1576,3,472,7269,1143,1160,1267,2,2834,2306,290,2380,2719,4038,2,506,3,5473,360,5029,460,2372,2,6,186,2,7584,1933,2635,383,1214,981,3120,561,2467,2107,794,49,1215,85,813,27,2,4,1627,49,539,720,2,1464,2391,1162,276,519,371,557,533,22,2,506,67,28,21,33,2,371,36,691,12,484,773,10,672,419,807,977,109,151,90,309,658,138,191,934,1344,379,111,256,39,31,5,789,2,6,647,110,39,84,1249,2,852,246,1301,723,8,165,1252,5580829,226,220,73,206,5995418,651,521,2800696,882,444,1,2,80,1,1796,1,9,2553,1,889,795,2,561,1,4265,1,1,2,1331,4142,2609,155,17,13,72,139,4,2,20,2,169,13,19,46,5,39,96,548,29,2,2,1,2,1,2,2,7,4,1,2,2,2,2,2,2,353,513,186,1,1,158,3,2,2,2,2,2,4,2,3,3,269,501,4,5,4,6,6,23654331,299866,4041351,338,3,2414,448,2,463,172,406,9,2696,2079',kBL:'Wtym'};google.sn='webhp';google.kHL='zh-TW';})();(function(){\n",
            "var f=this||self;var h,k=[];function l(a){for(var b;a&&(!a.getAttribute||!(b=a.getAttribute(\"eid\")));)a=a.parentNode;return b||h}function m(a){for(var b=null;a&&(!a.getAttribute||!(b=a.getAttribute(\"leid\")));)a=a.parentNode;return b}\n",
            "function n(a,b,c,d,g){var e=\"\";c||-1!==b.search(\"&ei=\")||(e=\"&ei=\"+l(d),-1===b.search(\"&lei=\")&&(d=m(d))&&(e+=\"&lei=\"+d));d=\"\";!c&&f._cshid&&-1===b.search(\"&cshid=\")&&\"slh\"!==a&&(d=\"&cshid=\"+f._cshid);c=c||\"/\"+(g||\"gen_204\")+\"?atyp=i&ct=\"+a+\"&cad=\"+b+e+\"&zx=\"+Date.now()+d;/^http:/i.test(c)&&\"https:\"===window.location.protocol&&(google.ml&&google.ml(Error(\"a\"),!1,{src:c,glmm:1}),c=\"\");return c};h=google.kEI;google.getEI=l;google.getLEI=m;google.ml=function(){return null};google.log=function(a,b,c,d,g){if(c=n(a,b,c,d,g)){a=new Image;var e=k.length;k[e]=a;a.onerror=a.onload=a.onabort=function(){delete k[e]};a.src=c}};google.logUrl=n;}).call(this);(function(){\n",
            "google.y={};google.sy=[];google.x=function(a,b){if(a)var c=a.id;else{do c=Math.random();while(google.y[c])}google.y[c]=[a,b];return!1};google.sx=function(a){google.sy.push(a)};google.lm=[];google.plm=function(a){google.lm.push.apply(google.lm,a)};google.lq=[];google.load=function(a,b,c){google.lq.push([[a],b,c])};google.loadAll=function(a,b){google.lq.push([a,b])};google.bx=!1;google.lx=function(){};}).call(this);google.f={};(function(){\n",
            "document.documentElement.addEventListener(\"submit\",function(b){var a;if(a=b.target){var c=a.getAttribute(\"data-submitfalse\");a=\"1\"==c||\"q\"==c&&!a.elements.q.value?!0:!1}else a=!1;a&&(b.preventDefault(),b.stopPropagation())},!0);document.documentElement.addEventListener(\"click\",function(b){var a;a:{for(a=b.target;a&&a!=document.documentElement;a=a.parentElement)if(\"A\"==a.tagName){a=\"1\"==a.getAttribute(\"data-nohref\");break a}a=!1}a&&b.preventDefault()},!0);}).call(this);</script><style>#gbar,#guser{font-size:13px;padding-top:1px !important;}#gbar{height:22px}#guser{padding-bottom:7px !important;text-align:right}.gbh,.gbd{border-top:1px solid #c9d7f1;font-size:1px}.gbh{height:0;position:absolute;top:24px;width:100%}@media all{.gb1{height:22px;margin-right:.5em;vertical-align:top}#gbar{float:left}}a.gb1,a.gb4{text-decoration:underline !important}a.gb1,a.gb4{color:#00c !important}.gbi .gb4{color:#dd8e27 !important}.gbf .gb4{color:#900 !important}\n",
            "</style><style>body,td,a,p,.h{font-family:arial,sans-serif}body{margin:0;overflow-y:scroll}#gog{padding:3px 8px 0}td{line-height:.8em}.gac_m td{line-height:17px}form{margin-bottom:20px}.h{color:#1558d6}em{color:#c5221f;font-style:normal;font-weight:normal}a em{text-decoration:underline}.lst{height:25px;width:496px}.gsfi,.lst{font:18px arial,sans-serif}.gsfs{font:17px arial,sans-serif}.ds{display:inline-box;display:inline-block;margin:3px 0 4px;margin-left:4px}input{font-family:inherit}body{background:#fff;color:#000}a{color:#4b11a8;text-decoration:none}a:hover,a:active{text-decoration:underline}.fl a{color:#1558d6}a:visited{color:#4b11a8}.sblc{padding-top:5px}.sblc a{display:block;margin:2px 0;margin-left:13px;font-size:11px}.lsbb{background:#f8f9fa;border:solid 1px;border-color:#dadce0 #70757a #70757a #dadce0;height:30px}.lsbb{display:block}#WqQANb a{display:inline-block;margin:0 12px}.lsb{background:url(/images/nav_logo229.png) 0 -261px repeat-x;border:none;color:#000;cursor:pointer;height:30px;margin:0;outline:0;font:15px arial,sans-serif;vertical-align:top}.lsb:active{background:#dadce0}.lst:focus{outline:none}</style><script nonce=\"FjKgAuTmFze5J6oqrHTYCw==\"></script></head><body bgcolor=\"#fff\"><script nonce=\"FjKgAuTmFze5J6oqrHTYCw==\">(function(){var src='/images/nav_logo229.png';var iesg=false;document.body.onload = function(){window.n && window.n();if (document.images){new Image().src=src;}\n",
            "if (!iesg){document.f&&document.f.q.focus();document.gbqf&&document.gbqf.q.focus();}\n",
            "}\n",
            "})();</script><div id=\"mngb\"><div id=gbar><nobr><b class=gb1>&#25628;&#23563;</b> <a class=gb1 href=\"https://www.google.com.tw/imghp?hl=zh-TW&tab=wi\">&#22294;&#29255;</a> <a class=gb1 href=\"https://maps.google.com.tw/maps?hl=zh-TW&tab=wl\">&#22320;&#22294;</a> <a class=gb1 href=\"https://play.google.com/?hl=zh-TW&tab=w8\">Play</a> <a class=gb1 href=\"https://www.youtube.com/?gl=TW&tab=w1\">YouTube</a> <a class=gb1 href=\"https://news.google.com/?tab=wn\">&#26032;&#32862;</a> <a class=gb1 href=\"https://mail.google.com/mail/?tab=wm\">Gmail</a> <a class=gb1 href=\"https://drive.google.com/?tab=wo\">&#38642;&#31471;&#30828;&#30879;</a> <a class=gb1 style=\"text-decoration:none\" href=\"https://www.google.com.tw/intl/zh-TW/about/products?tab=wh\"><u>&#26356;&#22810;</u> &raquo;</a></nobr></div><div id=guser width=100%><nobr><span id=gbn class=gbi></span><span id=gbf class=gbf></span><span id=gbe></span><a href=\"http://www.google.com.tw/history/optout?hl=zh-TW\" class=gb4>&#32178;&#38913;&#35352;&#37636;</a> | <a  href=\"/preferences?hl=zh-TW\" class=gb4>&#35373;&#23450;</a> | <a target=_top id=gb_70 href=\"https://accounts.google.com/ServiceLogin?hl=zh-TW&passive=true&continue=https://www.google.com/&ec=GAZAAQ\" class=gb4>&#30331;&#20837;</a></nobr></div><div class=gbh style=left:0></div><div class=gbh style=right:0></div></div><center><br clear=\"all\" id=\"lgpd\"><div id=\"lga\"><img alt=\"Google\" height=\"92\" src=\"/images/branding/googlelogo/1x/googlelogo_white_background_color_272x92dp.png\" style=\"padding:28px 0 14px\" width=\"272\" id=\"hplogo\"><br><br></div><form action=\"/search\" name=\"f\"><table cellpadding=\"0\" cellspacing=\"0\"><tr valign=\"top\"><td width=\"25%\">&nbsp;</td><td align=\"center\" nowrap=\"\"><input name=\"ie\" value=\"ISO-8859-1\" type=\"hidden\"><input value=\"zh-TW\" name=\"hl\" type=\"hidden\"><input name=\"source\" type=\"hidden\" value=\"hp\"><input name=\"biw\" type=\"hidden\"><input name=\"bih\" type=\"hidden\"><div class=\"ds\" style=\"height:32px;margin:4px 0\"><input class=\"lst\" style=\"margin:0;padding:5px 8px 0 6px;vertical-align:top;color:#000\" autocomplete=\"off\" value=\"\" title=\"Google &#25628;&#23563;\" maxlength=\"2048\" name=\"q\" size=\"57\"></div><br style=\"line-height:0\"><span class=\"ds\"><span class=\"lsbb\"><input class=\"lsb\" value=\"Google &#25628;&#23563;\" name=\"btnG\" type=\"submit\"></span></span><span class=\"ds\"><span class=\"lsbb\"><input class=\"lsb\" id=\"tsuid1\" value=\"&#22909;&#25163;&#27683;\" name=\"btnI\" type=\"submit\"><script nonce=\"FjKgAuTmFze5J6oqrHTYCw==\">(function(){var id='tsuid1';document.getElementById(id).onclick = function(){if (this.form.q.value){this.checked = 1;if (this.form.iflsig)this.form.iflsig.disabled = false;}\n",
            "else top.location='/doodles/';};})();</script><input value=\"ALs-wAMAAAAAYTiYG3JxX-8CjZDb6T9f2giXBvtsCSv7\" name=\"iflsig\" type=\"hidden\"></span></span></td><td class=\"fl sblc\" align=\"left\" nowrap=\"\" width=\"25%\"><a href=\"/advanced_search?hl=zh-TW&amp;authuser=0\">&#36914;&#38542;&#25628;&#23563;</a></td></tr></table><input id=\"gbv\" name=\"gbv\" type=\"hidden\" value=\"1\"><script nonce=\"FjKgAuTmFze5J6oqrHTYCw==\">(function(){\n",
            "var a,b=\"1\";if(document&&document.getElementById)if(\"undefined\"!=typeof XMLHttpRequest)b=\"2\";else if(\"undefined\"!=typeof ActiveXObject){var c,d,e=[\"MSXML2.XMLHTTP.6.0\",\"MSXML2.XMLHTTP.3.0\",\"MSXML2.XMLHTTP\",\"Microsoft.XMLHTTP\"];for(c=0;d=e[c++];)try{new ActiveXObject(d),b=\"2\"}catch(h){}}a=b;if(\"2\"==a&&-1==location.search.indexOf(\"&gbv=2\")){var f=google.gbvu,g=document.getElementById(\"gbv\");g&&(g.value=a);f&&window.setTimeout(function(){location.href=f},0)};}).call(this);</script></form><div id=\"gac_scont\"></div><div style=\"font-size:83%;min-height:3.5em\"><br></div><span id=\"footer\"><div style=\"font-size:10pt\"><div style=\"margin:19px auto;text-align:center\" id=\"WqQANb\"><a href=\"/intl/zh-TW/ads/\">&#24291;&#21578;&#26381;&#21209;</a><a href=\"http://www.google.com.tw/intl/zh-TW/services/\">&#21830;&#26989;&#35299;&#27770;&#26041;&#26696;</a><a href=\"/intl/zh-TW/about.html\">&#38364;&#26044; Google</a><a href=\"https://www.google.com/setprefdomain?prefdom=TW&amp;prev=https://www.google.com.tw/&amp;sig=K_ixn4CISb7YC1_ZxmmwYT7XyymzI%3D\">Google.com.tw</a></div></div><p style=\"font-size:8pt;color:#70757a\">&copy; 2021 - <a href=\"/intl/zh-TW/policies/privacy/\">&#38577;&#31169;&#27402;</a> - <a href=\"/intl/zh-TW/policies/terms/\">&#26381;&#21209;&#26781;&#27454;</a></p></span></center><script nonce=\"FjKgAuTmFze5J6oqrHTYCw==\">(function(){window.google.cdo={height:757,width:1440};(function(){\n",
            "var a=window.innerWidth,b=window.innerHeight;if(!a||!b){var c=window.document,d=\"CSS1Compat\"==c.compatMode?c.documentElement:c.body;a=d.clientWidth;b=d.clientHeight}a&&b&&(a!=google.cdo.width||b!=google.cdo.height)&&google.log(\"\",\"\",\"/client_204?&atyp=i&biw=\"+a+\"&bih=\"+b+\"&ei=\"+google.kEI);}).call(this);})();</script> <script nonce=\"FjKgAuTmFze5J6oqrHTYCw==\">(function(){google.xjs={ck:'',cs:'',excm:[]};})();</script>  <script nonce=\"FjKgAuTmFze5J6oqrHTYCw==\">(function(){var u='/xjs/_/js/k\\x3dxjs.hp.en.uJVE4aH5PNY.O/am\\x3dAPgEWA/d\\x3d1/ed\\x3d1/rs\\x3dACT90oH46UR8q8EWogvmv18iTgG_1SJR5A/m\\x3dsb_he,d';\n",
            "var e=this||self,f=function(a){return a};var g;var l=function(a,b){this.g=b===h?a:\"\"};l.prototype.toString=function(){return this.g+\"\"};var h={};function m(){var a=u;google.lx=function(){n(a);google.lx=function(){}};google.bx||google.lx()}\n",
            "function n(a){google.timers&&google.timers.load&&google.tick&&google.tick(\"load\",\"xjsls\");var b=document;var c=\"SCRIPT\";\"application/xhtml+xml\"===b.contentType&&(c=c.toLowerCase());c=b.createElement(c);if(void 0===g){b=null;var k=e.trustedTypes;if(k&&k.createPolicy){try{b=k.createPolicy(\"goog#html\",{createHTML:f,createScript:f,createScriptURL:f})}catch(p){e.console&&e.console.error(p.message)}g=b}else g=b}a=(b=g)?b.createScriptURL(a):a;a=new l(a,h);c.src=a instanceof l&&a.constructor===l?a.g:\"type_error:TrustedResourceUrl\";var d;a=(c.ownerDocument&&c.ownerDocument.defaultView||window).document;(d=(b=null===(d=a.querySelector)||void 0===d?void 0:d.call(a,\"script[nonce]\"))?b.nonce||b.getAttribute(\"nonce\")||\"\":\"\")&&c.setAttribute(\"nonce\",d);document.body.appendChild(c);google.psa=!0};setTimeout(function(){m()},0);})();(function(){window.google.xjsu='/xjs/_/js/k\\x3dxjs.hp.en.uJVE4aH5PNY.O/am\\x3dAPgEWA/d\\x3d1/ed\\x3d1/rs\\x3dACT90oH46UR8q8EWogvmv18iTgG_1SJR5A/m\\x3dsb_he,d';})();function _DumpException(e){throw e;}\n",
            "function _F_installCss(c){}\n",
            "(function(){google.jl={attn:false,blt:'none',chnk:0,dw:false,emtn:0,end:0,ine:false,lls:'default',pdt:0,rep:0,sif:true,snet:true,strt:0,ubm:false,uwp:true};})();(function(){var pmc='{\\x22d\\x22:{},\\x22sb_he\\x22:{\\x22agen\\x22:true,\\x22cgen\\x22:true,\\x22client\\x22:\\x22heirloom-hp\\x22,\\x22dh\\x22:true,\\x22dhqt\\x22:true,\\x22ds\\x22:\\x22\\x22,\\x22ffql\\x22:\\x22zh-TW\\x22,\\x22fl\\x22:true,\\x22host\\x22:\\x22google.com\\x22,\\x22isbh\\x22:28,\\x22jsonp\\x22:true,\\x22msgs\\x22:{\\x22cibl\\x22:\\x22&#28165;&#38500;&#25628;&#23563;\\x22,\\x22dym\\x22:\\x22&#24744;&#26159;&#19981;&#26159;&#35201;&#26597;&#65306;\\x22,\\x22lcky\\x22:\\x22&#22909;&#25163;&#27683;\\x22,\\x22lml\\x22:\\x22&#30637;&#35299;&#35443;&#24773;\\x22,\\x22oskt\\x22:\\x22&#36664;&#20837;&#24037;&#20855;\\x22,\\x22psrc\\x22:\\x22&#24050;&#24478;&#24744;&#30340;&#12300;\\\\u003Ca href\\x3d\\\\\\x22/history\\\\\\x22\\\\u003E&#32178;&#38913;&#35352;&#37636;\\\\u003C/a\\\\u003E&#12301;&#20013;&#31227;&#38500;&#36889;&#31558;&#25628;&#23563;&#35352;&#37636;\\x22,\\x22psrl\\x22:\\x22&#31227;&#38500;\\x22,\\x22sbit\\x22:\\x22&#20197;&#22294;&#25628;&#23563;\\x22,\\x22srch\\x22:\\x22Google &#25628;&#23563;\\x22},\\x22ovr\\x22:{},\\x22pq\\x22:\\x22\\x22,\\x22refpd\\x22:true,\\x22refspre\\x22:true,\\x22rfs\\x22:[],\\x22sbas\\x22:\\x220 3px 8px 0 rgba(0,0,0,0.2),0 0 0 1px rgba(0,0,0,0.08)\\x22,\\x22sbpl\\x22:16,\\x22sbpr\\x22:16,\\x22scd\\x22:10,\\x22stok\\x22:\\x22HiAphhVeDjNasQaBqyZ4HQJhga8\\x22,\\x22uhde\\x22:false}}';google.pmc=JSON.parse(pmc);})();</script>        </body></html>\n"
          ]
        }
      ]
    },
    {
      "cell_type": "markdown",
      "metadata": {
        "id": "vG_gDsC5Mjz_"
      },
      "source": [
        "**AIM:**"
      ]
    },
    {
      "cell_type": "markdown",
      "metadata": {
        "id": "DL1fJFYaMnGW"
      },
      "source": [
        "c) Write a simple script that serves a simple HTTPResponse and Simple HTML page."
      ]
    },
    {
      "cell_type": "markdown",
      "metadata": {
        "id": "u0l7JPNxMq-1"
      },
      "source": [
        "**DESCRIPTION:**\n",
        " \n",
        "  **HTTP Protocol**\n",
        " \n",
        "The most important part of a web server is HTTP protocol.So now we will see what exactly this is –\n",
        " \n",
        "It stands for Hyper Text Transfer Protocol.\n",
        " \n",
        "It is an application layer protocol that allows web based applications to \n",
        "communicate and exchange data.\n",
        " \n",
        "The HTTP is the messenger of web.\n",
        " \n",
        "The computer that communicate via the HTTP must speak the HTTP protocol.\n",
        " \n",
        "It is a TCP/IP based protocol.\n",
        " \n",
        "It is used to deliver contents, for eg. images, audios, videos, documents etc.\n",
        " \n",
        "Using HTTP is the most convenient way to quickly and reliably move data on the web.\n",
        " \n",
        "HTML stands for hypertext markup language. It is the standard markup language for web pages that define the structure of the content. These elements are the building blocks of any website"
      ]
    },
    {
      "cell_type": "code",
      "metadata": {
        "colab": {
          "base_uri": "https://localhost:8080/"
        },
        "id": "Zlkhbc9rYzon",
        "outputId": "8b07967a-dfdf-461b-cb8f-9489575da608"
      },
      "source": [
        " from flask import Flask,render_template\n",
        "app=Flask(__name__)\n",
        "print(app)\n",
        "@app.route(\"/\")\n",
        "def main():\n",
        "  return render_template('login.html')\n",
        "  if __name__==\"__main__\":\n",
        "    app.run(host=\"127.0.0.1\",port=2500)"
      ],
      "execution_count": null,
      "outputs": [
        {
          "name": "stdout",
          "output_type": "stream",
          "text": [
            "<Flask '__main__'>\n"
          ]
        }
      ]
    },
    {
      "cell_type": "markdown",
      "metadata": {
        "id": "jVyh9jFEM4vB"
      },
      "source": [
        "# **Exercise-13 OOP**"
      ]
    },
    {
      "cell_type": "markdown",
      "metadata": {
        "id": "ff4qrFjUM9D0"
      },
      "source": [
        "**AIM:**"
      ]
    },
    {
      "cell_type": "markdown",
      "metadata": {
        "id": "HEqCZYfDNJao"
      },
      "source": [
        "a)class variables and instance variable and illustration of the self -variable\n",
        " \n",
        "**DESCRIPTION:**\n",
        " \n",
        "Variables are named storage location. In python variables are not defined by its type instead it\n",
        "will be automatically determined by the value assigned to it.\n",
        "To determine the type of a variable a function called type () is used.\n",
        " \n",
        "**class variable**is shared by all object instances of a class. ... They are not defined inside any methods of a class. Because a class variable is shared by instances of a class, the Python class owns the variable. As a result, all instances of the class will be able to access that variable\n",
        " \n",
        "**Instance variables** are owned by instances of the class. This means that for each object or instance of a class, the instance variables are different. ... Instance variables, owned by objects of the class, allow for each object or instance to have different values assigned to those variables\n",
        " \n",
        "**self variable** is used to bind the instance of the class to the instance method. We have to explicitly declare it as the first method argument to access the instance variables and methods. This variable is used only with the instance methods.\n",
        " \n",
        "**PROGRAM:**\n",
        " \n",
        "**i)ATM machine**"
      ]
    },
    {
      "cell_type": "code",
      "metadata": {
        "id": "UshyRftU-D1r"
      },
      "source": [
        "class ATM :\n",
        "    def _init_(self):\n",
        "        self.balance=1000\n",
        "        \n",
        "    def check_balance(self):\n",
        "          print(\"The balance in your account is ::\",self.balance)\n",
        "    def withdraw_balance(self):\n",
        "        print(\"Enter balance to withdraw\")\n",
        "        self._init_()\n",
        "        self.amount=int(input())\n",
        "        if self.amount>self.balance:\n",
        "            print(\"Insuffient amount\")\n",
        "        else:\n",
        "            self.balance-=self.amount\n",
        "            self.check_balance()\n",
        "    def deposite_balance(self):\n",
        "        print(\"Enter balance to deposite\")\n",
        "        self._init_()\n",
        "        self.amount=int(input())\n",
        "        self.balance=self.balance+self.amount\n",
        "        self.check_balance()\n",
        "print(\"Enter     1 for balance checking\\n 2 for balance withdraw\\n 3 for balance deposite\\n\")\n",
        "a=ATM()\n",
        "while (True):\n",
        "    choice=int(input(\"Enter your choice\"))\n",
        "    if choice==1:\n",
        "        a.check_balance()\n",
        "    elif choice==2:\n",
        "        a.withdraw_balance()\n",
        "    elif choice==3:\n",
        "        a.deposite_balance()\n",
        "    else:\n",
        "        print(\"Invalid choice\")\n",
        "        break"
      ],
      "execution_count": null,
      "outputs": []
    },
    {
      "cell_type": "markdown",
      "metadata": {
        "id": "saaOadSpN2nC"
      },
      "source": [
        "**ii)robot**"
      ]
    },
    {
      "cell_type": "code",
      "metadata": {
        "colab": {
          "base_uri": "https://localhost:8080/"
        },
        "id": "Yl1_8qTcZHtT",
        "outputId": "cdd59a86-a7b1-4ddb-8004-78520ff37915"
      },
      "source": [
        " class robot_design ():\n",
        "    name=\"chitti\"\n",
        "    speed=\"1ZB\"\n",
        "    memory=\"1TB\"\n",
        "    version=\"1.0\"\n",
        "    def update(self):\n",
        "        print(\"Entet your robot name,speed,memory,version\")\n",
        "        self.name=input()\n",
        "        self.speed=input()\n",
        "        self.memory=input()\n",
        "        self.version=input()\n",
        "    def display(self):\n",
        "        print(\"Your robot name,speed,memory,version is ::\",self.name,self.speed,self.memory,self.version)\n",
        " \n",
        "r=robot_design()\n",
        "r.update()\n",
        "r.display()"
      ],
      "execution_count": null,
      "outputs": [
        {
          "name": "stdout",
          "output_type": "stream",
          "text": [
            "Entet your robot name,speed,memory,version\n",
            "Name is chitti\n",
            "1TB\n",
            "1Zb\n",
            "2.0\n",
            "Your robot name,speed,memory,version is :: Name is chitti 1TB 1Zb 2.0\n"
          ]
        }
      ]
    },
    {
      "cell_type": "markdown",
      "metadata": {
        "id": "-Pxfgw8UOIry"
      },
      "source": [
        "# **Exercise - 14 GUI, Graphics**\n",
        " \n",
        "**AIM:**"
      ]
    },
    {
      "cell_type": "markdown",
      "metadata": {
        "id": "ihufM5GSZRD-"
      },
      "source": [
        " \n",
        " 1.Write a GUI for an Expression Calculator using tk"
      ]
    },
    {
      "cell_type": "markdown",
      "metadata": {
        "id": "i3vT99c2OSLj"
      },
      "source": [
        "**DESCRIPTION:**\n",
        " \n",
        "Tkinter is a Python package which comes with many functions and methods that can be used to create an application. In order to create a tkinter application, we generally create an instance of tkinter frame, i.e., Tk(). It helps to display the root window and manages all the other components of the tkinter application. We can initialize the tkinter instance by assigning the variable to it."
      ]
    },
    {
      "cell_type": "markdown",
      "metadata": {
        "id": "L3uxmF40OWvX"
      },
      "source": [
        "**PROGRAM:**"
      ]
    },
    {
      "cell_type": "code",
      "metadata": {
        "id": "DfudJvB-ZaYe"
      },
      "source": [
        " from tkinter import *\n",
        " \n",
        "win = Tk() # to create a basic window\n",
        "win.geometry(\"312x324\")  #for the size of the window \n",
        "win.resizable(0, 0)  # to prevent from resizing the window\n",
        "win.title(\"Calculator\")\n",
        " \n",
        "# 'btn_click' Function continuously updates the \n",
        "# input field whenever you enters a number\n",
        " \n",
        "def btn_click(item):\n",
        "    global expression\n",
        "    expression = expression + str(item)\n",
        "    input_text.set(expression)\n",
        " \n",
        "# 'bt_clear' function : used to clear the input field\n",
        " \n",
        "def bt_clear(): \n",
        "    global expression \n",
        "    expression = \"\"\n",
        "    input_text.set(\"\")\n",
        " \n",
        "# 'bt_equal':calculates the expression present in input field\n",
        " \n",
        "def bt_equal():\n",
        "    global expression\n",
        "    result = str(eval(expression)) # 'eval':This function is used to evaluates the string expression directly\n",
        "    input_text.set(result)\n",
        "    expression = \"\"\n",
        " \n",
        "expression = \"\"\n",
        " \n",
        "# 'StringVar()' :used to get the instance of input field\n",
        " \n",
        "input_text = StringVar()\n",
        " \n",
        "# creating a frame for the input field\n",
        " \n",
        "input_frame = Frame(win, width=312, height=50, bd=0, highlightbackground=\"black\", highlightcolor=\"black\", highlightthickness=2)\n",
        " \n",
        "input_frame.pack(side=TOP)\n",
        " \n",
        "#create a input field inside the 'Frame'\n",
        " \n",
        "input_field = Entry(input_frame, font=('arial', 18, 'bold'), textvariable=input_text, width=50, bg=\"#eee\", bd=0, justify=RIGHT)\n",
        " \n",
        "input_field.grid(row=0, column=0)\n",
        " \n",
        "input_field.pack(ipady=10)\n",
        "# 'ipady' is internal padding to increase the height of input field\n",
        " \n",
        "#creating another 'Frame' for the button below the 'input_frame'\n",
        " \n",
        "btns_frame = Frame(win, width=312, height=272.5, bg=\"grey\")\n",
        " \n",
        "btns_frame.pack()\n",
        " \n",
        "# first row\n",
        " \n",
        "clear = Button(btns_frame, text = \"C\", fg = \"black\", width = 32, height = 3, bd = 0, bg = \"#eee\", cursor = \"hand2\", command = lambda: bt_clear()).grid(row = 0, column = 0, columnspan = 3, padx = 1, pady = 1)\n",
        " \n",
        "divide = Button(btns_frame, text = \"/\", fg = \"black\", width = 10, height = 3, bd = 0, bg = \"#eee\", cursor = \"hand2\", command = lambda: btn_click(\"/\")).grid(row = 0, column = 3, padx = 1, pady = 1)\n",
        " \n",
        "# second row\n",
        " \n",
        "seven = Button(btns_frame, text = \"7\", fg = \"black\", width = 10, height = 3, bd = 0, bg = \"#fff\", cursor = \"hand2\", command = lambda: btn_click(7)).grid(row = 1, column = 0, padx = 1, pady = 1)\n",
        " \n",
        "eight = Button(btns_frame, text = \"8\", fg = \"black\", width = 10, height = 3, bd = 0, bg = \"#fff\", cursor = \"hand2\", command = lambda: btn_click(8)).grid(row = 1, column = 1, padx = 1, pady = 1)\n",
        " \n",
        "nine = Button(btns_frame, text = \"9\", fg = \"black\", width = 10, height = 3, bd = 0, bg = \"#fff\", cursor = \"hand2\", command = lambda: btn_click(9)).grid(row = 1, column = 2, padx = 1, pady = 1)\n",
        " \n",
        "multiply = Button(btns_frame, text = \"\", fg = \"black\", width = 10, height = 3, bd = 0, bg = \"#eee\", cursor = \"hand2\", command = lambda: btn_click(\"\")).grid(row = 1, column = 3, padx = 1, pady = 1)\n",
        " \n",
        "# third row\n",
        " \n",
        "four = Button(btns_frame, text = \"4\", fg = \"black\", width = 10, height = 3, bd = 0, bg = \"#fff\", cursor = \"hand2\", command = lambda: btn_click(4)).grid(row = 2, column = 0, padx = 1, pady = 1)\n",
        " \n",
        "five = Button(btns_frame, text = \"5\", fg = \"black\", width = 10, height = 3, bd = 0, bg = \"#fff\", cursor = \"hand2\", command = lambda: btn_click(5)).grid(row = 2, column = 1, padx = 1, pady = 1)\n",
        " \n",
        "six = Button(btns_frame, text = \"6\", fg = \"black\", width = 10, height = 3, bd = 0, bg = \"#fff\", cursor = \"hand2\", command = lambda: btn_click(6)).grid(row = 2, column = 2, padx = 1, pady = 1)\n",
        " \n",
        "minus = Button(btns_frame, text = \"-\", fg = \"black\", width = 10, height = 3, bd = 0, bg = \"#eee\", cursor = \"hand2\", command = lambda: btn_click(\"-\")).grid(row = 2, column = 3, padx = 1, pady = 1)\n",
        " \n",
        "# fourth row\n",
        " \n",
        "one = Button(btns_frame, text = \"1\", fg = \"black\", width = 10, height = 3, bd = 0, bg = \"#fff\", cursor = \"hand2\", command = lambda: btn_click(1)).grid(row = 3, column = 0, padx = 1, pady = 1)\n",
        " \n",
        "two = Button(btns_frame, text = \"2\", fg = \"black\", width = 10, height = 3, bd = 0, bg = \"#fff\", cursor = \"hand2\", command = lambda: btn_click(2)).grid(row = 3, column = 1, padx = 1, pady = 1)\n",
        " \n",
        "three = Button(btns_frame, text = \"3\", fg = \"black\", width = 10, height = 3, bd = 0, bg = \"#fff\", cursor = \"hand2\", command = lambda: btn_click(3)).grid(row = 3, column = 2, padx = 1, pady = 1)\n",
        " \n",
        "plus = Button(btns_frame, text = \"+\", fg = \"black\", width = 10, height = 3, bd = 0, bg = \"#eee\", cursor = \"hand2\", command = lambda: btn_click(\"+\")).grid(row = 3, column = 3, padx = 1, pady = 1)\n",
        " \n",
        "# fifth row\n",
        " \n",
        "zero = Button(btns_frame, text = \"0\", fg = \"black\", width = 21, height = 3, bd = 0, bg = \"#fff\", cursor = \"hand2\", command = lambda: btn_click(0)).grid(row = 4, column = 0, columnspan = 2, padx = 1, pady = 1)\n",
        " \n",
        "point = Button(btns_frame, text = \".\", fg = \"black\", width = 10, height = 3, bd = 0, bg = \"#eee\", cursor = \"hand2\", command = lambda: btn_click(\".\")).grid(row = 4, column = 2, padx = 1, pady = 1)\n",
        " \n",
        "equals = Button(btns_frame, text = \"=\", fg = \"black\", width = 10, height = 3, bd = 0, bg = \"#eee\", cursor = \"hand2\", command = lambda: bt_equal()).grid(row = 4, column = 3, padx = 1, pady = 1)\n",
        " \n",
        "win.mainloop()"
      ],
      "execution_count": null,
      "outputs": []
    },
    {
      "cell_type": "markdown",
      "metadata": {
        "id": "nIu3LqnFOsas"
      },
      "source": [
        "**AIM:**"
      ]
    },
    {
      "cell_type": "markdown",
      "metadata": {
        "id": "N6EicXhpOvWc"
      },
      "source": [
        "b. Write a program to implement the following figures using turtle"
      ]
    },
    {
      "cell_type": "markdown",
      "metadata": {
        "id": "HPNzCyRoOzKF"
      },
      "source": [
        "**DESCRIPTION:**\n",
        " \n",
        "The turtle module is an extended reimplementation of the same-named module from the Python standard distribution up to version Python 2.5.\n",
        " \n",
        "It tries to keep the merits of the old turtle module and to be (nearly) 100% compatible with it. This means in the first place to enable the learning programmer to use all the commands, classes and methods interactively when using the module from within IDLE run with the -n switch.\n",
        " \n",
        "The turtle module provides turtle graphics primitives, in both object-oriented and procedure-oriented ways. Because it uses tkinter for the underlying graphics, it needs a version of Python installed with Tk support."
      ]
    },
    {
      "cell_type": "code",
      "metadata": {
        "id": "wL1MGfF4Zvtn"
      },
      "source": [
        " import turtle\n",
        "c=[\"red\",\"green\",\"blue\"]\n",
        "i=0\n",
        "turtle.pensize(5)\n",
        " \n",
        "for angle in range(0,360,30):\n",
        "    if i>2:\n",
        "        i=0\n",
        "    turtle.color(c[i])\n",
        "    turtle.seth(angle)\n",
        "    turtle.circle(50)\n",
        "    i+=1"
      ],
      "execution_count": null,
      "outputs": []
    },
    {
      "cell_type": "markdown",
      "metadata": {
        "id": "nIjFSyDJPC6y"
      },
      "source": [
        "**Program**"
      ]
    },
    {
      "cell_type": "code",
      "metadata": {
        "id": "si7O9g2y-JNn"
      },
      "source": [
        "import turtle\n",
        "turtle.pensize(1)\n",
        " \n",
        "for i in range(36):\n",
        "    for j in range(4):\n",
        "        turtle.forward(70)\n",
        "        turtle.left(90)\n",
        "    turtle.left(10)"
      ],
      "execution_count": null,
      "outputs": []
    },
    {
      "cell_type": "markdown",
      "metadata": {
        "id": "fZPg4YF6PfMd"
      },
      "source": [
        "# **Exercise - 15 - Testing**"
      ]
    },
    {
      "cell_type": "markdown",
      "metadata": {
        "id": "o39wlDCsPigW"
      },
      "source": [
        "**AIM:**"
      ]
    },
    {
      "cell_type": "markdown",
      "metadata": {
        "id": "fd6elcycZ9Yj"
      },
      "source": [
        " \n",
        "a) Write a test-case to check the function even numbers which return True on passing a list of all even numbers"
      ]
    },
    {
      "cell_type": "markdown",
      "metadata": {
        "id": "Gye76iKBPtx5"
      },
      "source": [
        "**DESCRIPTION:**\n",
        " \n",
        "TestCase is used to create test cases by subclassing it. The last block of the code at the bottom allows us to run all the tests just by running the file. Basic terms used in the code : assertEqual() – This statement is used to check if the result obtained is equal to the expected result\n",
        " \n",
        "**test case:**\n",
        " \n",
        "A test case is a set of conditions which is used to determine whether a system under test works correctly."
      ]
    },
    {
      "cell_type": "markdown",
      "metadata": {
        "id": "edYnhUDgPxUd"
      },
      "source": [
        "**PROGRAM:**"
      ]
    },
    {
      "cell_type": "code",
      "metadata": {
        "colab": {
          "base_uri": "https://localhost:8080/"
        },
        "id": "mKB8sncQZ-ix",
        "outputId": "45c6a83a-8bd3-427c-a775-58c2fb073c59"
      },
      "source": [
        " def even(num):\n",
        "  st= True\n",
        "  for i in num:\n",
        "    if i%2==0:\n",
        "      st=False\n",
        "      break\n",
        "  return st\n",
        "numbers=[]\n",
        "print(\"enter the five nums:\")\n",
        "for i in range(0,5):\n",
        "  numbers.append(int(input(\"enter a value:\")))\n",
        "print(even(numbers))"
      ],
      "execution_count": null,
      "outputs": [
        {
          "name": "stdout",
          "output_type": "stream",
          "text": [
            "enter the five nums:\n",
            "enter a value:2\n",
            "enter a value:4\n",
            "enter a value:5\n",
            "enter a value:6\n",
            "enter a value:3\n",
            "False\n"
          ]
        }
      ]
    },
    {
      "cell_type": "markdown",
      "metadata": {
        "id": "s9BxIzg_QAiX"
      },
      "source": [
        "**AIM:**"
      ]
    },
    {
      "cell_type": "markdown",
      "metadata": {
        "id": "KyxwYVd0QDc1"
      },
      "source": [
        "**b) Write a test-case to check the function reverse string which returns the reversed string**"
      ]
    },
    {
      "cell_type": "markdown",
      "metadata": {
        "id": "8hOfSzF8QHwA"
      },
      "source": [
        "**DESCRIPTION:**\n",
        " \n",
        "Python string library does’nt support the in-built “reverse()” as done by other python containers like list, hence knowing other methods to reverse string can prove to be useful. This article discusses several ways to achieve it.\n",
        " \n",
        "The reversed() returns the reversed iterator of the given string and then its elements are joined empty string separated using join(). And reversed order string is formed."
      ]
    },
    {
      "cell_type": "markdown",
      "metadata": {
        "id": "l1mdP2W2QNKd"
      },
      "source": [
        "**PROGRAM:**"
      ]
    },
    {
      "cell_type": "code",
      "metadata": {
        "colab": {
          "base_uri": "https://localhost:8080/"
        },
        "id": "ezsMu9rmaDnA",
        "outputId": "d64ad311-c20a-4902-fcd7-89a90f4bb104"
      },
      "source": [
        " def revs(str):\n",
        "  return str[::-1]\n",
        "st=\"ganesh\"\n",
        "print(\"given string is:\",st)\n",
        "print(revs(st))"
      ],
      "execution_count": null,
      "outputs": [
        {
          "name": "stdout",
          "output_type": "stream",
          "text": [
            "given string is: ganesh\n",
            "hsenag\n"
          ]
        }
      ]
    },
    {
      "cell_type": "markdown",
      "metadata": {
        "id": "EbV3LOwdQSbw"
      },
      "source": [
        "# **Exercise - 16 - Advanced**"
      ]
    },
    {
      "cell_type": "markdown",
      "metadata": {
        "id": "TajXmbq1QbiO"
      },
      "source": [
        "**AIM:**"
      ]
    },
    {
      "cell_type": "markdown",
      "metadata": {
        "id": "PnEKP9cIaWV_"
      },
      "source": [
        "A) BUILD ANY ONE CLASSICAL DATA STRUCTURE."
      ]
    },
    {
      "cell_type": "markdown",
      "metadata": {
        "id": "8thgbFcFQe8A"
      },
      "source": [
        "**DESCRIPTION:**\n",
        " \n",
        "**What is a Data Structure?** \n",
        " \n",
        "Organizing, managing and storing data is important as it enables easier access and efficient modifications. Data Structures allows you to organize your data in such a way that enables you to store collections of data, relate them and perform operations on them accordingly. \n",
        " \n",
        "**Stack**\n",
        "Stacks are linear Data Structures which are based on the principle of Last-In-First-Out (LIFO) where data which is entered last will be the first to get accessed. It is built using the array structure and has operations namely, pushing (adding) elements, popping (deleting) elements and accessing elements only from one point in the stack called as the TOP. This TOP is the pointer to the current position of the stack. Stacks are prominently used in applications such as Recursive Programming, reversing words, undo mechanisms in word editors and so forth."
      ]
    },
    {
      "cell_type": "code",
      "metadata": {
        "colab": {
          "background_save": true,
          "base_uri": "https://localhost:8080/"
        },
        "id": "nIsKnXeeaXVv",
        "outputId": "48ed9594-e891-4568-999c-e01856049e3f"
      },
      "source": [
        " import sys\n",
        "a=[]\n",
        " \n",
        "while True:\n",
        "  print (\"\\nl.PUSH 2.POP 3.DISPLAY 4.EXIT\")\n",
        "  ch=int(input(\"Enter Your Choice: \"))\n",
        "  if ch==1:\n",
        "   ele=int(input(\"Enter element: \"))\n",
        "   a.append(ele)\n",
        "   print(\"Inserted\")\n",
        "  elif ch==2:\n",
        "   if len(a)==0:\n",
        "     print (\"\\t STACK IS EMPTY\")\n",
        "   else:\n",
        "     print (\"Deleted element is: \",a[len(a)-1])\n",
        "     a.remove(a[len(a)-1])\n",
        "  elif ch==3:\n",
        "   if len(a)==0:\n",
        "     print (\"\\t STACK IS EMPTY\")\n",
        "   else:\n",
        "    print (\"The Elements in Stack is: \")\n",
        "    for i in reversed(a):\n",
        "       print(i)\n",
        "  elif ch==4:\n",
        "    sys.exit()\n",
        "  else:\n",
        "   print (\"\\tINVALID CHOICE\")"
      ],
      "execution_count": null,
      "outputs": [
        {
          "name": "stdout",
          "output_type": "stream",
          "text": [
            "\n",
            "l.PUSH 2.POP 3.DISPLAY 4.EXIT\n",
            "\t STACK IS EMPTY\n",
            "\n",
            "l.PUSH 2.POP 3.DISPLAY 4.EXIT\n"
          ]
        }
      ]
    },
    {
      "cell_type": "markdown",
      "metadata": {
        "id": "kFlV_flUQplQ"
      },
      "source": [
        "**AIM:**"
      ]
    },
    {
      "cell_type": "markdown",
      "metadata": {
        "id": "bX76sMQXQsTV"
      },
      "source": [
        "b) Write a program to solve knapsack problem"
      ]
    },
    {
      "cell_type": "markdown",
      "metadata": {
        "id": "hQeudB57QvdH"
      },
      "source": [
        "**DESCRIPTION:**\n",
        " \n",
        "Python Program for 0-1 Knapsack Problem\n",
        " \n",
        "Problem statement − We are given weights and values of n items, we need to put these items in a bag of capacity W up to the maximum capacity w. We need to carry a maximum number of items and return its value.\n",
        " \n",
        " Brute-force approach.\n",
        " \n",
        "dynamic approach."
      ]
    },
    {
      "cell_type": "markdown",
      "metadata": {
        "id": "fdQuGMpGQ1Ww"
      },
      "source": [
        "**PROGRAM**"
      ]
    },
    {
      "cell_type": "code",
      "metadata": {
        "colab": {
          "base_uri": "https://localhost:8080/"
        },
        "id": "G2ROgDUiadT1",
        "outputId": "03e85ad3-f46b-4524-db1d-bca8c00ccfe7"
      },
      "source": [
        " def knapSack(W, wt, val, n):\n",
        "   K= [[0 for x in range(W+1)] for x in range(n+1)]\n",
        "   for i in range(n+1):\n",
        "     for w in range(W+1):\n",
        "       if i==0 or w==0:\n",
        "          K[i][w] = 0\n",
        "       elif wt[i-1]<=w:\n",
        "          K[i][w]= max(val[i-1]+K[i-1][w-wt[i-1]],K[i-1][w])\n",
        "       else:\n",
        "          K[i][w] = K[i-1][w]\n",
        "   return K[n][W]\n",
        "val = [5, 3, 4]\n",
        "wt = [3, 2, 1]\n",
        "W = 5\n",
        "n= len(val)\n",
        "print(\"Maximum value knapsack of capacity W: \", knapSack(W, wt,val,n))"
      ],
      "execution_count": null,
      "outputs": [
        {
          "name": "stdout",
          "output_type": "stream",
          "text": [
            "Maximum value knapsack of capacity W:  9\n"
          ]
        }
      ]
    },
    {
      "cell_type": "markdown",
      "metadata": {
        "id": "7YW5fzjFRByA"
      },
      "source": [
        "# **Exercise - 17&18–Data Analysis**"
      ]
    },
    {
      "cell_type": "markdown",
      "metadata": {
        "id": "7vN9u0MyRG0j"
      },
      "source": [
        "**AIM:**"
      ]
    },
    {
      "cell_type": "markdown",
      "metadata": {
        "id": "jB5fDnDuRVPN"
      },
      "source": [
        "1. Data analysis or manipulation using the following packages                                                                        \n",
        "a) Numpy b) Pandas\n",
        " a) Scipy b) matplotlib"
      ]
    },
    {
      "cell_type": "markdown",
      "metadata": {
        "id": "gJM272PVanpx"
      },
      "source": [
        "**DESCRIPTION:**\n",
        " \n",
        "Learn how to analyze data using Python. ... It includes following parts: Data Analysis libraries: will learn to use Pandas, Numpy and Scipy libraries to work with a sample dataset. We will introduce you to pandas, an open-source library, and we will use it to load, manipulate, analyze, and visualize cool datasets.\n",
        " \n",
        "**SciPy** is a free and open-source Python library used for scientific computing and technical computing. It is a collection of mathematical algorithms and convenience functions built on the NumPy extension of Python\n",
        " \n",
        "**NumPy** is the fundamental package for scientific computing in Python. ... NumPy arrays facilitate advanced mathematical and other types of operations on large numbers of data.\n",
        " \n",
        "**Matplotlib** is a plotting library for the Python programming language and its numerical mathematics extension NumPy. It provides an object-oriented API for embedding plots into applications using general-purpose GUI toolkits like Tkinter, wxPython, Qt, or GTK\n",
        " \n",
        "**Pandas** is an open source Python package that is most widely used for data science/data analysis and machine learning tasks. It is built on top of another package named Numpy, which provides support for multi-dimensional arrays.\n",
        " \n",
        "**Scikit-learn** is probably the most useful library for machine learning in Python. The sklearn library contains a lot of efficient tools for machine learning and statistical modeling including classification, regression, clustering and dimensionality reduction.\n",
        " \n",
        "**Seaborn** is a library in Python predominantly used for making statistical graphics. Seaborn is a data visualization library built on top of matplotlib and closely integrated with pandas data structures in Python"
      ]
    },
    {
      "cell_type": "markdown",
      "metadata": {
        "id": "mYqxTNG-Rjea"
      },
      "source": [
        "**PROGRAM:**"
      ]
    },
    {
      "cell_type": "code",
      "metadata": {
        "colab": {
          "base_uri": "https://localhost:8080/"
        },
        "id": "RDnJqHCtaruW",
        "outputId": "050b4c9c-abc8-483b-a302-b2bc28474e4b"
      },
      "source": [
        " #Python version\n",
        "import sys\n",
        "print('Python: {}'.format(sys.version))\n",
        " \n",
        "#scipy\n",
        "import scipy\n",
        "print('scipy: {}'.format(scipy.__version__))\n",
        " \n",
        "# numpy\n",
        "import numpy\n",
        "print( 'numpy: {}'.format(numpy.__version__))\n",
        " \n",
        "# matplotlib\n",
        "import matplotlib\n",
        "print('matplotlib: {}'.format(matplotlib.__version__))\n",
        " \n",
        "# pandas\n",
        "import pandas\n",
        "print('pandas: {}'.format(pandas.__version__))\n",
        " \n",
        "#scikit-learn\n",
        "import sklearn\n",
        "print('sklearn: {}'.format(sklearn.__version__))\n",
        "import seaborn\n",
        "print('seaborn: {}'.format(seaborn.__version__))\n",
        "import urllib\n",
        "print('urlib: {}'.format(urllib.__name__))\n",
        "import csv\n",
        "print('csv: {}'.format(csv.__version__))"
      ],
      "execution_count": null,
      "outputs": [
        {
          "name": "stdout",
          "output_type": "stream",
          "text": [
            "Python: 3.7.11 (default, Jul  3 2021, 18:01:19) \n",
            "[GCC 7.5.0]\n",
            "scipy: 1.4.1\n",
            "numpy: 1.19.5\n",
            "matplotlib: 3.2.2\n",
            "pandas: 1.1.5\n",
            "sklearn: 0.22.2.post1\n",
            "seaborn: 0.11.1\n",
            "urlib: urllib\n",
            "csv: 1.0\n"
          ]
        }
      ]
    },
    {
      "cell_type": "markdown",
      "metadata": {
        "id": "_mITHsjLRt3_"
      },
      "source": [
        "# **NumPy**"
      ]
    },
    {
      "cell_type": "code",
      "metadata": {
        "colab": {
          "base_uri": "https://localhost:8080/"
        },
        "id": "aYTbpQI7Rvar",
        "outputId": "95d62f53-7c3a-4812-a637-672f2ef55717"
      },
      "source": [
        "import numpy as np\n",
        "a=np.array([0,1,2])\n",
        "print(type(a))\n",
        "print(a.shape)\n",
        "print(a[0])\n",
        "print(a[1])\n",
        "print(a[2])\n",
        "a[0]=5\n",
        "print(a)"
      ],
      "execution_count": null,
      "outputs": [
        {
          "name": "stdout",
          "output_type": "stream",
          "text": [
            "<class 'numpy.ndarray'>\n",
            "(3,)\n",
            "0\n",
            "1\n",
            "2\n",
            "[5 1 2]\n"
          ]
        }
      ]
    },
    {
      "cell_type": "code",
      "metadata": {
        "colab": {
          "base_uri": "https://localhost:8080/"
        },
        "id": "b2s43oIKR1JI",
        "outputId": "06fbd517-0536-40c5-e9be-ed88dc5c7ac8"
      },
      "source": [
        "import numpy as np\n",
        "b=np.array([[0,1,2],[3,4,5]])\n",
        "print(b.shape)\n",
        "print(b)\n",
        "print(b[0,0],b[0,1],b[1,0])"
      ],
      "execution_count": null,
      "outputs": [
        {
          "name": "stdout",
          "output_type": "stream",
          "text": [
            "(2, 3)\n",
            "[[0 1 2]\n",
            " [3 4 5]]\n",
            "0 1 3\n"
          ]
        }
      ]
    },
    {
      "cell_type": "code",
      "metadata": {
        "colab": {
          "base_uri": "https://localhost:8080/"
        },
        "id": "HhmGQklSR4H_",
        "outputId": "eb9ec3f0-f06a-413a-cd49-06638184b95c"
      },
      "source": [
        "import numpy as np\n",
        "a=np.zeros((3,3))\n",
        "print(a)"
      ],
      "execution_count": null,
      "outputs": [
        {
          "name": "stdout",
          "output_type": "stream",
          "text": [
            "[[0. 0. 0.]\n",
            " [0. 0. 0.]\n",
            " [0. 0. 0.]]\n"
          ]
        }
      ]
    },
    {
      "cell_type": "code",
      "metadata": {
        "colab": {
          "base_uri": "https://localhost:8080/"
        },
        "id": "PU6AedHYR6tu",
        "outputId": "c06613b7-440a-4904-cab5-20e9dc28008f"
      },
      "source": [
        "import numpy as np\n",
        "b=np.ones((2,2))\n",
        "print(b)"
      ],
      "execution_count": null,
      "outputs": [
        {
          "name": "stdout",
          "output_type": "stream",
          "text": [
            "[[1. 1.]\n",
            " [1. 1.]]\n"
          ]
        }
      ]
    },
    {
      "cell_type": "code",
      "metadata": {
        "colab": {
          "base_uri": "https://localhost:8080/"
        },
        "id": "fsqgyjJOR9le",
        "outputId": "cece3bd6-a5ca-4c6e-d3ac-37c2df207952"
      },
      "source": [
        "import numpy as np\n",
        "c=np.full((3,3),7)\n",
        "print(c)"
      ],
      "execution_count": null,
      "outputs": [
        {
          "name": "stdout",
          "output_type": "stream",
          "text": [
            "[[7 7 7]\n",
            " [7 7 7]\n",
            " [7 7 7]]\n"
          ]
        }
      ]
    },
    {
      "cell_type": "code",
      "metadata": {
        "colab": {
          "base_uri": "https://localhost:8080/"
        },
        "id": "wdjOIrBhSAKY",
        "outputId": "c56c57b4-e587-4815-a249-f40964925931"
      },
      "source": [
        "import numpy as np\n",
        "d=np.random.random((3,3))\n",
        "print(d)"
      ],
      "execution_count": null,
      "outputs": [
        {
          "name": "stdout",
          "output_type": "stream",
          "text": [
            "[[0.07471294 0.34045619 0.53947825]\n",
            " [0.40498629 0.404013   0.34393486]\n",
            " [0.39786756 0.03414243 0.35612554]]\n"
          ]
        }
      ]
    },
    {
      "cell_type": "code",
      "metadata": {
        "colab": {
          "base_uri": "https://localhost:8080/"
        },
        "id": "bBZ3PDapSC9N",
        "outputId": "17eb92b8-6721-4845-b68b-83b7e2d3fd6c"
      },
      "source": [
        "import numpy as np\n",
        "e=np.eye(3)\n",
        "print(e)"
      ],
      "execution_count": null,
      "outputs": [
        {
          "name": "stdout",
          "output_type": "stream",
          "text": [
            "[[1. 0. 0.]\n",
            " [0. 1. 0.]\n",
            " [0. 0. 1.]]\n"
          ]
        }
      ]
    },
    {
      "cell_type": "code",
      "metadata": {
        "colab": {
          "base_uri": "https://localhost:8080/"
        },
        "id": "y2vjuXcGSGXk",
        "outputId": "f54a26b8-0a87-4b17-d256-3c5a0e4bc5ea"
      },
      "source": [
        "import numpy as np\n",
        "f=np.array([2,3,1,0])\n",
        "print(f)"
      ],
      "execution_count": null,
      "outputs": [
        {
          "name": "stdout",
          "output_type": "stream",
          "text": [
            "[2 3 1 0]\n"
          ]
        }
      ]
    },
    {
      "cell_type": "code",
      "metadata": {
        "colab": {
          "base_uri": "https://localhost:8080/"
        },
        "id": "R16OxMP4SI5F",
        "outputId": "e93b2aa8-77a2-4dde-87ef-76c5e2346bfe"
      },
      "source": [
        "import numpy as np\n",
        "g=np.arange(2,10)\n",
        "print(g)"
      ],
      "execution_count": null,
      "outputs": [
        {
          "name": "stdout",
          "output_type": "stream",
          "text": [
            "[2 3 4 5 6 7 8 9]\n"
          ]
        }
      ]
    },
    {
      "cell_type": "code",
      "metadata": {
        "colab": {
          "base_uri": "https://localhost:8080/"
        },
        "id": "0wIhVpSsSMNw",
        "outputId": "14dbc2d1-6aed-4d1a-8729-229cd3fc273c"
      },
      "source": [
        "import numpy as np\n",
        "h=np.array([[0,1,2.0],[0,0,0],(1+1j,3.,2.)])\n",
        "print(h)"
      ],
      "execution_count": null,
      "outputs": [
        {
          "name": "stdout",
          "output_type": "stream",
          "text": [
            "[[0.+0.j 1.+0.j 2.+0.j]\n",
            " [0.+0.j 0.+0.j 0.+0.j]\n",
            " [1.+1.j 3.+0.j 2.+0.j]]\n"
          ]
        }
      ]
    },
    {
      "cell_type": "code",
      "metadata": {
        "colab": {
          "base_uri": "https://localhost:8080/"
        },
        "id": "wdt4QndlSPdX",
        "outputId": "6048be6d-03ee-4337-fa0b-6e09e49c2eda"
      },
      "source": [
        "import numpy as np\n",
        "i=np.arange(1,8,dtype=np.float)\n",
        "print(i)"
      ],
      "execution_count": null,
      "outputs": [
        {
          "name": "stdout",
          "output_type": "stream",
          "text": [
            "[1. 2. 3. 4. 5. 6. 7.]\n"
          ]
        }
      ]
    },
    {
      "cell_type": "code",
      "metadata": {
        "colab": {
          "base_uri": "https://localhost:8080/"
        },
        "id": "F9StPb3HSSPI",
        "outputId": "4a52e4c6-ef76-4fa6-8189-fe2c277770ad"
      },
      "source": [
        "import numpy as np\n",
        "j=np.linspace(2.,4., 5)\n",
        "print(j)"
      ],
      "execution_count": null,
      "outputs": [
        {
          "name": "stdout",
          "output_type": "stream",
          "text": [
            "[2.  2.5 3.  3.5 4. ]\n"
          ]
        }
      ]
    },
    {
      "cell_type": "code",
      "metadata": {
        "colab": {
          "base_uri": "https://localhost:8080/"
        },
        "id": "qHFcNJXlSVEU",
        "outputId": "7e97245f-6f1d-4390-ccfb-62d16f5e8e22"
      },
      "source": [
        "import numpy as np\n",
        "k=np.indices((3,3))\n",
        "print(k)"
      ],
      "execution_count": null,
      "outputs": [
        {
          "name": "stdout",
          "output_type": "stream",
          "text": [
            "[[[0 0 0]\n",
            "  [1 1 1]\n",
            "  [2 2 2]]\n",
            "\n",
            " [[0 1 2]\n",
            "  [0 1 2]\n",
            "  [0 1 2]]]\n"
          ]
        }
      ]
    },
    {
      "cell_type": "code",
      "metadata": {
        "colab": {
          "base_uri": "https://localhost:8080/"
        },
        "id": "OAorl9VMSYDl",
        "outputId": "10065d2c-c57f-4f10-b2a5-9a7832cf7890"
      },
      "source": [
        "import numpy as np\n",
        "x=np.array([0,1])\n",
        "y=np.array([2.0,3.0])\n",
        "z=np.array([5,6], dtype=np.int64)\n",
        "print(x.dtype,y.dtype,z.dtype)"
      ],
      "execution_count": null,
      "outputs": [
        {
          "name": "stdout",
          "output_type": "stream",
          "text": [
            "int64 float64 int64\n"
          ]
        }
      ]
    },
    {
      "cell_type": "code",
      "metadata": {
        "colab": {
          "base_uri": "https://localhost:8080/"
        },
        "id": "SAz3dATsSaT9",
        "outputId": "12f9d7c0-d551-4288-b562-769f9b681180"
      },
      "source": [
        "import numpy as np\n",
        "x=np.array([5,6,7,8,9])\n",
        "print(x[1:7:2])\n",
        "print(x[-2:5])\n",
        "print(x[-1:1:-1])"
      ],
      "execution_count": null,
      "outputs": [
        {
          "name": "stdout",
          "output_type": "stream",
          "text": [
            "[6 8]\n",
            "[8 9]\n",
            "[9 8 7]\n"
          ]
        }
      ]
    },
    {
      "cell_type": "code",
      "metadata": {
        "colab": {
          "base_uri": "https://localhost:8080/"
        },
        "id": "jZi9B0DrSc06",
        "outputId": "3043d2f2-560b-4c72-b919-ac927c760722"
      },
      "source": [
        "import numpy as np\n",
        "a=np.array([[1,2],[3,4],[5,6]])\n",
        "print(a>2)\n",
        "print(a[a>2])"
      ],
      "execution_count": null,
      "outputs": [
        {
          "name": "stdout",
          "output_type": "stream",
          "text": [
            "[[False False]\n",
            " [ True  True]\n",
            " [ True  True]]\n",
            "[3 4 5 6]\n"
          ]
        }
      ]
    },
    {
      "cell_type": "code",
      "metadata": {
        "colab": {
          "base_uri": "https://localhost:8080/"
        },
        "id": "K_LAeBW0Sf1_",
        "outputId": "3fa6210c-e2f8-4ad4-d7b8-6fd8b85150af"
      },
      "source": [
        "import numpy as np\n",
        "x=np.array([[1,2],[3,4],[5,6]])\n",
        "y=np.array([[7,8],[9,10],[11,12]])\n",
        "print(x+y)\n",
        "print(np.add(x,y))\n",
        "print(x-y)\n",
        "print(np.subtract(x,y))"
      ],
      "execution_count": null,
      "outputs": [
        {
          "name": "stdout",
          "output_type": "stream",
          "text": [
            "[[ 8 10]\n",
            " [12 14]\n",
            " [16 18]]\n",
            "[[ 8 10]\n",
            " [12 14]\n",
            " [16 18]]\n",
            "[[-6 -6]\n",
            " [-6 -6]\n",
            " [-6 -6]]\n",
            "[[-6 -6]\n",
            " [-6 -6]\n",
            " [-6 -6]]\n"
          ]
        }
      ]
    },
    {
      "cell_type": "code",
      "metadata": {
        "colab": {
          "base_uri": "https://localhost:8080/"
        },
        "id": "sGCLyescSido",
        "outputId": "6e64d7c1-5ca6-4fd5-eaa3-6b5d01c4540f"
      },
      "source": [
        "import numpy as np\n",
        "x=np.array([[1,2],[3,4],[5,6]])\n",
        "y=np.array([[7,8],[9,10],[11,12]])\n",
        "print(np.multiply(x,y))\n",
        "print(x*y)"
      ],
      "execution_count": null,
      "outputs": [
        {
          "name": "stdout",
          "output_type": "stream",
          "text": [
            "[[ 7 16]\n",
            " [27 40]\n",
            " [55 72]]\n",
            "[[ 7 16]\n",
            " [27 40]\n",
            " [55 72]]\n"
          ]
        }
      ]
    },
    {
      "cell_type": "code",
      "metadata": {
        "colab": {
          "base_uri": "https://localhost:8080/"
        },
        "id": "YrzkgBD8Skzv",
        "outputId": "a4dca9ee-74ec-43a9-cd44-83fa511c1e2a"
      },
      "source": [
        "import numpy as np\n",
        "x=np.array([[1,2],[3,4],[5,6]])\n",
        "y=np.array([[7,8],[9,10],[11,12]])\n",
        "print(np.divide(x,y))\n",
        "print(x/y)"
      ],
      "execution_count": null,
      "outputs": [
        {
          "name": "stdout",
          "output_type": "stream",
          "text": [
            "[[0.14285714 0.25      ]\n",
            " [0.33333333 0.4       ]\n",
            " [0.45454545 0.5       ]]\n",
            "[[0.14285714 0.25      ]\n",
            " [0.33333333 0.4       ]\n",
            " [0.45454545 0.5       ]]\n"
          ]
        }
      ]
    },
    {
      "cell_type": "code",
      "metadata": {
        "colab": {
          "base_uri": "https://localhost:8080/"
        },
        "id": "HEu-yPHGSnYk",
        "outputId": "b6188f1e-91b5-45d4-e05f-80044faafe8d"
      },
      "source": [
        "import numpy as np\n",
        "x=np.array([[1,2],[3,4],[5,6]])\n",
        "print(np.sqrt(x))"
      ],
      "execution_count": null,
      "outputs": [
        {
          "name": "stdout",
          "output_type": "stream",
          "text": [
            "[[1.         1.41421356]\n",
            " [1.73205081 2.        ]\n",
            " [2.23606798 2.44948974]]\n"
          ]
        }
      ]
    },
    {
      "cell_type": "code",
      "metadata": {
        "colab": {
          "base_uri": "https://localhost:8080/"
        },
        "id": "hehc3NHBSqbN",
        "outputId": "4ceaae62-78c1-4038-aad3-2808ddf5f75a"
      },
      "source": [
        "import numpy as np\n",
        "a=np.array([9,10])\n",
        "b=np.array([11,12])\n",
        "print(a.dot(b))\n",
        "print(np.dot(a,b))"
      ],
      "execution_count": null,
      "outputs": [
        {
          "name": "stdout",
          "output_type": "stream",
          "text": [
            "219\n",
            "219\n"
          ]
        }
      ]
    },
    {
      "cell_type": "code",
      "metadata": {
        "colab": {
          "base_uri": "https://localhost:8080/"
        },
        "id": "vAf717OTStXZ",
        "outputId": "b69d2bd8-929e-4553-d845-ca2abb3874ec"
      },
      "source": [
        "import numpy as np\n",
        "a=np.array([9,10])\n",
        "x=np.array([[1,2],[3,4]])\n",
        "print(x.dot(a))\n",
        "print(np.dot(x,a))"
      ],
      "execution_count": null,
      "outputs": [
        {
          "name": "stdout",
          "output_type": "stream",
          "text": [
            "[29 67]\n",
            "[29 67]\n"
          ]
        }
      ]
    },
    {
      "cell_type": "code",
      "metadata": {
        "colab": {
          "base_uri": "https://localhost:8080/"
        },
        "id": "Cpp6Fe0ySxDq",
        "outputId": "773f0b09-527f-4cd9-ee5f-b785dc739708"
      },
      "source": [
        "import numpy as np\n",
        "x=np.array([[1,2],[3,4]])\n",
        "y=np.array([[5,6],[7,8]])\n",
        "print(x.dot(y))\n",
        "print(np.dot(x,y))"
      ],
      "execution_count": null,
      "outputs": [
        {
          "name": "stdout",
          "output_type": "stream",
          "text": [
            "[[19 22]\n",
            " [43 50]]\n",
            "[[19 22]\n",
            " [43 50]]\n"
          ]
        }
      ]
    },
    {
      "cell_type": "code",
      "metadata": {
        "colab": {
          "base_uri": "https://localhost:8080/"
        },
        "id": "leyJuhXES0hQ",
        "outputId": "65ae7839-bc28-4c67-b407-8d87324bca4e"
      },
      "source": [
        "import numpy as np\n",
        "x=np.array([[1,2],[3,4]])\n",
        "print(np.sum(x))\n",
        "print(np.sum(x,axis=0))\n",
        "print(np.sum(x,axis=1))"
      ],
      "execution_count": null,
      "outputs": [
        {
          "name": "stdout",
          "output_type": "stream",
          "text": [
            "10\n",
            "[4 6]\n",
            "[3 7]\n"
          ]
        }
      ]
    },
    {
      "cell_type": "code",
      "metadata": {
        "colab": {
          "base_uri": "https://localhost:8080/"
        },
        "id": "XsPj1kW0S31m",
        "outputId": "e873cec1-af4a-4262-d14b-fb1ec58c883c"
      },
      "source": [
        "import numpy as np\n",
        "x=np.array([[1,2],[3,4]])\n",
        "print(x)\n",
        "print(x.T)"
      ],
      "execution_count": null,
      "outputs": [
        {
          "name": "stdout",
          "output_type": "stream",
          "text": [
            "[[1 2]\n",
            " [3 4]]\n",
            "[[1 3]\n",
            " [2 4]]\n"
          ]
        }
      ]
    },
    {
      "cell_type": "code",
      "metadata": {
        "colab": {
          "base_uri": "https://localhost:8080/"
        },
        "id": "7u50DWozS6Kf",
        "outputId": "59ff2276-1768-4743-d40e-f1ef27c0618f"
      },
      "source": [
        "import numpy as np\n",
        "v=np.array([1,2,3])\n",
        "print(v)\n",
        "print(v.T)"
      ],
      "execution_count": null,
      "outputs": [
        {
          "name": "stdout",
          "output_type": "stream",
          "text": [
            "[1 2 3]\n",
            "[1 2 3]\n"
          ]
        }
      ]
    },
    {
      "cell_type": "code",
      "metadata": {
        "colab": {
          "base_uri": "https://localhost:8080/"
        },
        "id": "VbvpxWg7S9Q8",
        "outputId": "e7808e5e-e603-4b51-f509-97b2c13ce4a6"
      },
      "source": [
        "import numpy as np\n",
        "a=np.array([[1,2,3],[4,5,6],[7,8,9]])\n",
        "v=np.array([1,0,1])\n",
        "b=a+v\n",
        "print(b)"
      ],
      "execution_count": null,
      "outputs": [
        {
          "name": "stdout",
          "output_type": "stream",
          "text": [
            "[[ 2  2  4]\n",
            " [ 5  5  7]\n",
            " [ 8  8 10]]\n"
          ]
        }
      ]
    },
    {
      "cell_type": "code",
      "metadata": {
        "colab": {
          "base_uri": "https://localhost:8080/"
        },
        "id": "ePovUcbvS_4r",
        "outputId": "35076056-5bb2-42e3-a01c-4ea92c3bdb52"
      },
      "source": [
        "import numpy as np\n",
        "x=np.array([[1,2,1],[3,4,1]])\n",
        "print(\"X.T:\\n\",x.T)\n",
        "w=np.array([1,1])\n",
        "print(\"W:\\n\",w)\n",
        " \n",
        "print(\"Final :\\n\",(x.T+w).T)"
      ],
      "execution_count": null,
      "outputs": [
        {
          "name": "stdout",
          "output_type": "stream",
          "text": [
            "X.T:\n",
            " [[1 3]\n",
            " [2 4]\n",
            " [1 1]]\n",
            "W:\n",
            " [1 1]\n",
            "Final :\n",
            " [[2 3 2]\n",
            " [4 5 2]]\n"
          ]
        }
      ]
    },
    {
      "cell_type": "code",
      "metadata": {
        "colab": {
          "base_uri": "https://localhost:8080/"
        },
        "id": "WYrtKDNxTCls",
        "outputId": "bc157e50-c3c7-413b-b5b3-b82e8c0aa251"
      },
      "source": [
        "import numpy as np\n",
        "x=np.array([[1,2,1],[3,4,1]])\n",
        "print(x*2)"
      ],
      "execution_count": null,
      "outputs": [
        {
          "name": "stdout",
          "output_type": "stream",
          "text": [
            "[[2 4 2]\n",
            " [6 8 2]]\n"
          ]
        }
      ]
    },
    {
      "cell_type": "code",
      "metadata": {
        "colab": {
          "base_uri": "https://localhost:8080/"
        },
        "id": "ZvLlVKkJTGgJ",
        "outputId": "24e8fa2c-fc62-422c-f87a-1f6eae8827e8"
      },
      "source": [
        "import numpy as np\n",
        "np.random.rand(3,2)"
      ],
      "execution_count": null,
      "outputs": [
        {
          "data": {
            "text/plain": [
              "array([[0.62196557, 0.90696667],\n",
              "       [0.78379688, 0.78665872],\n",
              "       [0.88207275, 0.76023333]])"
            ]
          },
          "execution_count": 52,
          "metadata": {},
          "output_type": "execute_result"
        }
      ]
    },
    {
      "cell_type": "code",
      "metadata": {
        "colab": {
          "base_uri": "https://localhost:8080/"
        },
        "id": "G6C54UBmTJJU",
        "outputId": "f89385b1-1fee-4e94-ec99-a6a051f08ac6"
      },
      "source": [
        "import numpy as np\n",
        "np.random.rand(10)"
      ],
      "execution_count": null,
      "outputs": [
        {
          "data": {
            "text/plain": [
              "array([0.82533223, 0.25910005, 0.84452384, 0.16748967, 0.6984124 ,\n",
              "       0.91197514, 0.17686052, 0.46381246, 0.22493814, 0.05148561])"
            ]
          },
          "execution_count": 53,
          "metadata": {},
          "output_type": "execute_result"
        }
      ]
    },
    {
      "cell_type": "code",
      "metadata": {
        "colab": {
          "base_uri": "https://localhost:8080/"
        },
        "id": "vGiqaWmfTL9m",
        "outputId": "ebb9183a-fb54-4093-d70c-a8939b60a20c"
      },
      "source": [
        "import random\n",
        "print (random.randint(0,9))"
      ],
      "execution_count": null,
      "outputs": [
        {
          "name": "stdout",
          "output_type": "stream",
          "text": [
            "5\n"
          ]
        }
      ]
    },
    {
      "cell_type": "markdown",
      "metadata": {
        "id": "p23u6e6bSs31"
      },
      "source": [
        "# **Pandas**"
      ]
    },
    {
      "cell_type": "markdown",
      "metadata": {
        "id": "QwZfKHyuR8_Y"
      },
      "source": [
        "# **1.Creating Series**"
      ]
    },
    {
      "cell_type": "code",
      "metadata": {
        "colab": {
          "base_uri": "https://localhost:8080/"
        },
        "id": "4D4_GXzoTV_X",
        "outputId": "778d4ef3-dbc8-4e37-e6dd-dc5aa76ac374"
      },
      "source": [
        "import pandas as pd\n",
        "s=pd.Series([1,2,3,4,5],index=['A','B','C','D','E'])\n",
        "s"
      ],
      "execution_count": null,
      "outputs": [
        {
          "data": {
            "text/plain": [
              "A    1\n",
              "B    2\n",
              "C    3\n",
              "D    4\n",
              "E    5\n",
              "dtype: int64"
            ]
          },
          "execution_count": 55,
          "metadata": {},
          "output_type": "execute_result"
        }
      ]
    },
    {
      "cell_type": "markdown",
      "metadata": {
        "id": "NA7qmfCzTYvQ"
      },
      "source": [
        "# **2.Data Frames**"
      ]
    },
    {
      "cell_type": "code",
      "metadata": {
        "colab": {
          "base_uri": "https://localhost:8080/"
        },
        "id": "4sykbYm8Tb4w",
        "outputId": "26728cbe-9a2b-47a7-981a-02cf1542fe2f"
      },
      "source": [
        "import pandas as pd\n",
        "data={'Gen':['F','M','M'],'EiD':['E01','E02','E03'],'Age':[25,45,38]}\n",
        " \n",
        "df=pd.DataFrame(data,columns=['EiD','Age','Gen'])\n",
        "print(df)"
      ],
      "execution_count": null,
      "outputs": [
        {
          "name": "stdout",
          "output_type": "stream",
          "text": [
            "   EiD  Age Gen\n",
            "0  E01   25   F\n",
            "1  E02   45   M\n",
            "2  E03   38   M\n"
          ]
        }
      ]
    },
    {
      "cell_type": "code",
      "metadata": {
        "colab": {
          "base_uri": "https://localhost:8080/"
        },
        "id": "94wxECn1TeaU",
        "outputId": "56efde68-0e92-4c8e-9446-67cddeaa2b35"
      },
      "source": [
        "import pandas as pd\n",
        "from numpy import loadtxt\n",
        "from urllib.request import urlopen\n",
        " \n",
        "url='https://raw.githubusercontent.com/jbrownlee/datasets/master/pima-indians-diabetes.data.csv'\n",
        " \n",
        "raw_data=pd.read_csv(urlopen(url))\n",
        "raw_data.shape"
      ],
      "execution_count": null,
      "outputs": [
        {
          "data": {
            "text/plain": [
              "(767, 9)"
            ]
          },
          "execution_count": 57,
          "metadata": {},
          "output_type": "execute_result"
        }
      ]
    },
    {
      "cell_type": "code",
      "metadata": {
        "colab": {
          "base_uri": "https://localhost:8080/",
          "height": 220
        },
        "id": "xtjo1k28TmJQ",
        "outputId": "1b7422ef-2d0f-4caa-9951-a137cb10f422"
      },
      "source": [
        "raw_data.head()"
      ],
      "execution_count": null,
      "outputs": [
        {
          "data": {
            "text/html": [
              "<div>\n",
              "<style scoped>\n",
              "    .dataframe tbody tr th:only-of-type {\n",
              "        vertical-align: middle;\n",
              "    }\n",
              "\n",
              "    .dataframe tbody tr th {\n",
              "        vertical-align: top;\n",
              "    }\n",
              "\n",
              "    .dataframe thead th {\n",
              "        text-align: right;\n",
              "    }\n",
              "</style>\n",
              "<table border=\"1\" class=\"dataframe\">\n",
              "  <thead>\n",
              "    <tr style=\"text-align: right;\">\n",
              "      <th></th>\n",
              "      <th>6</th>\n",
              "      <th>148</th>\n",
              "      <th>72</th>\n",
              "      <th>35</th>\n",
              "      <th>0</th>\n",
              "      <th>33.6</th>\n",
              "      <th>0.627</th>\n",
              "      <th>50</th>\n",
              "      <th>1</th>\n",
              "    </tr>\n",
              "  </thead>\n",
              "  <tbody>\n",
              "    <tr>\n",
              "      <th>0</th>\n",
              "      <td>1</td>\n",
              "      <td>85</td>\n",
              "      <td>66</td>\n",
              "      <td>29</td>\n",
              "      <td>0</td>\n",
              "      <td>26.6</td>\n",
              "      <td>0.351</td>\n",
              "      <td>31</td>\n",
              "      <td>0</td>\n",
              "    </tr>\n",
              "    <tr>\n",
              "      <th>1</th>\n",
              "      <td>8</td>\n",
              "      <td>183</td>\n",
              "      <td>64</td>\n",
              "      <td>0</td>\n",
              "      <td>0</td>\n",
              "      <td>23.3</td>\n",
              "      <td>0.672</td>\n",
              "      <td>32</td>\n",
              "      <td>1</td>\n",
              "    </tr>\n",
              "    <tr>\n",
              "      <th>2</th>\n",
              "      <td>1</td>\n",
              "      <td>89</td>\n",
              "      <td>66</td>\n",
              "      <td>23</td>\n",
              "      <td>94</td>\n",
              "      <td>28.1</td>\n",
              "      <td>0.167</td>\n",
              "      <td>21</td>\n",
              "      <td>0</td>\n",
              "    </tr>\n",
              "    <tr>\n",
              "      <th>3</th>\n",
              "      <td>0</td>\n",
              "      <td>137</td>\n",
              "      <td>40</td>\n",
              "      <td>35</td>\n",
              "      <td>168</td>\n",
              "      <td>43.1</td>\n",
              "      <td>2.288</td>\n",
              "      <td>33</td>\n",
              "      <td>1</td>\n",
              "    </tr>\n",
              "    <tr>\n",
              "      <th>4</th>\n",
              "      <td>5</td>\n",
              "      <td>116</td>\n",
              "      <td>74</td>\n",
              "      <td>0</td>\n",
              "      <td>0</td>\n",
              "      <td>25.6</td>\n",
              "      <td>0.201</td>\n",
              "      <td>30</td>\n",
              "      <td>0</td>\n",
              "    </tr>\n",
              "  </tbody>\n",
              "</table>\n",
              "</div>"
            ],
            "text/plain": [
              "   6  148  72  35    0  33.6  0.627  50  1\n",
              "0  1   85  66  29    0  26.6  0.351  31  0\n",
              "1  8  183  64   0    0  23.3  0.672  32  1\n",
              "2  1   89  66  23   94  28.1  0.167  21  0\n",
              "3  0  137  40  35  168  43.1  2.288  33  1\n",
              "4  5  116  74   0    0  25.6  0.201  30  0"
            ]
          },
          "execution_count": 58,
          "metadata": {},
          "output_type": "execute_result"
        }
      ]
    },
    {
      "cell_type": "code",
      "metadata": {
        "colab": {
          "base_uri": "https://localhost:8080/",
          "height": 220
        },
        "id": "QqLj_YKMTqYu",
        "outputId": "3703db9a-e0be-4def-cf76-d25e32af656d"
      },
      "source": [
        "raw_data.tail()"
      ],
      "execution_count": null,
      "outputs": [
        {
          "data": {
            "text/html": [
              "<div>\n",
              "<style scoped>\n",
              "    .dataframe tbody tr th:only-of-type {\n",
              "        vertical-align: middle;\n",
              "    }\n",
              "\n",
              "    .dataframe tbody tr th {\n",
              "        vertical-align: top;\n",
              "    }\n",
              "\n",
              "    .dataframe thead th {\n",
              "        text-align: right;\n",
              "    }\n",
              "</style>\n",
              "<table border=\"1\" class=\"dataframe\">\n",
              "  <thead>\n",
              "    <tr style=\"text-align: right;\">\n",
              "      <th></th>\n",
              "      <th>6</th>\n",
              "      <th>148</th>\n",
              "      <th>72</th>\n",
              "      <th>35</th>\n",
              "      <th>0</th>\n",
              "      <th>33.6</th>\n",
              "      <th>0.627</th>\n",
              "      <th>50</th>\n",
              "      <th>1</th>\n",
              "    </tr>\n",
              "  </thead>\n",
              "  <tbody>\n",
              "    <tr>\n",
              "      <th>762</th>\n",
              "      <td>10</td>\n",
              "      <td>101</td>\n",
              "      <td>76</td>\n",
              "      <td>48</td>\n",
              "      <td>180</td>\n",
              "      <td>32.9</td>\n",
              "      <td>0.171</td>\n",
              "      <td>63</td>\n",
              "      <td>0</td>\n",
              "    </tr>\n",
              "    <tr>\n",
              "      <th>763</th>\n",
              "      <td>2</td>\n",
              "      <td>122</td>\n",
              "      <td>70</td>\n",
              "      <td>27</td>\n",
              "      <td>0</td>\n",
              "      <td>36.8</td>\n",
              "      <td>0.340</td>\n",
              "      <td>27</td>\n",
              "      <td>0</td>\n",
              "    </tr>\n",
              "    <tr>\n",
              "      <th>764</th>\n",
              "      <td>5</td>\n",
              "      <td>121</td>\n",
              "      <td>72</td>\n",
              "      <td>23</td>\n",
              "      <td>112</td>\n",
              "      <td>26.2</td>\n",
              "      <td>0.245</td>\n",
              "      <td>30</td>\n",
              "      <td>0</td>\n",
              "    </tr>\n",
              "    <tr>\n",
              "      <th>765</th>\n",
              "      <td>1</td>\n",
              "      <td>126</td>\n",
              "      <td>60</td>\n",
              "      <td>0</td>\n",
              "      <td>0</td>\n",
              "      <td>30.1</td>\n",
              "      <td>0.349</td>\n",
              "      <td>47</td>\n",
              "      <td>1</td>\n",
              "    </tr>\n",
              "    <tr>\n",
              "      <th>766</th>\n",
              "      <td>1</td>\n",
              "      <td>93</td>\n",
              "      <td>70</td>\n",
              "      <td>31</td>\n",
              "      <td>0</td>\n",
              "      <td>30.4</td>\n",
              "      <td>0.315</td>\n",
              "      <td>23</td>\n",
              "      <td>0</td>\n",
              "    </tr>\n",
              "  </tbody>\n",
              "</table>\n",
              "</div>"
            ],
            "text/plain": [
              "      6  148  72  35    0  33.6  0.627  50  1\n",
              "762  10  101  76  48  180  32.9  0.171  63  0\n",
              "763   2  122  70  27    0  36.8  0.340  27  0\n",
              "764   5  121  72  23  112  26.2  0.245  30  0\n",
              "765   1  126  60   0    0  30.1  0.349  47  1\n",
              "766   1   93  70  31    0  30.4  0.315  23  0"
            ]
          },
          "execution_count": 59,
          "metadata": {},
          "output_type": "execute_result"
        }
      ]
    },
    {
      "cell_type": "code",
      "metadata": {
        "colab": {
          "base_uri": "https://localhost:8080/",
          "height": 827
        },
        "id": "9m4uzme4TshU",
        "outputId": "8502b97a-79b8-47a7-eff5-469514d2f1db"
      },
      "source": [
        "raw_data.head(25)"
      ],
      "execution_count": null,
      "outputs": [
        {
          "data": {
            "text/html": [
              "<div>\n",
              "<style scoped>\n",
              "    .dataframe tbody tr th:only-of-type {\n",
              "        vertical-align: middle;\n",
              "    }\n",
              "\n",
              "    .dataframe tbody tr th {\n",
              "        vertical-align: top;\n",
              "    }\n",
              "\n",
              "    .dataframe thead th {\n",
              "        text-align: right;\n",
              "    }\n",
              "</style>\n",
              "<table border=\"1\" class=\"dataframe\">\n",
              "  <thead>\n",
              "    <tr style=\"text-align: right;\">\n",
              "      <th></th>\n",
              "      <th>6</th>\n",
              "      <th>148</th>\n",
              "      <th>72</th>\n",
              "      <th>35</th>\n",
              "      <th>0</th>\n",
              "      <th>33.6</th>\n",
              "      <th>0.627</th>\n",
              "      <th>50</th>\n",
              "      <th>1</th>\n",
              "    </tr>\n",
              "  </thead>\n",
              "  <tbody>\n",
              "    <tr>\n",
              "      <th>0</th>\n",
              "      <td>1</td>\n",
              "      <td>85</td>\n",
              "      <td>66</td>\n",
              "      <td>29</td>\n",
              "      <td>0</td>\n",
              "      <td>26.6</td>\n",
              "      <td>0.351</td>\n",
              "      <td>31</td>\n",
              "      <td>0</td>\n",
              "    </tr>\n",
              "    <tr>\n",
              "      <th>1</th>\n",
              "      <td>8</td>\n",
              "      <td>183</td>\n",
              "      <td>64</td>\n",
              "      <td>0</td>\n",
              "      <td>0</td>\n",
              "      <td>23.3</td>\n",
              "      <td>0.672</td>\n",
              "      <td>32</td>\n",
              "      <td>1</td>\n",
              "    </tr>\n",
              "    <tr>\n",
              "      <th>2</th>\n",
              "      <td>1</td>\n",
              "      <td>89</td>\n",
              "      <td>66</td>\n",
              "      <td>23</td>\n",
              "      <td>94</td>\n",
              "      <td>28.1</td>\n",
              "      <td>0.167</td>\n",
              "      <td>21</td>\n",
              "      <td>0</td>\n",
              "    </tr>\n",
              "    <tr>\n",
              "      <th>3</th>\n",
              "      <td>0</td>\n",
              "      <td>137</td>\n",
              "      <td>40</td>\n",
              "      <td>35</td>\n",
              "      <td>168</td>\n",
              "      <td>43.1</td>\n",
              "      <td>2.288</td>\n",
              "      <td>33</td>\n",
              "      <td>1</td>\n",
              "    </tr>\n",
              "    <tr>\n",
              "      <th>4</th>\n",
              "      <td>5</td>\n",
              "      <td>116</td>\n",
              "      <td>74</td>\n",
              "      <td>0</td>\n",
              "      <td>0</td>\n",
              "      <td>25.6</td>\n",
              "      <td>0.201</td>\n",
              "      <td>30</td>\n",
              "      <td>0</td>\n",
              "    </tr>\n",
              "    <tr>\n",
              "      <th>5</th>\n",
              "      <td>3</td>\n",
              "      <td>78</td>\n",
              "      <td>50</td>\n",
              "      <td>32</td>\n",
              "      <td>88</td>\n",
              "      <td>31.0</td>\n",
              "      <td>0.248</td>\n",
              "      <td>26</td>\n",
              "      <td>1</td>\n",
              "    </tr>\n",
              "    <tr>\n",
              "      <th>6</th>\n",
              "      <td>10</td>\n",
              "      <td>115</td>\n",
              "      <td>0</td>\n",
              "      <td>0</td>\n",
              "      <td>0</td>\n",
              "      <td>35.3</td>\n",
              "      <td>0.134</td>\n",
              "      <td>29</td>\n",
              "      <td>0</td>\n",
              "    </tr>\n",
              "    <tr>\n",
              "      <th>7</th>\n",
              "      <td>2</td>\n",
              "      <td>197</td>\n",
              "      <td>70</td>\n",
              "      <td>45</td>\n",
              "      <td>543</td>\n",
              "      <td>30.5</td>\n",
              "      <td>0.158</td>\n",
              "      <td>53</td>\n",
              "      <td>1</td>\n",
              "    </tr>\n",
              "    <tr>\n",
              "      <th>8</th>\n",
              "      <td>8</td>\n",
              "      <td>125</td>\n",
              "      <td>96</td>\n",
              "      <td>0</td>\n",
              "      <td>0</td>\n",
              "      <td>0.0</td>\n",
              "      <td>0.232</td>\n",
              "      <td>54</td>\n",
              "      <td>1</td>\n",
              "    </tr>\n",
              "    <tr>\n",
              "      <th>9</th>\n",
              "      <td>4</td>\n",
              "      <td>110</td>\n",
              "      <td>92</td>\n",
              "      <td>0</td>\n",
              "      <td>0</td>\n",
              "      <td>37.6</td>\n",
              "      <td>0.191</td>\n",
              "      <td>30</td>\n",
              "      <td>0</td>\n",
              "    </tr>\n",
              "    <tr>\n",
              "      <th>10</th>\n",
              "      <td>10</td>\n",
              "      <td>168</td>\n",
              "      <td>74</td>\n",
              "      <td>0</td>\n",
              "      <td>0</td>\n",
              "      <td>38.0</td>\n",
              "      <td>0.537</td>\n",
              "      <td>34</td>\n",
              "      <td>1</td>\n",
              "    </tr>\n",
              "    <tr>\n",
              "      <th>11</th>\n",
              "      <td>10</td>\n",
              "      <td>139</td>\n",
              "      <td>80</td>\n",
              "      <td>0</td>\n",
              "      <td>0</td>\n",
              "      <td>27.1</td>\n",
              "      <td>1.441</td>\n",
              "      <td>57</td>\n",
              "      <td>0</td>\n",
              "    </tr>\n",
              "    <tr>\n",
              "      <th>12</th>\n",
              "      <td>1</td>\n",
              "      <td>189</td>\n",
              "      <td>60</td>\n",
              "      <td>23</td>\n",
              "      <td>846</td>\n",
              "      <td>30.1</td>\n",
              "      <td>0.398</td>\n",
              "      <td>59</td>\n",
              "      <td>1</td>\n",
              "    </tr>\n",
              "    <tr>\n",
              "      <th>13</th>\n",
              "      <td>5</td>\n",
              "      <td>166</td>\n",
              "      <td>72</td>\n",
              "      <td>19</td>\n",
              "      <td>175</td>\n",
              "      <td>25.8</td>\n",
              "      <td>0.587</td>\n",
              "      <td>51</td>\n",
              "      <td>1</td>\n",
              "    </tr>\n",
              "    <tr>\n",
              "      <th>14</th>\n",
              "      <td>7</td>\n",
              "      <td>100</td>\n",
              "      <td>0</td>\n",
              "      <td>0</td>\n",
              "      <td>0</td>\n",
              "      <td>30.0</td>\n",
              "      <td>0.484</td>\n",
              "      <td>32</td>\n",
              "      <td>1</td>\n",
              "    </tr>\n",
              "    <tr>\n",
              "      <th>15</th>\n",
              "      <td>0</td>\n",
              "      <td>118</td>\n",
              "      <td>84</td>\n",
              "      <td>47</td>\n",
              "      <td>230</td>\n",
              "      <td>45.8</td>\n",
              "      <td>0.551</td>\n",
              "      <td>31</td>\n",
              "      <td>1</td>\n",
              "    </tr>\n",
              "    <tr>\n",
              "      <th>16</th>\n",
              "      <td>7</td>\n",
              "      <td>107</td>\n",
              "      <td>74</td>\n",
              "      <td>0</td>\n",
              "      <td>0</td>\n",
              "      <td>29.6</td>\n",
              "      <td>0.254</td>\n",
              "      <td>31</td>\n",
              "      <td>1</td>\n",
              "    </tr>\n",
              "    <tr>\n",
              "      <th>17</th>\n",
              "      <td>1</td>\n",
              "      <td>103</td>\n",
              "      <td>30</td>\n",
              "      <td>38</td>\n",
              "      <td>83</td>\n",
              "      <td>43.3</td>\n",
              "      <td>0.183</td>\n",
              "      <td>33</td>\n",
              "      <td>0</td>\n",
              "    </tr>\n",
              "    <tr>\n",
              "      <th>18</th>\n",
              "      <td>1</td>\n",
              "      <td>115</td>\n",
              "      <td>70</td>\n",
              "      <td>30</td>\n",
              "      <td>96</td>\n",
              "      <td>34.6</td>\n",
              "      <td>0.529</td>\n",
              "      <td>32</td>\n",
              "      <td>1</td>\n",
              "    </tr>\n",
              "    <tr>\n",
              "      <th>19</th>\n",
              "      <td>3</td>\n",
              "      <td>126</td>\n",
              "      <td>88</td>\n",
              "      <td>41</td>\n",
              "      <td>235</td>\n",
              "      <td>39.3</td>\n",
              "      <td>0.704</td>\n",
              "      <td>27</td>\n",
              "      <td>0</td>\n",
              "    </tr>\n",
              "    <tr>\n",
              "      <th>20</th>\n",
              "      <td>8</td>\n",
              "      <td>99</td>\n",
              "      <td>84</td>\n",
              "      <td>0</td>\n",
              "      <td>0</td>\n",
              "      <td>35.4</td>\n",
              "      <td>0.388</td>\n",
              "      <td>50</td>\n",
              "      <td>0</td>\n",
              "    </tr>\n",
              "    <tr>\n",
              "      <th>21</th>\n",
              "      <td>7</td>\n",
              "      <td>196</td>\n",
              "      <td>90</td>\n",
              "      <td>0</td>\n",
              "      <td>0</td>\n",
              "      <td>39.8</td>\n",
              "      <td>0.451</td>\n",
              "      <td>41</td>\n",
              "      <td>1</td>\n",
              "    </tr>\n",
              "    <tr>\n",
              "      <th>22</th>\n",
              "      <td>9</td>\n",
              "      <td>119</td>\n",
              "      <td>80</td>\n",
              "      <td>35</td>\n",
              "      <td>0</td>\n",
              "      <td>29.0</td>\n",
              "      <td>0.263</td>\n",
              "      <td>29</td>\n",
              "      <td>1</td>\n",
              "    </tr>\n",
              "    <tr>\n",
              "      <th>23</th>\n",
              "      <td>11</td>\n",
              "      <td>143</td>\n",
              "      <td>94</td>\n",
              "      <td>33</td>\n",
              "      <td>146</td>\n",
              "      <td>36.6</td>\n",
              "      <td>0.254</td>\n",
              "      <td>51</td>\n",
              "      <td>1</td>\n",
              "    </tr>\n",
              "    <tr>\n",
              "      <th>24</th>\n",
              "      <td>10</td>\n",
              "      <td>125</td>\n",
              "      <td>70</td>\n",
              "      <td>26</td>\n",
              "      <td>115</td>\n",
              "      <td>31.1</td>\n",
              "      <td>0.205</td>\n",
              "      <td>41</td>\n",
              "      <td>1</td>\n",
              "    </tr>\n",
              "  </tbody>\n",
              "</table>\n",
              "</div>"
            ],
            "text/plain": [
              "     6  148  72  35    0  33.6  0.627  50  1\n",
              "0    1   85  66  29    0  26.6  0.351  31  0\n",
              "1    8  183  64   0    0  23.3  0.672  32  1\n",
              "2    1   89  66  23   94  28.1  0.167  21  0\n",
              "3    0  137  40  35  168  43.1  2.288  33  1\n",
              "4    5  116  74   0    0  25.6  0.201  30  0\n",
              "5    3   78  50  32   88  31.0  0.248  26  1\n",
              "6   10  115   0   0    0  35.3  0.134  29  0\n",
              "7    2  197  70  45  543  30.5  0.158  53  1\n",
              "8    8  125  96   0    0   0.0  0.232  54  1\n",
              "9    4  110  92   0    0  37.6  0.191  30  0\n",
              "10  10  168  74   0    0  38.0  0.537  34  1\n",
              "11  10  139  80   0    0  27.1  1.441  57  0\n",
              "12   1  189  60  23  846  30.1  0.398  59  1\n",
              "13   5  166  72  19  175  25.8  0.587  51  1\n",
              "14   7  100   0   0    0  30.0  0.484  32  1\n",
              "15   0  118  84  47  230  45.8  0.551  31  1\n",
              "16   7  107  74   0    0  29.6  0.254  31  1\n",
              "17   1  103  30  38   83  43.3  0.183  33  0\n",
              "18   1  115  70  30   96  34.6  0.529  32  1\n",
              "19   3  126  88  41  235  39.3  0.704  27  0\n",
              "20   8   99  84   0    0  35.4  0.388  50  0\n",
              "21   7  196  90   0    0  39.8  0.451  41  1\n",
              "22   9  119  80  35    0  29.0  0.263  29  1\n",
              "23  11  143  94  33  146  36.6  0.254  51  1\n",
              "24  10  125  70  26  115  31.1  0.205  41  1"
            ]
          },
          "execution_count": 60,
          "metadata": {},
          "output_type": "execute_result"
        }
      ]
    },
    {
      "cell_type": "code",
      "metadata": {
        "colab": {
          "base_uri": "https://localhost:8080/",
          "height": 311
        },
        "id": "BVZrtCMOTvmS",
        "outputId": "8a75255e-92b5-4286-98be-eb6062686c98"
      },
      "source": [
        "raw_data.describe()"
      ],
      "execution_count": null,
      "outputs": [
        {
          "data": {
            "text/html": [
              "<div>\n",
              "<style scoped>\n",
              "    .dataframe tbody tr th:only-of-type {\n",
              "        vertical-align: middle;\n",
              "    }\n",
              "\n",
              "    .dataframe tbody tr th {\n",
              "        vertical-align: top;\n",
              "    }\n",
              "\n",
              "    .dataframe thead th {\n",
              "        text-align: right;\n",
              "    }\n",
              "</style>\n",
              "<table border=\"1\" class=\"dataframe\">\n",
              "  <thead>\n",
              "    <tr style=\"text-align: right;\">\n",
              "      <th></th>\n",
              "      <th>6</th>\n",
              "      <th>148</th>\n",
              "      <th>72</th>\n",
              "      <th>35</th>\n",
              "      <th>0</th>\n",
              "      <th>33.6</th>\n",
              "      <th>0.627</th>\n",
              "      <th>50</th>\n",
              "      <th>1</th>\n",
              "    </tr>\n",
              "  </thead>\n",
              "  <tbody>\n",
              "    <tr>\n",
              "      <th>count</th>\n",
              "      <td>767.000000</td>\n",
              "      <td>767.000000</td>\n",
              "      <td>767.000000</td>\n",
              "      <td>767.000000</td>\n",
              "      <td>767.000000</td>\n",
              "      <td>767.000000</td>\n",
              "      <td>767.000000</td>\n",
              "      <td>767.000000</td>\n",
              "      <td>767.000000</td>\n",
              "    </tr>\n",
              "    <tr>\n",
              "      <th>mean</th>\n",
              "      <td>3.842243</td>\n",
              "      <td>120.859192</td>\n",
              "      <td>69.101695</td>\n",
              "      <td>20.517601</td>\n",
              "      <td>79.903520</td>\n",
              "      <td>31.990482</td>\n",
              "      <td>0.471674</td>\n",
              "      <td>33.219035</td>\n",
              "      <td>0.348110</td>\n",
              "    </tr>\n",
              "    <tr>\n",
              "      <th>std</th>\n",
              "      <td>3.370877</td>\n",
              "      <td>31.978468</td>\n",
              "      <td>19.368155</td>\n",
              "      <td>15.954059</td>\n",
              "      <td>115.283105</td>\n",
              "      <td>7.889091</td>\n",
              "      <td>0.331497</td>\n",
              "      <td>11.752296</td>\n",
              "      <td>0.476682</td>\n",
              "    </tr>\n",
              "    <tr>\n",
              "      <th>min</th>\n",
              "      <td>0.000000</td>\n",
              "      <td>0.000000</td>\n",
              "      <td>0.000000</td>\n",
              "      <td>0.000000</td>\n",
              "      <td>0.000000</td>\n",
              "      <td>0.000000</td>\n",
              "      <td>0.078000</td>\n",
              "      <td>21.000000</td>\n",
              "      <td>0.000000</td>\n",
              "    </tr>\n",
              "    <tr>\n",
              "      <th>25%</th>\n",
              "      <td>1.000000</td>\n",
              "      <td>99.000000</td>\n",
              "      <td>62.000000</td>\n",
              "      <td>0.000000</td>\n",
              "      <td>0.000000</td>\n",
              "      <td>27.300000</td>\n",
              "      <td>0.243500</td>\n",
              "      <td>24.000000</td>\n",
              "      <td>0.000000</td>\n",
              "    </tr>\n",
              "    <tr>\n",
              "      <th>50%</th>\n",
              "      <td>3.000000</td>\n",
              "      <td>117.000000</td>\n",
              "      <td>72.000000</td>\n",
              "      <td>23.000000</td>\n",
              "      <td>32.000000</td>\n",
              "      <td>32.000000</td>\n",
              "      <td>0.371000</td>\n",
              "      <td>29.000000</td>\n",
              "      <td>0.000000</td>\n",
              "    </tr>\n",
              "    <tr>\n",
              "      <th>75%</th>\n",
              "      <td>6.000000</td>\n",
              "      <td>140.000000</td>\n",
              "      <td>80.000000</td>\n",
              "      <td>32.000000</td>\n",
              "      <td>127.500000</td>\n",
              "      <td>36.600000</td>\n",
              "      <td>0.625000</td>\n",
              "      <td>41.000000</td>\n",
              "      <td>1.000000</td>\n",
              "    </tr>\n",
              "    <tr>\n",
              "      <th>max</th>\n",
              "      <td>17.000000</td>\n",
              "      <td>199.000000</td>\n",
              "      <td>122.000000</td>\n",
              "      <td>99.000000</td>\n",
              "      <td>846.000000</td>\n",
              "      <td>67.100000</td>\n",
              "      <td>2.420000</td>\n",
              "      <td>81.000000</td>\n",
              "      <td>1.000000</td>\n",
              "    </tr>\n",
              "  </tbody>\n",
              "</table>\n",
              "</div>"
            ],
            "text/plain": [
              "                6         148          72  ...       0.627          50           1\n",
              "count  767.000000  767.000000  767.000000  ...  767.000000  767.000000  767.000000\n",
              "mean     3.842243  120.859192   69.101695  ...    0.471674   33.219035    0.348110\n",
              "std      3.370877   31.978468   19.368155  ...    0.331497   11.752296    0.476682\n",
              "min      0.000000    0.000000    0.000000  ...    0.078000   21.000000    0.000000\n",
              "25%      1.000000   99.000000   62.000000  ...    0.243500   24.000000    0.000000\n",
              "50%      3.000000  117.000000   72.000000  ...    0.371000   29.000000    0.000000\n",
              "75%      6.000000  140.000000   80.000000  ...    0.625000   41.000000    1.000000\n",
              "max     17.000000  199.000000  122.000000  ...    2.420000   81.000000    1.000000\n",
              "\n",
              "[8 rows x 9 columns]"
            ]
          },
          "execution_count": 61,
          "metadata": {},
          "output_type": "execute_result"
        }
      ]
    },
    {
      "cell_type": "code",
      "metadata": {
        "colab": {
          "base_uri": "https://localhost:8080/",
          "height": 341
        },
        "id": "0Rsc4EidTyQF",
        "outputId": "22b7c7c7-942d-4878-b8dc-31b2d5831d11"
      },
      "source": [
        "raw_data.cov()"
      ],
      "execution_count": null,
      "outputs": [
        {
          "data": {
            "text/html": [
              "<div>\n",
              "<style scoped>\n",
              "    .dataframe tbody tr th:only-of-type {\n",
              "        vertical-align: middle;\n",
              "    }\n",
              "\n",
              "    .dataframe tbody tr th {\n",
              "        vertical-align: top;\n",
              "    }\n",
              "\n",
              "    .dataframe thead th {\n",
              "        text-align: right;\n",
              "    }\n",
              "</style>\n",
              "<table border=\"1\" class=\"dataframe\">\n",
              "  <thead>\n",
              "    <tr style=\"text-align: right;\">\n",
              "      <th></th>\n",
              "      <th>6</th>\n",
              "      <th>148</th>\n",
              "      <th>72</th>\n",
              "      <th>35</th>\n",
              "      <th>0</th>\n",
              "      <th>33.6</th>\n",
              "      <th>0.627</th>\n",
              "      <th>50</th>\n",
              "      <th>1</th>\n",
              "    </tr>\n",
              "  </thead>\n",
              "  <tbody>\n",
              "    <tr>\n",
              "      <th>6</th>\n",
              "      <td>11.362809</td>\n",
              "      <td>13.888985</td>\n",
              "      <td>9.218414</td>\n",
              "      <td>-4.436515</td>\n",
              "      <td>-28.367721</td>\n",
              "      <td>0.465859</td>\n",
              "      <td>-0.037912</td>\n",
              "      <td>21.551571</td>\n",
              "      <td>0.355250</td>\n",
              "    </tr>\n",
              "    <tr>\n",
              "      <th>148</th>\n",
              "      <td>13.888985</td>\n",
              "      <td>1022.622445</td>\n",
              "      <td>94.451675</td>\n",
              "      <td>28.764884</td>\n",
              "      <td>1225.357154</td>\n",
              "      <td>55.742783</td>\n",
              "      <td>1.451278</td>\n",
              "      <td>98.618350</td>\n",
              "      <td>7.101300</td>\n",
              "    </tr>\n",
              "    <tr>\n",
              "      <th>72</th>\n",
              "      <td>9.218414</td>\n",
              "      <td>94.451675</td>\n",
              "      <td>375.125415</td>\n",
              "      <td>64.058260</td>\n",
              "      <td>198.939328</td>\n",
              "      <td>43.054755</td>\n",
              "      <td>0.264396</td>\n",
              "      <td>54.531221</td>\n",
              "      <td>0.599018</td>\n",
              "    </tr>\n",
              "    <tr>\n",
              "      <th>35</th>\n",
              "      <td>-4.436515</td>\n",
              "      <td>28.764884</td>\n",
              "      <td>64.058260</td>\n",
              "      <td>254.532001</td>\n",
              "      <td>805.536948</td>\n",
              "      <td>49.407935</td>\n",
              "      <td>0.970472</td>\n",
              "      <td>-21.725792</td>\n",
              "      <td>0.557181</td>\n",
              "    </tr>\n",
              "    <tr>\n",
              "      <th>0</th>\n",
              "      <td>-28.367721</td>\n",
              "      <td>1225.357154</td>\n",
              "      <td>198.939328</td>\n",
              "      <td>805.536948</td>\n",
              "      <td>13290.194335</td>\n",
              "      <td>180.177540</td>\n",
              "      <td>7.092087</td>\n",
              "      <td>-55.469702</td>\n",
              "      <td>7.252951</td>\n",
              "    </tr>\n",
              "    <tr>\n",
              "      <th>33.6</th>\n",
              "      <td>0.465859</td>\n",
              "      <td>55.742783</td>\n",
              "      <td>43.054755</td>\n",
              "      <td>49.407935</td>\n",
              "      <td>180.177540</td>\n",
              "      <td>62.237755</td>\n",
              "      <td>0.367558</td>\n",
              "      <td>3.329503</td>\n",
              "      <td>1.100707</td>\n",
              "    </tr>\n",
              "    <tr>\n",
              "      <th>0.627</th>\n",
              "      <td>-0.037912</td>\n",
              "      <td>1.451278</td>\n",
              "      <td>0.264396</td>\n",
              "      <td>0.970472</td>\n",
              "      <td>7.092087</td>\n",
              "      <td>0.367558</td>\n",
              "      <td>0.109890</td>\n",
              "      <td>0.127544</td>\n",
              "      <td>0.027376</td>\n",
              "    </tr>\n",
              "    <tr>\n",
              "      <th>50</th>\n",
              "      <td>21.551571</td>\n",
              "      <td>98.618350</td>\n",
              "      <td>54.531221</td>\n",
              "      <td>-21.725792</td>\n",
              "      <td>-55.469702</td>\n",
              "      <td>3.329503</td>\n",
              "      <td>0.127544</td>\n",
              "      <td>138.116452</td>\n",
              "      <td>1.324436</td>\n",
              "    </tr>\n",
              "    <tr>\n",
              "      <th>1</th>\n",
              "      <td>0.355250</td>\n",
              "      <td>7.101300</td>\n",
              "      <td>0.599018</td>\n",
              "      <td>0.557181</td>\n",
              "      <td>7.252951</td>\n",
              "      <td>1.100707</td>\n",
              "      <td>0.027376</td>\n",
              "      <td>1.324436</td>\n",
              "      <td>0.227226</td>\n",
              "    </tr>\n",
              "  </tbody>\n",
              "</table>\n",
              "</div>"
            ],
            "text/plain": [
              "               6          148          72  ...     0.627          50         1\n",
              "6      11.362809    13.888985    9.218414  ... -0.037912   21.551571  0.355250\n",
              "148    13.888985  1022.622445   94.451675  ...  1.451278   98.618350  7.101300\n",
              "72      9.218414    94.451675  375.125415  ...  0.264396   54.531221  0.599018\n",
              "35     -4.436515    28.764884   64.058260  ...  0.970472  -21.725792  0.557181\n",
              "0     -28.367721  1225.357154  198.939328  ...  7.092087  -55.469702  7.252951\n",
              "33.6    0.465859    55.742783   43.054755  ...  0.367558    3.329503  1.100707\n",
              "0.627  -0.037912     1.451278    0.264396  ...  0.109890    0.127544  0.027376\n",
              "50     21.551571    98.618350   54.531221  ...  0.127544  138.116452  1.324436\n",
              "1       0.355250     7.101300    0.599018  ...  0.027376    1.324436  0.227226\n",
              "\n",
              "[9 rows x 9 columns]"
            ]
          },
          "execution_count": 62,
          "metadata": {},
          "output_type": "execute_result"
        }
      ]
    },
    {
      "cell_type": "code",
      "metadata": {
        "colab": {
          "base_uri": "https://localhost:8080/",
          "height": 341
        },
        "id": "8sCxYrMHT1SQ",
        "outputId": "3cbd07e3-30de-4501-c193-0c48f74d6eb5"
      },
      "source": [
        "raw_data.corr()"
      ],
      "execution_count": null,
      "outputs": [
        {
          "data": {
            "text/html": [
              "<div>\n",
              "<style scoped>\n",
              "    .dataframe tbody tr th:only-of-type {\n",
              "        vertical-align: middle;\n",
              "    }\n",
              "\n",
              "    .dataframe tbody tr th {\n",
              "        vertical-align: top;\n",
              "    }\n",
              "\n",
              "    .dataframe thead th {\n",
              "        text-align: right;\n",
              "    }\n",
              "</style>\n",
              "<table border=\"1\" class=\"dataframe\">\n",
              "  <thead>\n",
              "    <tr style=\"text-align: right;\">\n",
              "      <th></th>\n",
              "      <th>6</th>\n",
              "      <th>148</th>\n",
              "      <th>72</th>\n",
              "      <th>35</th>\n",
              "      <th>0</th>\n",
              "      <th>33.6</th>\n",
              "      <th>0.627</th>\n",
              "      <th>50</th>\n",
              "      <th>1</th>\n",
              "    </tr>\n",
              "  </thead>\n",
              "  <tbody>\n",
              "    <tr>\n",
              "      <th>6</th>\n",
              "      <td>1.000000</td>\n",
              "      <td>0.128846</td>\n",
              "      <td>0.141197</td>\n",
              "      <td>-0.082495</td>\n",
              "      <td>-0.072999</td>\n",
              "      <td>0.017518</td>\n",
              "      <td>-0.033927</td>\n",
              "      <td>0.544018</td>\n",
              "      <td>0.221087</td>\n",
              "    </tr>\n",
              "    <tr>\n",
              "      <th>148</th>\n",
              "      <td>0.128846</td>\n",
              "      <td>1.000000</td>\n",
              "      <td>0.152498</td>\n",
              "      <td>0.056381</td>\n",
              "      <td>0.332383</td>\n",
              "      <td>0.220955</td>\n",
              "      <td>0.136903</td>\n",
              "      <td>0.262408</td>\n",
              "      <td>0.465856</td>\n",
              "    </tr>\n",
              "    <tr>\n",
              "      <th>72</th>\n",
              "      <td>0.141197</td>\n",
              "      <td>0.152498</td>\n",
              "      <td>1.000000</td>\n",
              "      <td>0.207308</td>\n",
              "      <td>0.089098</td>\n",
              "      <td>0.281777</td>\n",
              "      <td>0.041180</td>\n",
              "      <td>0.239571</td>\n",
              "      <td>0.064882</td>\n",
              "    </tr>\n",
              "    <tr>\n",
              "      <th>35</th>\n",
              "      <td>-0.082495</td>\n",
              "      <td>0.056381</td>\n",
              "      <td>0.207308</td>\n",
              "      <td>1.000000</td>\n",
              "      <td>0.437974</td>\n",
              "      <td>0.392553</td>\n",
              "      <td>0.183498</td>\n",
              "      <td>-0.115873</td>\n",
              "      <td>0.073265</td>\n",
              "    </tr>\n",
              "    <tr>\n",
              "      <th>0</th>\n",
              "      <td>-0.072999</td>\n",
              "      <td>0.332383</td>\n",
              "      <td>0.089098</td>\n",
              "      <td>0.437974</td>\n",
              "      <td>1.000000</td>\n",
              "      <td>0.198111</td>\n",
              "      <td>0.185579</td>\n",
              "      <td>-0.040942</td>\n",
              "      <td>0.131984</td>\n",
              "    </tr>\n",
              "    <tr>\n",
              "      <th>33.6</th>\n",
              "      <td>0.017518</td>\n",
              "      <td>0.220955</td>\n",
              "      <td>0.281777</td>\n",
              "      <td>0.392553</td>\n",
              "      <td>0.198111</td>\n",
              "      <td>1.000000</td>\n",
              "      <td>0.140546</td>\n",
              "      <td>0.035911</td>\n",
              "      <td>0.292695</td>\n",
              "    </tr>\n",
              "    <tr>\n",
              "      <th>0.627</th>\n",
              "      <td>-0.033927</td>\n",
              "      <td>0.136903</td>\n",
              "      <td>0.041180</td>\n",
              "      <td>0.183498</td>\n",
              "      <td>0.185579</td>\n",
              "      <td>0.140546</td>\n",
              "      <td>1.000000</td>\n",
              "      <td>0.032738</td>\n",
              "      <td>0.173245</td>\n",
              "    </tr>\n",
              "    <tr>\n",
              "      <th>50</th>\n",
              "      <td>0.544018</td>\n",
              "      <td>0.262408</td>\n",
              "      <td>0.239571</td>\n",
              "      <td>-0.115873</td>\n",
              "      <td>-0.040942</td>\n",
              "      <td>0.035911</td>\n",
              "      <td>0.032738</td>\n",
              "      <td>1.000000</td>\n",
              "      <td>0.236417</td>\n",
              "    </tr>\n",
              "    <tr>\n",
              "      <th>1</th>\n",
              "      <td>0.221087</td>\n",
              "      <td>0.465856</td>\n",
              "      <td>0.064882</td>\n",
              "      <td>0.073265</td>\n",
              "      <td>0.131984</td>\n",
              "      <td>0.292695</td>\n",
              "      <td>0.173245</td>\n",
              "      <td>0.236417</td>\n",
              "      <td>1.000000</td>\n",
              "    </tr>\n",
              "  </tbody>\n",
              "</table>\n",
              "</div>"
            ],
            "text/plain": [
              "              6       148        72  ...     0.627        50         1\n",
              "6      1.000000  0.128846  0.141197  ... -0.033927  0.544018  0.221087\n",
              "148    0.128846  1.000000  0.152498  ...  0.136903  0.262408  0.465856\n",
              "72     0.141197  0.152498  1.000000  ...  0.041180  0.239571  0.064882\n",
              "35    -0.082495  0.056381  0.207308  ...  0.183498 -0.115873  0.073265\n",
              "0     -0.072999  0.332383  0.089098  ...  0.185579 -0.040942  0.131984\n",
              "33.6   0.017518  0.220955  0.281777  ...  0.140546  0.035911  0.292695\n",
              "0.627 -0.033927  0.136903  0.041180  ...  1.000000  0.032738  0.173245\n",
              "50     0.544018  0.262408  0.239571  ...  0.032738  1.000000  0.236417\n",
              "1      0.221087  0.465856  0.064882  ...  0.173245  0.236417  1.000000\n",
              "\n",
              "[9 rows x 9 columns]"
            ]
          },
          "execution_count": 63,
          "metadata": {},
          "output_type": "execute_result"
        }
      ]
    },
    {
      "cell_type": "code",
      "metadata": {
        "colab": {
          "base_uri": "https://localhost:8080/"
        },
        "id": "B-StbIyWT31k",
        "outputId": "e4a68a62-9120-4f1e-9197-44e6f9f0799e"
      },
      "source": [
        "from sklearn.datasets import load_iris\n",
        "import numpy as np\n",
        "iris=load_iris()\n",
        "iris"
      ],
      "execution_count": null,
      "outputs": [
        {
          "data": {
            "text/plain": [
              "{'DESCR': '.. _iris_dataset:\\n\\nIris plants dataset\\n--------------------\\n\\n**Data Set Characteristics:**\\n\\n    :Number of Instances: 150 (50 in each of three classes)\\n    :Number of Attributes: 4 numeric, predictive attributes and the class\\n    :Attribute Information:\\n        - sepal length in cm\\n        - sepal width in cm\\n        - petal length in cm\\n        - petal width in cm\\n        - class:\\n                - Iris-Setosa\\n                - Iris-Versicolour\\n                - Iris-Virginica\\n                \\n    :Summary Statistics:\\n\\n    ============== ==== ==== ======= ===== ====================\\n                    Min  Max   Mean    SD   Class Correlation\\n    ============== ==== ==== ======= ===== ====================\\n    sepal length:   4.3  7.9   5.84   0.83    0.7826\\n    sepal width:    2.0  4.4   3.05   0.43   -0.4194\\n    petal length:   1.0  6.9   3.76   1.76    0.9490  (high!)\\n    petal width:    0.1  2.5   1.20   0.76    0.9565  (high!)\\n    ============== ==== ==== ======= ===== ====================\\n\\n    :Missing Attribute Values: None\\n    :Class Distribution: 33.3% for each of 3 classes.\\n    :Creator: R.A. Fisher\\n    :Donor: Michael Marshall (MARSHALL%PLU@io.arc.nasa.gov)\\n    :Date: July, 1988\\n\\nThe famous Iris database, first used by Sir R.A. Fisher. The dataset is taken\\nfrom Fisher\\'s paper. Note that it\\'s the same as in R, but not as in the UCI\\nMachine Learning Repository, which has two wrong data points.\\n\\nThis is perhaps the best known database to be found in the\\npattern recognition literature.  Fisher\\'s paper is a classic in the field and\\nis referenced frequently to this day.  (See Duda & Hart, for example.)  The\\ndata set contains 3 classes of 50 instances each, where each class refers to a\\ntype of iris plant.  One class is linearly separable from the other 2; the\\nlatter are NOT linearly separable from each other.\\n\\n.. topic:: References\\n\\n   - Fisher, R.A. \"The use of multiple measurements in taxonomic problems\"\\n     Annual Eugenics, 7, Part II, 179-188 (1936); also in \"Contributions to\\n     Mathematical Statistics\" (John Wiley, NY, 1950).\\n   - Duda, R.O., & Hart, P.E. (1973) Pattern Classification and Scene Analysis.\\n     (Q327.D83) John Wiley & Sons.  ISBN 0-471-22361-1.  See page 218.\\n   - Dasarathy, B.V. (1980) \"Nosing Around the Neighborhood: A New System\\n     Structure and Classification Rule for Recognition in Partially Exposed\\n     Environments\".  IEEE Transactions on Pattern Analysis and Machine\\n     Intelligence, Vol. PAMI-2, No. 1, 67-71.\\n   - Gates, G.W. (1972) \"The Reduced Nearest Neighbor Rule\".  IEEE Transactions\\n     on Information Theory, May 1972, 431-433.\\n   - See also: 1988 MLC Proceedings, 54-64.  Cheeseman et al\"s AUTOCLASS II\\n     conceptual clustering system finds 3 classes in the data.\\n   - Many, many more ...',\n",
              " 'data': array([[5.1, 3.5, 1.4, 0.2],\n",
              "        [4.9, 3. , 1.4, 0.2],\n",
              "        [4.7, 3.2, 1.3, 0.2],\n",
              "        [4.6, 3.1, 1.5, 0.2],\n",
              "        [5. , 3.6, 1.4, 0.2],\n",
              "        [5.4, 3.9, 1.7, 0.4],\n",
              "        [4.6, 3.4, 1.4, 0.3],\n",
              "        [5. , 3.4, 1.5, 0.2],\n",
              "        [4.4, 2.9, 1.4, 0.2],\n",
              "        [4.9, 3.1, 1.5, 0.1],\n",
              "        [5.4, 3.7, 1.5, 0.2],\n",
              "        [4.8, 3.4, 1.6, 0.2],\n",
              "        [4.8, 3. , 1.4, 0.1],\n",
              "        [4.3, 3. , 1.1, 0.1],\n",
              "        [5.8, 4. , 1.2, 0.2],\n",
              "        [5.7, 4.4, 1.5, 0.4],\n",
              "        [5.4, 3.9, 1.3, 0.4],\n",
              "        [5.1, 3.5, 1.4, 0.3],\n",
              "        [5.7, 3.8, 1.7, 0.3],\n",
              "        [5.1, 3.8, 1.5, 0.3],\n",
              "        [5.4, 3.4, 1.7, 0.2],\n",
              "        [5.1, 3.7, 1.5, 0.4],\n",
              "        [4.6, 3.6, 1. , 0.2],\n",
              "        [5.1, 3.3, 1.7, 0.5],\n",
              "        [4.8, 3.4, 1.9, 0.2],\n",
              "        [5. , 3. , 1.6, 0.2],\n",
              "        [5. , 3.4, 1.6, 0.4],\n",
              "        [5.2, 3.5, 1.5, 0.2],\n",
              "        [5.2, 3.4, 1.4, 0.2],\n",
              "        [4.7, 3.2, 1.6, 0.2],\n",
              "        [4.8, 3.1, 1.6, 0.2],\n",
              "        [5.4, 3.4, 1.5, 0.4],\n",
              "        [5.2, 4.1, 1.5, 0.1],\n",
              "        [5.5, 4.2, 1.4, 0.2],\n",
              "        [4.9, 3.1, 1.5, 0.2],\n",
              "        [5. , 3.2, 1.2, 0.2],\n",
              "        [5.5, 3.5, 1.3, 0.2],\n",
              "        [4.9, 3.6, 1.4, 0.1],\n",
              "        [4.4, 3. , 1.3, 0.2],\n",
              "        [5.1, 3.4, 1.5, 0.2],\n",
              "        [5. , 3.5, 1.3, 0.3],\n",
              "        [4.5, 2.3, 1.3, 0.3],\n",
              "        [4.4, 3.2, 1.3, 0.2],\n",
              "        [5. , 3.5, 1.6, 0.6],\n",
              "        [5.1, 3.8, 1.9, 0.4],\n",
              "        [4.8, 3. , 1.4, 0.3],\n",
              "        [5.1, 3.8, 1.6, 0.2],\n",
              "        [4.6, 3.2, 1.4, 0.2],\n",
              "        [5.3, 3.7, 1.5, 0.2],\n",
              "        [5. , 3.3, 1.4, 0.2],\n",
              "        [7. , 3.2, 4.7, 1.4],\n",
              "        [6.4, 3.2, 4.5, 1.5],\n",
              "        [6.9, 3.1, 4.9, 1.5],\n",
              "        [5.5, 2.3, 4. , 1.3],\n",
              "        [6.5, 2.8, 4.6, 1.5],\n",
              "        [5.7, 2.8, 4.5, 1.3],\n",
              "        [6.3, 3.3, 4.7, 1.6],\n",
              "        [4.9, 2.4, 3.3, 1. ],\n",
              "        [6.6, 2.9, 4.6, 1.3],\n",
              "        [5.2, 2.7, 3.9, 1.4],\n",
              "        [5. , 2. , 3.5, 1. ],\n",
              "        [5.9, 3. , 4.2, 1.5],\n",
              "        [6. , 2.2, 4. , 1. ],\n",
              "        [6.1, 2.9, 4.7, 1.4],\n",
              "        [5.6, 2.9, 3.6, 1.3],\n",
              "        [6.7, 3.1, 4.4, 1.4],\n",
              "        [5.6, 3. , 4.5, 1.5],\n",
              "        [5.8, 2.7, 4.1, 1. ],\n",
              "        [6.2, 2.2, 4.5, 1.5],\n",
              "        [5.6, 2.5, 3.9, 1.1],\n",
              "        [5.9, 3.2, 4.8, 1.8],\n",
              "        [6.1, 2.8, 4. , 1.3],\n",
              "        [6.3, 2.5, 4.9, 1.5],\n",
              "        [6.1, 2.8, 4.7, 1.2],\n",
              "        [6.4, 2.9, 4.3, 1.3],\n",
              "        [6.6, 3. , 4.4, 1.4],\n",
              "        [6.8, 2.8, 4.8, 1.4],\n",
              "        [6.7, 3. , 5. , 1.7],\n",
              "        [6. , 2.9, 4.5, 1.5],\n",
              "        [5.7, 2.6, 3.5, 1. ],\n",
              "        [5.5, 2.4, 3.8, 1.1],\n",
              "        [5.5, 2.4, 3.7, 1. ],\n",
              "        [5.8, 2.7, 3.9, 1.2],\n",
              "        [6. , 2.7, 5.1, 1.6],\n",
              "        [5.4, 3. , 4.5, 1.5],\n",
              "        [6. , 3.4, 4.5, 1.6],\n",
              "        [6.7, 3.1, 4.7, 1.5],\n",
              "        [6.3, 2.3, 4.4, 1.3],\n",
              "        [5.6, 3. , 4.1, 1.3],\n",
              "        [5.5, 2.5, 4. , 1.3],\n",
              "        [5.5, 2.6, 4.4, 1.2],\n",
              "        [6.1, 3. , 4.6, 1.4],\n",
              "        [5.8, 2.6, 4. , 1.2],\n",
              "        [5. , 2.3, 3.3, 1. ],\n",
              "        [5.6, 2.7, 4.2, 1.3],\n",
              "        [5.7, 3. , 4.2, 1.2],\n",
              "        [5.7, 2.9, 4.2, 1.3],\n",
              "        [6.2, 2.9, 4.3, 1.3],\n",
              "        [5.1, 2.5, 3. , 1.1],\n",
              "        [5.7, 2.8, 4.1, 1.3],\n",
              "        [6.3, 3.3, 6. , 2.5],\n",
              "        [5.8, 2.7, 5.1, 1.9],\n",
              "        [7.1, 3. , 5.9, 2.1],\n",
              "        [6.3, 2.9, 5.6, 1.8],\n",
              "        [6.5, 3. , 5.8, 2.2],\n",
              "        [7.6, 3. , 6.6, 2.1],\n",
              "        [4.9, 2.5, 4.5, 1.7],\n",
              "        [7.3, 2.9, 6.3, 1.8],\n",
              "        [6.7, 2.5, 5.8, 1.8],\n",
              "        [7.2, 3.6, 6.1, 2.5],\n",
              "        [6.5, 3.2, 5.1, 2. ],\n",
              "        [6.4, 2.7, 5.3, 1.9],\n",
              "        [6.8, 3. , 5.5, 2.1],\n",
              "        [5.7, 2.5, 5. , 2. ],\n",
              "        [5.8, 2.8, 5.1, 2.4],\n",
              "        [6.4, 3.2, 5.3, 2.3],\n",
              "        [6.5, 3. , 5.5, 1.8],\n",
              "        [7.7, 3.8, 6.7, 2.2],\n",
              "        [7.7, 2.6, 6.9, 2.3],\n",
              "        [6. , 2.2, 5. , 1.5],\n",
              "        [6.9, 3.2, 5.7, 2.3],\n",
              "        [5.6, 2.8, 4.9, 2. ],\n",
              "        [7.7, 2.8, 6.7, 2. ],\n",
              "        [6.3, 2.7, 4.9, 1.8],\n",
              "        [6.7, 3.3, 5.7, 2.1],\n",
              "        [7.2, 3.2, 6. , 1.8],\n",
              "        [6.2, 2.8, 4.8, 1.8],\n",
              "        [6.1, 3. , 4.9, 1.8],\n",
              "        [6.4, 2.8, 5.6, 2.1],\n",
              "        [7.2, 3. , 5.8, 1.6],\n",
              "        [7.4, 2.8, 6.1, 1.9],\n",
              "        [7.9, 3.8, 6.4, 2. ],\n",
              "        [6.4, 2.8, 5.6, 2.2],\n",
              "        [6.3, 2.8, 5.1, 1.5],\n",
              "        [6.1, 2.6, 5.6, 1.4],\n",
              "        [7.7, 3. , 6.1, 2.3],\n",
              "        [6.3, 3.4, 5.6, 2.4],\n",
              "        [6.4, 3.1, 5.5, 1.8],\n",
              "        [6. , 3. , 4.8, 1.8],\n",
              "        [6.9, 3.1, 5.4, 2.1],\n",
              "        [6.7, 3.1, 5.6, 2.4],\n",
              "        [6.9, 3.1, 5.1, 2.3],\n",
              "        [5.8, 2.7, 5.1, 1.9],\n",
              "        [6.8, 3.2, 5.9, 2.3],\n",
              "        [6.7, 3.3, 5.7, 2.5],\n",
              "        [6.7, 3. , 5.2, 2.3],\n",
              "        [6.3, 2.5, 5. , 1.9],\n",
              "        [6.5, 3. , 5.2, 2. ],\n",
              "        [6.2, 3.4, 5.4, 2.3],\n",
              "        [5.9, 3. , 5.1, 1.8]]),\n",
              " 'feature_names': ['sepal length (cm)',\n",
              "  'sepal width (cm)',\n",
              "  'petal length (cm)',\n",
              "  'petal width (cm)'],\n",
              " 'filename': '/usr/local/lib/python3.7/dist-packages/sklearn/datasets/data/iris.csv',\n",
              " 'target': array([0, 0, 0, 0, 0, 0, 0, 0, 0, 0, 0, 0, 0, 0, 0, 0, 0, 0, 0, 0, 0, 0,\n",
              "        0, 0, 0, 0, 0, 0, 0, 0, 0, 0, 0, 0, 0, 0, 0, 0, 0, 0, 0, 0, 0, 0,\n",
              "        0, 0, 0, 0, 0, 0, 1, 1, 1, 1, 1, 1, 1, 1, 1, 1, 1, 1, 1, 1, 1, 1,\n",
              "        1, 1, 1, 1, 1, 1, 1, 1, 1, 1, 1, 1, 1, 1, 1, 1, 1, 1, 1, 1, 1, 1,\n",
              "        1, 1, 1, 1, 1, 1, 1, 1, 1, 1, 1, 1, 2, 2, 2, 2, 2, 2, 2, 2, 2, 2,\n",
              "        2, 2, 2, 2, 2, 2, 2, 2, 2, 2, 2, 2, 2, 2, 2, 2, 2, 2, 2, 2, 2, 2,\n",
              "        2, 2, 2, 2, 2, 2, 2, 2, 2, 2, 2, 2, 2, 2, 2, 2, 2, 2]),\n",
              " 'target_names': array(['setosa', 'versicolor', 'virginica'], dtype='<U10')}"
            ]
          },
          "execution_count": 64,
          "metadata": {},
          "output_type": "execute_result"
        }
      ]
    },
    {
      "cell_type": "code",
      "metadata": {
        "colab": {
          "base_uri": "https://localhost:8080/",
          "height": 411
        },
        "id": "5rPa9S6dT7gx",
        "outputId": "0aaaa211-904d-4f7f-ec39-bd2b9cf491b6"
      },
      "source": [
        "X=pd.DataFrame(iris.data)\n",
        "X"
      ],
      "execution_count": null,
      "outputs": [
        {
          "data": {
            "text/html": [
              "<div>\n",
              "<style scoped>\n",
              "    .dataframe tbody tr th:only-of-type {\n",
              "        vertical-align: middle;\n",
              "    }\n",
              "\n",
              "    .dataframe tbody tr th {\n",
              "        vertical-align: top;\n",
              "    }\n",
              "\n",
              "    .dataframe thead th {\n",
              "        text-align: right;\n",
              "    }\n",
              "</style>\n",
              "<table border=\"1\" class=\"dataframe\">\n",
              "  <thead>\n",
              "    <tr style=\"text-align: right;\">\n",
              "      <th></th>\n",
              "      <th>0</th>\n",
              "      <th>1</th>\n",
              "      <th>2</th>\n",
              "      <th>3</th>\n",
              "    </tr>\n",
              "  </thead>\n",
              "  <tbody>\n",
              "    <tr>\n",
              "      <th>0</th>\n",
              "      <td>5.1</td>\n",
              "      <td>3.5</td>\n",
              "      <td>1.4</td>\n",
              "      <td>0.2</td>\n",
              "    </tr>\n",
              "    <tr>\n",
              "      <th>1</th>\n",
              "      <td>4.9</td>\n",
              "      <td>3.0</td>\n",
              "      <td>1.4</td>\n",
              "      <td>0.2</td>\n",
              "    </tr>\n",
              "    <tr>\n",
              "      <th>2</th>\n",
              "      <td>4.7</td>\n",
              "      <td>3.2</td>\n",
              "      <td>1.3</td>\n",
              "      <td>0.2</td>\n",
              "    </tr>\n",
              "    <tr>\n",
              "      <th>3</th>\n",
              "      <td>4.6</td>\n",
              "      <td>3.1</td>\n",
              "      <td>1.5</td>\n",
              "      <td>0.2</td>\n",
              "    </tr>\n",
              "    <tr>\n",
              "      <th>4</th>\n",
              "      <td>5.0</td>\n",
              "      <td>3.6</td>\n",
              "      <td>1.4</td>\n",
              "      <td>0.2</td>\n",
              "    </tr>\n",
              "    <tr>\n",
              "      <th>...</th>\n",
              "      <td>...</td>\n",
              "      <td>...</td>\n",
              "      <td>...</td>\n",
              "      <td>...</td>\n",
              "    </tr>\n",
              "    <tr>\n",
              "      <th>145</th>\n",
              "      <td>6.7</td>\n",
              "      <td>3.0</td>\n",
              "      <td>5.2</td>\n",
              "      <td>2.3</td>\n",
              "    </tr>\n",
              "    <tr>\n",
              "      <th>146</th>\n",
              "      <td>6.3</td>\n",
              "      <td>2.5</td>\n",
              "      <td>5.0</td>\n",
              "      <td>1.9</td>\n",
              "    </tr>\n",
              "    <tr>\n",
              "      <th>147</th>\n",
              "      <td>6.5</td>\n",
              "      <td>3.0</td>\n",
              "      <td>5.2</td>\n",
              "      <td>2.0</td>\n",
              "    </tr>\n",
              "    <tr>\n",
              "      <th>148</th>\n",
              "      <td>6.2</td>\n",
              "      <td>3.4</td>\n",
              "      <td>5.4</td>\n",
              "      <td>2.3</td>\n",
              "    </tr>\n",
              "    <tr>\n",
              "      <th>149</th>\n",
              "      <td>5.9</td>\n",
              "      <td>3.0</td>\n",
              "      <td>5.1</td>\n",
              "      <td>1.8</td>\n",
              "    </tr>\n",
              "  </tbody>\n",
              "</table>\n",
              "<p>150 rows × 4 columns</p>\n",
              "</div>"
            ],
            "text/plain": [
              "       0    1    2    3\n",
              "0    5.1  3.5  1.4  0.2\n",
              "1    4.9  3.0  1.4  0.2\n",
              "2    4.7  3.2  1.3  0.2\n",
              "3    4.6  3.1  1.5  0.2\n",
              "4    5.0  3.6  1.4  0.2\n",
              "..   ...  ...  ...  ...\n",
              "145  6.7  3.0  5.2  2.3\n",
              "146  6.3  2.5  5.0  1.9\n",
              "147  6.5  3.0  5.2  2.0\n",
              "148  6.2  3.4  5.4  2.3\n",
              "149  5.9  3.0  5.1  1.8\n",
              "\n",
              "[150 rows x 4 columns]"
            ]
          },
          "execution_count": 65,
          "metadata": {},
          "output_type": "execute_result"
        }
      ]
    },
    {
      "cell_type": "code",
      "metadata": {
        "colab": {
          "base_uri": "https://localhost:8080/",
          "height": 220
        },
        "id": "kETKtOJrT_So",
        "outputId": "7a8e34da-a3e4-4344-8fa8-5d00c5034d75"
      },
      "source": [
        "X.shape\n",
        "(150,4)\n",
        "X.columns=['Sepal_length','Sepal_width','petal_length','petal_width']\n",
        "X.head()"
      ],
      "execution_count": null,
      "outputs": [
        {
          "data": {
            "text/html": [
              "<div>\n",
              "<style scoped>\n",
              "    .dataframe tbody tr th:only-of-type {\n",
              "        vertical-align: middle;\n",
              "    }\n",
              "\n",
              "    .dataframe tbody tr th {\n",
              "        vertical-align: top;\n",
              "    }\n",
              "\n",
              "    .dataframe thead th {\n",
              "        text-align: right;\n",
              "    }\n",
              "</style>\n",
              "<table border=\"1\" class=\"dataframe\">\n",
              "  <thead>\n",
              "    <tr style=\"text-align: right;\">\n",
              "      <th></th>\n",
              "      <th>Sepal_length</th>\n",
              "      <th>Sepal_width</th>\n",
              "      <th>petal_length</th>\n",
              "      <th>petal_width</th>\n",
              "    </tr>\n",
              "  </thead>\n",
              "  <tbody>\n",
              "    <tr>\n",
              "      <th>0</th>\n",
              "      <td>5.1</td>\n",
              "      <td>3.5</td>\n",
              "      <td>1.4</td>\n",
              "      <td>0.2</td>\n",
              "    </tr>\n",
              "    <tr>\n",
              "      <th>1</th>\n",
              "      <td>4.9</td>\n",
              "      <td>3.0</td>\n",
              "      <td>1.4</td>\n",
              "      <td>0.2</td>\n",
              "    </tr>\n",
              "    <tr>\n",
              "      <th>2</th>\n",
              "      <td>4.7</td>\n",
              "      <td>3.2</td>\n",
              "      <td>1.3</td>\n",
              "      <td>0.2</td>\n",
              "    </tr>\n",
              "    <tr>\n",
              "      <th>3</th>\n",
              "      <td>4.6</td>\n",
              "      <td>3.1</td>\n",
              "      <td>1.5</td>\n",
              "      <td>0.2</td>\n",
              "    </tr>\n",
              "    <tr>\n",
              "      <th>4</th>\n",
              "      <td>5.0</td>\n",
              "      <td>3.6</td>\n",
              "      <td>1.4</td>\n",
              "      <td>0.2</td>\n",
              "    </tr>\n",
              "  </tbody>\n",
              "</table>\n",
              "</div>"
            ],
            "text/plain": [
              "   Sepal_length  Sepal_width  petal_length  petal_width\n",
              "0           5.1          3.5           1.4          0.2\n",
              "1           4.9          3.0           1.4          0.2\n",
              "2           4.7          3.2           1.3          0.2\n",
              "3           4.6          3.1           1.5          0.2\n",
              "4           5.0          3.6           1.4          0.2"
            ]
          },
          "execution_count": 66,
          "metadata": {},
          "output_type": "execute_result"
        }
      ]
    },
    {
      "cell_type": "code",
      "metadata": {
        "colab": {
          "base_uri": "https://localhost:8080/",
          "height": 220
        },
        "id": "jb7SdSp7UB4x",
        "outputId": "6f5a1d4b-1607-4fec-d365-47e2caa09254"
      },
      "source": [
        "X.tail()"
      ],
      "execution_count": null,
      "outputs": [
        {
          "data": {
            "text/html": [
              "<div>\n",
              "<style scoped>\n",
              "    .dataframe tbody tr th:only-of-type {\n",
              "        vertical-align: middle;\n",
              "    }\n",
              "\n",
              "    .dataframe tbody tr th {\n",
              "        vertical-align: top;\n",
              "    }\n",
              "\n",
              "    .dataframe thead th {\n",
              "        text-align: right;\n",
              "    }\n",
              "</style>\n",
              "<table border=\"1\" class=\"dataframe\">\n",
              "  <thead>\n",
              "    <tr style=\"text-align: right;\">\n",
              "      <th></th>\n",
              "      <th>Sepal_length</th>\n",
              "      <th>Sepal_width</th>\n",
              "      <th>petal_length</th>\n",
              "      <th>petal_width</th>\n",
              "    </tr>\n",
              "  </thead>\n",
              "  <tbody>\n",
              "    <tr>\n",
              "      <th>145</th>\n",
              "      <td>6.7</td>\n",
              "      <td>3.0</td>\n",
              "      <td>5.2</td>\n",
              "      <td>2.3</td>\n",
              "    </tr>\n",
              "    <tr>\n",
              "      <th>146</th>\n",
              "      <td>6.3</td>\n",
              "      <td>2.5</td>\n",
              "      <td>5.0</td>\n",
              "      <td>1.9</td>\n",
              "    </tr>\n",
              "    <tr>\n",
              "      <th>147</th>\n",
              "      <td>6.5</td>\n",
              "      <td>3.0</td>\n",
              "      <td>5.2</td>\n",
              "      <td>2.0</td>\n",
              "    </tr>\n",
              "    <tr>\n",
              "      <th>148</th>\n",
              "      <td>6.2</td>\n",
              "      <td>3.4</td>\n",
              "      <td>5.4</td>\n",
              "      <td>2.3</td>\n",
              "    </tr>\n",
              "    <tr>\n",
              "      <th>149</th>\n",
              "      <td>5.9</td>\n",
              "      <td>3.0</td>\n",
              "      <td>5.1</td>\n",
              "      <td>1.8</td>\n",
              "    </tr>\n",
              "  </tbody>\n",
              "</table>\n",
              "</div>"
            ],
            "text/plain": [
              "     Sepal_length  Sepal_width  petal_length  petal_width\n",
              "145           6.7          3.0           5.2          2.3\n",
              "146           6.3          2.5           5.0          1.9\n",
              "147           6.5          3.0           5.2          2.0\n",
              "148           6.2          3.4           5.4          2.3\n",
              "149           5.9          3.0           5.1          1.8"
            ]
          },
          "execution_count": 67,
          "metadata": {},
          "output_type": "execute_result"
        }
      ]
    },
    {
      "cell_type": "code",
      "metadata": {
        "colab": {
          "base_uri": "https://localhost:8080/",
          "height": 311
        },
        "id": "Vyaf6oFQUCaM",
        "outputId": "a83f21be-c147-4270-deb5-c02a723ef2d2"
      },
      "source": [
        "X.describe()"
      ],
      "execution_count": null,
      "outputs": [
        {
          "data": {
            "text/html": [
              "<div>\n",
              "<style scoped>\n",
              "    .dataframe tbody tr th:only-of-type {\n",
              "        vertical-align: middle;\n",
              "    }\n",
              "\n",
              "    .dataframe tbody tr th {\n",
              "        vertical-align: top;\n",
              "    }\n",
              "\n",
              "    .dataframe thead th {\n",
              "        text-align: right;\n",
              "    }\n",
              "</style>\n",
              "<table border=\"1\" class=\"dataframe\">\n",
              "  <thead>\n",
              "    <tr style=\"text-align: right;\">\n",
              "      <th></th>\n",
              "      <th>Sepal_length</th>\n",
              "      <th>Sepal_width</th>\n",
              "      <th>petal_length</th>\n",
              "      <th>petal_width</th>\n",
              "    </tr>\n",
              "  </thead>\n",
              "  <tbody>\n",
              "    <tr>\n",
              "      <th>count</th>\n",
              "      <td>150.000000</td>\n",
              "      <td>150.000000</td>\n",
              "      <td>150.000000</td>\n",
              "      <td>150.000000</td>\n",
              "    </tr>\n",
              "    <tr>\n",
              "      <th>mean</th>\n",
              "      <td>5.843333</td>\n",
              "      <td>3.057333</td>\n",
              "      <td>3.758000</td>\n",
              "      <td>1.199333</td>\n",
              "    </tr>\n",
              "    <tr>\n",
              "      <th>std</th>\n",
              "      <td>0.828066</td>\n",
              "      <td>0.435866</td>\n",
              "      <td>1.765298</td>\n",
              "      <td>0.762238</td>\n",
              "    </tr>\n",
              "    <tr>\n",
              "      <th>min</th>\n",
              "      <td>4.300000</td>\n",
              "      <td>2.000000</td>\n",
              "      <td>1.000000</td>\n",
              "      <td>0.100000</td>\n",
              "    </tr>\n",
              "    <tr>\n",
              "      <th>25%</th>\n",
              "      <td>5.100000</td>\n",
              "      <td>2.800000</td>\n",
              "      <td>1.600000</td>\n",
              "      <td>0.300000</td>\n",
              "    </tr>\n",
              "    <tr>\n",
              "      <th>50%</th>\n",
              "      <td>5.800000</td>\n",
              "      <td>3.000000</td>\n",
              "      <td>4.350000</td>\n",
              "      <td>1.300000</td>\n",
              "    </tr>\n",
              "    <tr>\n",
              "      <th>75%</th>\n",
              "      <td>6.400000</td>\n",
              "      <td>3.300000</td>\n",
              "      <td>5.100000</td>\n",
              "      <td>1.800000</td>\n",
              "    </tr>\n",
              "    <tr>\n",
              "      <th>max</th>\n",
              "      <td>7.900000</td>\n",
              "      <td>4.400000</td>\n",
              "      <td>6.900000</td>\n",
              "      <td>2.500000</td>\n",
              "    </tr>\n",
              "  </tbody>\n",
              "</table>\n",
              "</div>"
            ],
            "text/plain": [
              "       Sepal_length  Sepal_width  petal_length  petal_width\n",
              "count    150.000000   150.000000    150.000000   150.000000\n",
              "mean       5.843333     3.057333      3.758000     1.199333\n",
              "std        0.828066     0.435866      1.765298     0.762238\n",
              "min        4.300000     2.000000      1.000000     0.100000\n",
              "25%        5.100000     2.800000      1.600000     0.300000\n",
              "50%        5.800000     3.000000      4.350000     1.300000\n",
              "75%        6.400000     3.300000      5.100000     1.800000\n",
              "max        7.900000     4.400000      6.900000     2.500000"
            ]
          },
          "execution_count": 68,
          "metadata": {},
          "output_type": "execute_result"
        }
      ]
    },
    {
      "cell_type": "code",
      "metadata": {
        "colab": {
          "base_uri": "https://localhost:8080/",
          "height": 189
        },
        "id": "hqPjQoKUUEvR",
        "outputId": "513f8711-6b0d-4ea4-df53-423e794253f3"
      },
      "source": [
        "X.cov()"
      ],
      "execution_count": null,
      "outputs": [
        {
          "data": {
            "text/html": [
              "<div>\n",
              "<style scoped>\n",
              "    .dataframe tbody tr th:only-of-type {\n",
              "        vertical-align: middle;\n",
              "    }\n",
              "\n",
              "    .dataframe tbody tr th {\n",
              "        vertical-align: top;\n",
              "    }\n",
              "\n",
              "    .dataframe thead th {\n",
              "        text-align: right;\n",
              "    }\n",
              "</style>\n",
              "<table border=\"1\" class=\"dataframe\">\n",
              "  <thead>\n",
              "    <tr style=\"text-align: right;\">\n",
              "      <th></th>\n",
              "      <th>Sepal_length</th>\n",
              "      <th>Sepal_width</th>\n",
              "      <th>petal_length</th>\n",
              "      <th>petal_width</th>\n",
              "    </tr>\n",
              "  </thead>\n",
              "  <tbody>\n",
              "    <tr>\n",
              "      <th>Sepal_length</th>\n",
              "      <td>0.685694</td>\n",
              "      <td>-0.042434</td>\n",
              "      <td>1.274315</td>\n",
              "      <td>0.516271</td>\n",
              "    </tr>\n",
              "    <tr>\n",
              "      <th>Sepal_width</th>\n",
              "      <td>-0.042434</td>\n",
              "      <td>0.189979</td>\n",
              "      <td>-0.329656</td>\n",
              "      <td>-0.121639</td>\n",
              "    </tr>\n",
              "    <tr>\n",
              "      <th>petal_length</th>\n",
              "      <td>1.274315</td>\n",
              "      <td>-0.329656</td>\n",
              "      <td>3.116278</td>\n",
              "      <td>1.295609</td>\n",
              "    </tr>\n",
              "    <tr>\n",
              "      <th>petal_width</th>\n",
              "      <td>0.516271</td>\n",
              "      <td>-0.121639</td>\n",
              "      <td>1.295609</td>\n",
              "      <td>0.581006</td>\n",
              "    </tr>\n",
              "  </tbody>\n",
              "</table>\n",
              "</div>"
            ],
            "text/plain": [
              "              Sepal_length  Sepal_width  petal_length  petal_width\n",
              "Sepal_length      0.685694    -0.042434      1.274315     0.516271\n",
              "Sepal_width      -0.042434     0.189979     -0.329656    -0.121639\n",
              "petal_length      1.274315    -0.329656      3.116278     1.295609\n",
              "petal_width       0.516271    -0.121639      1.295609     0.581006"
            ]
          },
          "execution_count": 69,
          "metadata": {},
          "output_type": "execute_result"
        }
      ]
    },
    {
      "cell_type": "code",
      "metadata": {
        "colab": {
          "base_uri": "https://localhost:8080/",
          "height": 189
        },
        "id": "JBlqsGcMUI8K",
        "outputId": "ff0d664a-5f86-48bf-bcaa-71f23263d7b4"
      },
      "source": [
        "X.corr()"
      ],
      "execution_count": null,
      "outputs": [
        {
          "data": {
            "text/html": [
              "<div>\n",
              "<style scoped>\n",
              "    .dataframe tbody tr th:only-of-type {\n",
              "        vertical-align: middle;\n",
              "    }\n",
              "\n",
              "    .dataframe tbody tr th {\n",
              "        vertical-align: top;\n",
              "    }\n",
              "\n",
              "    .dataframe thead th {\n",
              "        text-align: right;\n",
              "    }\n",
              "</style>\n",
              "<table border=\"1\" class=\"dataframe\">\n",
              "  <thead>\n",
              "    <tr style=\"text-align: right;\">\n",
              "      <th></th>\n",
              "      <th>Sepal_length</th>\n",
              "      <th>Sepal_width</th>\n",
              "      <th>petal_length</th>\n",
              "      <th>petal_width</th>\n",
              "    </tr>\n",
              "  </thead>\n",
              "  <tbody>\n",
              "    <tr>\n",
              "      <th>Sepal_length</th>\n",
              "      <td>1.000000</td>\n",
              "      <td>-0.117570</td>\n",
              "      <td>0.871754</td>\n",
              "      <td>0.817941</td>\n",
              "    </tr>\n",
              "    <tr>\n",
              "      <th>Sepal_width</th>\n",
              "      <td>-0.117570</td>\n",
              "      <td>1.000000</td>\n",
              "      <td>-0.428440</td>\n",
              "      <td>-0.366126</td>\n",
              "    </tr>\n",
              "    <tr>\n",
              "      <th>petal_length</th>\n",
              "      <td>0.871754</td>\n",
              "      <td>-0.428440</td>\n",
              "      <td>1.000000</td>\n",
              "      <td>0.962865</td>\n",
              "    </tr>\n",
              "    <tr>\n",
              "      <th>petal_width</th>\n",
              "      <td>0.817941</td>\n",
              "      <td>-0.366126</td>\n",
              "      <td>0.962865</td>\n",
              "      <td>1.000000</td>\n",
              "    </tr>\n",
              "  </tbody>\n",
              "</table>\n",
              "</div>"
            ],
            "text/plain": [
              "              Sepal_length  Sepal_width  petal_length  petal_width\n",
              "Sepal_length      1.000000    -0.117570      0.871754     0.817941\n",
              "Sepal_width      -0.117570     1.000000     -0.428440    -0.366126\n",
              "petal_length      0.871754    -0.428440      1.000000     0.962865\n",
              "petal_width       0.817941    -0.366126      0.962865     1.000000"
            ]
          },
          "execution_count": 70,
          "metadata": {},
          "output_type": "execute_result"
        }
      ]
    },
    {
      "cell_type": "code",
      "metadata": {
        "colab": {
          "base_uri": "https://localhost:8080/"
        },
        "id": "R8br5hcHUJfO",
        "outputId": "3877f5db-42c5-461f-dc56-6ea44c2246a7"
      },
      "source": [
        "import numpy as np\n",
        "df=pd.DataFrame({'Name':['Ganesh','Praveen','Lokesh','Phani'],'state':['IND','USA','Japan','USSR'],'Grade':['A','A','B','B'],'Age':np.random.uniform(24,35,size=4),'salary':np.random.uniform(3000,5000,size=4),})\n",
        "print(df)"
      ],
      "execution_count": null,
      "outputs": [
        {
          "name": "stdout",
          "output_type": "stream",
          "text": [
            "      Name  state Grade        Age       salary\n",
            "0   Ganesh    IND     A  24.995854  3019.702300\n",
            "1  Praveen    USA     A  25.981800  3889.322191\n",
            "2   Lokesh  Japan     B  30.924292  4211.558979\n",
            "3    Phani   USSR     B  32.408253  3924.254976\n"
          ]
        }
      ]
    },
    {
      "cell_type": "code",
      "metadata": {
        "colab": {
          "base_uri": "https://localhost:8080/",
          "height": 220
        },
        "id": "57iVa6sqUN6w",
        "outputId": "30c3035a-3fb3-4a41-d2bf-f792e8428f94"
      },
      "source": [
        "import numpy as np\n",
        "import pandas as pd\n",
        "df=pd.DataFrame({'Name':['Ganehs','Phani','Lokesh','Praveen'],'state':['IND','USA','UK','USSR'],'Grade':['A','A','B','C'],'Age':np.random.uniform(24,35,size=4),'salary':np.random.uniform(3000,5000,size=4),})\n",
        "df.groupby(['Name','state']).max()"
      ],
      "execution_count": null,
      "outputs": [
        {
          "data": {
            "text/html": [
              "<div>\n",
              "<style scoped>\n",
              "    .dataframe tbody tr th:only-of-type {\n",
              "        vertical-align: middle;\n",
              "    }\n",
              "\n",
              "    .dataframe tbody tr th {\n",
              "        vertical-align: top;\n",
              "    }\n",
              "\n",
              "    .dataframe thead th {\n",
              "        text-align: right;\n",
              "    }\n",
              "</style>\n",
              "<table border=\"1\" class=\"dataframe\">\n",
              "  <thead>\n",
              "    <tr style=\"text-align: right;\">\n",
              "      <th></th>\n",
              "      <th></th>\n",
              "      <th>Grade</th>\n",
              "      <th>Age</th>\n",
              "      <th>salary</th>\n",
              "    </tr>\n",
              "    <tr>\n",
              "      <th>Name</th>\n",
              "      <th>state</th>\n",
              "      <th></th>\n",
              "      <th></th>\n",
              "      <th></th>\n",
              "    </tr>\n",
              "  </thead>\n",
              "  <tbody>\n",
              "    <tr>\n",
              "      <th>Ganehs</th>\n",
              "      <th>IND</th>\n",
              "      <td>A</td>\n",
              "      <td>28.342718</td>\n",
              "      <td>3858.889956</td>\n",
              "    </tr>\n",
              "    <tr>\n",
              "      <th>Lokesh</th>\n",
              "      <th>UK</th>\n",
              "      <td>B</td>\n",
              "      <td>30.045185</td>\n",
              "      <td>3375.875195</td>\n",
              "    </tr>\n",
              "    <tr>\n",
              "      <th>Phani</th>\n",
              "      <th>USA</th>\n",
              "      <td>A</td>\n",
              "      <td>24.672580</td>\n",
              "      <td>3405.216649</td>\n",
              "    </tr>\n",
              "    <tr>\n",
              "      <th>Praveen</th>\n",
              "      <th>USSR</th>\n",
              "      <td>C</td>\n",
              "      <td>25.223265</td>\n",
              "      <td>4225.173826</td>\n",
              "    </tr>\n",
              "  </tbody>\n",
              "</table>\n",
              "</div>"
            ],
            "text/plain": [
              "              Grade        Age       salary\n",
              "Name    state                              \n",
              "Ganehs  IND       A  28.342718  3858.889956\n",
              "Lokesh  UK        B  30.045185  3375.875195\n",
              "Phani   USA       A  24.672580  3405.216649\n",
              "Praveen USSR      C  25.223265  4225.173826"
            ]
          },
          "execution_count": 75,
          "metadata": {},
          "output_type": "execute_result"
        }
      ]
    },
    {
      "cell_type": "markdown",
      "metadata": {
        "id": "fPl9UZhBUQ-9"
      },
      "source": [
        "# **Scipy**"
      ]
    },
    {
      "cell_type": "code",
      "metadata": {
        "colab": {
          "base_uri": "https://localhost:8080/"
        },
        "id": "7aCU_bdAUURE",
        "outputId": "0b87eae9-aae6-473b-b6c2-deb686345052"
      },
      "source": [
        "import numpy as np\n",
        "np.linspace(1.,4.,6)"
      ],
      "execution_count": null,
      "outputs": [
        {
          "data": {
            "text/plain": [
              "array([1. , 1.6, 2.2, 2.8, 3.4, 4. ])"
            ]
          },
          "execution_count": 76,
          "metadata": {},
          "output_type": "execute_result"
        }
      ]
    },
    {
      "cell_type": "code",
      "metadata": {
        "colab": {
          "base_uri": "https://localhost:8080/"
        },
        "id": "a9v0RiS9UWqg",
        "outputId": "fd527c05-0538-4b96-a61e-982147ab0e74"
      },
      "source": [
        "from scipy.cluster.vq import kmeans,vq,whiten\n",
        "from numpy import vstack,array\n",
        "from numpy.random import rand\n",
        " \n",
        "data=vstack((rand(100,3)+array([.5,.5,.5]),rand(100,3)))\n",
        "data"
      ],
      "execution_count": null,
      "outputs": [
        {
          "data": {
            "text/plain": [
              "array([[7.12396880e-01, 1.39406746e+00, 1.34263926e+00],\n",
              "       [1.22051032e+00, 1.03350292e+00, 7.82033262e-01],\n",
              "       [1.01427935e+00, 5.09735621e-01, 7.12686576e-01],\n",
              "       [7.64218697e-01, 5.12021504e-01, 8.44562834e-01],\n",
              "       [5.04521081e-01, 6.97866403e-01, 8.40888305e-01],\n",
              "       [7.01805291e-01, 1.40472313e+00, 1.41278977e+00],\n",
              "       [7.31390733e-01, 5.91402865e-01, 7.44951284e-01],\n",
              "       [1.38496196e+00, 5.92518804e-01, 8.41805448e-01],\n",
              "       [9.87454559e-01, 1.19505233e+00, 9.04414329e-01],\n",
              "       [1.20748242e+00, 1.16353183e+00, 1.33932756e+00],\n",
              "       [7.76284453e-01, 1.22635752e+00, 1.05263932e+00],\n",
              "       [7.80975158e-01, 8.65448787e-01, 5.60844220e-01],\n",
              "       [1.18832797e+00, 5.04288080e-01, 7.08867024e-01],\n",
              "       [7.15951968e-01, 1.31149284e+00, 1.12829337e+00],\n",
              "       [6.02162057e-01, 1.25567242e+00, 1.16089986e+00],\n",
              "       [1.35318179e+00, 1.23380790e+00, 1.11248400e+00],\n",
              "       [5.55301262e-01, 5.75675211e-01, 1.14398826e+00],\n",
              "       [1.15111538e+00, 1.15714796e+00, 1.49894685e+00],\n",
              "       [1.00158484e+00, 1.40405831e+00, 1.00163663e+00],\n",
              "       [8.61144183e-01, 1.13679594e+00, 1.10958214e+00],\n",
              "       [1.35966453e+00, 1.04471159e+00, 8.25943813e-01],\n",
              "       [1.31859763e+00, 5.80709050e-01, 1.43806725e+00],\n",
              "       [7.27078653e-01, 6.49078252e-01, 1.29995382e+00],\n",
              "       [6.70113954e-01, 8.13107191e-01, 9.38476887e-01],\n",
              "       [1.28390055e+00, 6.84660273e-01, 1.44854162e+00],\n",
              "       [1.08682985e+00, 6.88773206e-01, 1.03723572e+00],\n",
              "       [9.15990726e-01, 5.05458693e-01, 8.86069882e-01],\n",
              "       [9.59416490e-01, 1.45071510e+00, 7.19152388e-01],\n",
              "       [6.81465909e-01, 8.19127768e-01, 1.49044428e+00],\n",
              "       [6.09538625e-01, 1.36884113e+00, 1.33703353e+00],\n",
              "       [7.70184559e-01, 5.58883676e-01, 9.00399923e-01],\n",
              "       [1.37831895e+00, 1.07951202e+00, 1.33090122e+00],\n",
              "       [1.37534457e+00, 6.67208622e-01, 7.80913411e-01],\n",
              "       [5.90448890e-01, 5.71847022e-01, 8.77909808e-01],\n",
              "       [8.28058941e-01, 1.30858396e+00, 9.44941682e-01],\n",
              "       [1.27193954e+00, 1.44016710e+00, 1.20477686e+00],\n",
              "       [1.31722393e+00, 1.24149846e+00, 1.19891538e+00],\n",
              "       [7.67780393e-01, 1.29496583e+00, 7.84311626e-01],\n",
              "       [5.69054224e-01, 5.85435390e-01, 5.04269137e-01],\n",
              "       [1.00048168e+00, 1.41879644e+00, 1.21029873e+00],\n",
              "       [5.73504114e-01, 8.32852017e-01, 1.39969192e+00],\n",
              "       [1.34120463e+00, 7.54208081e-01, 1.05410551e+00],\n",
              "       [1.44986176e+00, 7.42949931e-01, 1.34378818e+00],\n",
              "       [7.03042088e-01, 1.13821697e+00, 1.46819883e+00],\n",
              "       [7.91871230e-01, 1.16998169e+00, 9.34054586e-01],\n",
              "       [1.16435892e+00, 1.32699374e+00, 1.25377809e+00],\n",
              "       [9.52055080e-01, 6.50902112e-01, 1.36055354e+00],\n",
              "       [1.13852775e+00, 8.50653861e-01, 1.07642171e+00],\n",
              "       [7.83148934e-01, 1.23715455e+00, 1.25178861e+00],\n",
              "       [9.16149924e-01, 7.76759341e-01, 1.34923130e+00],\n",
              "       [8.95197257e-01, 1.32272526e+00, 1.46295531e+00],\n",
              "       [8.72382206e-01, 1.45443709e+00, 8.64165860e-01],\n",
              "       [9.01527755e-01, 8.06388912e-01, 8.18144773e-01],\n",
              "       [7.49073479e-01, 9.25029500e-01, 8.23152084e-01],\n",
              "       [6.21233253e-01, 8.54560489e-01, 1.39501905e+00],\n",
              "       [1.29309365e+00, 6.23389082e-01, 8.36972432e-01],\n",
              "       [7.74362510e-01, 6.64521496e-01, 7.23801284e-01],\n",
              "       [1.11257837e+00, 6.86550261e-01, 1.33268877e+00],\n",
              "       [7.98515993e-01, 6.26232816e-01, 8.97014110e-01],\n",
              "       [1.44960135e+00, 1.37906271e+00, 1.00513312e+00],\n",
              "       [5.90455397e-01, 1.06517859e+00, 7.72834623e-01],\n",
              "       [7.55254469e-01, 1.29868436e+00, 1.14961542e+00],\n",
              "       [8.57387831e-01, 1.44206416e+00, 6.65220341e-01],\n",
              "       [7.97046241e-01, 1.02823203e+00, 9.38663932e-01],\n",
              "       [1.11492125e+00, 1.02376826e+00, 1.09691431e+00],\n",
              "       [8.64755132e-01, 1.46966662e+00, 1.03742600e+00],\n",
              "       [7.39249767e-01, 8.94701386e-01, 6.24759427e-01],\n",
              "       [1.45333076e+00, 1.08830442e+00, 1.05235250e+00],\n",
              "       [8.06972670e-01, 6.55562676e-01, 1.22853577e+00],\n",
              "       [1.22687392e+00, 1.22996818e+00, 9.66020833e-01],\n",
              "       [5.01216631e-01, 5.46621397e-01, 7.17776061e-01],\n",
              "       [1.23438900e+00, 7.95997633e-01, 1.07492734e+00],\n",
              "       [8.87011733e-01, 1.27094213e+00, 1.30298292e+00],\n",
              "       [6.91561888e-01, 6.51567137e-01, 1.42050709e+00],\n",
              "       [8.32319554e-01, 1.48953297e+00, 6.38380372e-01],\n",
              "       [1.05118208e+00, 1.11759798e+00, 9.37842549e-01],\n",
              "       [5.58337587e-01, 1.15993464e+00, 1.24674071e+00],\n",
              "       [1.38725237e+00, 6.43795883e-01, 5.19209865e-01],\n",
              "       [8.34807844e-01, 1.02586127e+00, 1.38552276e+00],\n",
              "       [1.00235884e+00, 1.35776352e+00, 1.39167172e+00],\n",
              "       [6.43766014e-01, 1.21039170e+00, 1.00695862e+00],\n",
              "       [7.90782529e-01, 5.30924397e-01, 9.28261302e-01],\n",
              "       [1.25763246e+00, 1.30649928e+00, 6.92333988e-01],\n",
              "       [5.52316222e-01, 8.00572644e-01, 1.19140353e+00],\n",
              "       [7.96018380e-01, 1.10698380e+00, 1.07185996e+00],\n",
              "       [6.08053025e-01, 1.13782962e+00, 1.18989700e+00],\n",
              "       [5.63926857e-01, 1.44041806e+00, 8.78311461e-01],\n",
              "       [1.00883494e+00, 1.39274646e+00, 9.71689572e-01],\n",
              "       [9.35578243e-01, 5.48173058e-01, 1.13033263e+00],\n",
              "       [7.23463526e-01, 8.90930873e-01, 1.46555555e+00],\n",
              "       [6.25614713e-01, 5.87455678e-01, 1.31696624e+00],\n",
              "       [1.14930271e+00, 7.33327175e-01, 1.32258554e+00],\n",
              "       [7.67941293e-01, 1.09050366e+00, 1.32092166e+00],\n",
              "       [7.75389768e-01, 8.26776871e-01, 7.73634940e-01],\n",
              "       [8.44890604e-01, 8.44808738e-01, 7.06556867e-01],\n",
              "       [9.00347070e-01, 1.12883956e+00, 5.58048505e-01],\n",
              "       [6.60423024e-01, 1.45791192e+00, 1.07275396e+00],\n",
              "       [1.22069424e+00, 9.78489865e-01, 5.10966089e-01],\n",
              "       [7.62320405e-01, 9.80792529e-01, 1.42836105e+00],\n",
              "       [1.22184948e+00, 1.39036719e+00, 5.39866662e-01],\n",
              "       [6.58692869e-01, 8.57968389e-01, 3.11829931e-01],\n",
              "       [9.54011428e-01, 1.00823453e-01, 2.28134712e-01],\n",
              "       [9.35228926e-01, 5.29111664e-01, 1.54660417e-01],\n",
              "       [3.56868698e-01, 9.18598538e-01, 8.30104157e-01],\n",
              "       [1.89883034e-01, 5.50129010e-01, 7.02478779e-01],\n",
              "       [2.51133428e-01, 6.83915402e-01, 4.68828669e-01],\n",
              "       [7.52910182e-01, 2.44547155e-01, 6.84138512e-02],\n",
              "       [3.51010777e-02, 4.80812521e-01, 5.44930164e-01],\n",
              "       [9.33406545e-01, 8.17149086e-01, 9.84416083e-01],\n",
              "       [7.36887505e-01, 9.50308353e-01, 4.50711091e-01],\n",
              "       [5.43581457e-01, 3.33493326e-01, 8.45941471e-01],\n",
              "       [7.53664127e-01, 3.93869715e-01, 6.22502049e-01],\n",
              "       [6.25566699e-01, 8.81921234e-01, 3.58278348e-01],\n",
              "       [5.31702344e-01, 2.56283438e-01, 4.59516463e-01],\n",
              "       [3.93320230e-02, 9.35463090e-01, 5.80162058e-01],\n",
              "       [8.18662528e-01, 6.67559637e-01, 9.96667454e-01],\n",
              "       [5.24775062e-01, 8.46510879e-02, 8.47637407e-01],\n",
              "       [1.70032451e-01, 9.18790973e-01, 4.75833339e-02],\n",
              "       [7.85082695e-01, 8.83106471e-01, 2.65596412e-01],\n",
              "       [2.73721073e-01, 2.83560451e-01, 4.19738200e-01],\n",
              "       [6.40682144e-01, 4.82281234e-01, 3.49569408e-02],\n",
              "       [7.13181070e-01, 7.15180898e-01, 4.46658144e-02],\n",
              "       [1.91931854e-01, 9.67999689e-02, 9.49566073e-01],\n",
              "       [3.34096082e-01, 1.81348396e-01, 4.97287480e-01],\n",
              "       [5.73628867e-01, 5.62962463e-01, 8.05794511e-01],\n",
              "       [1.14677889e-01, 5.41478808e-01, 5.20043600e-01],\n",
              "       [1.57559172e-01, 5.46806976e-01, 9.58295452e-01],\n",
              "       [6.88698282e-01, 8.77921824e-01, 6.86866385e-01],\n",
              "       [9.31742580e-01, 3.94960695e-01, 9.57542021e-01],\n",
              "       [1.18506873e-01, 5.14723483e-01, 9.57696768e-01],\n",
              "       [5.91016059e-01, 6.91072412e-01, 7.87283106e-01],\n",
              "       [1.67356782e-01, 3.66758109e-01, 9.16540453e-01],\n",
              "       [7.10257704e-01, 1.77060965e-01, 1.35313700e-01],\n",
              "       [4.98759017e-01, 6.23597658e-01, 6.83924035e-01],\n",
              "       [5.82337441e-01, 4.89972395e-01, 7.73845758e-01],\n",
              "       [8.21692807e-01, 1.36807205e-01, 8.42571133e-01],\n",
              "       [4.85572429e-01, 5.79441554e-01, 7.73114287e-01],\n",
              "       [9.49873907e-01, 3.34018558e-01, 5.58367685e-01],\n",
              "       [8.82878773e-01, 7.17408005e-01, 4.62161923e-01],\n",
              "       [8.36114035e-01, 1.41900288e-01, 1.69584119e-01],\n",
              "       [9.52105095e-01, 9.90458367e-01, 6.45748497e-01],\n",
              "       [2.93900163e-01, 2.46751431e-01, 2.01928042e-01],\n",
              "       [6.50438312e-02, 6.73947832e-01, 8.88664032e-01],\n",
              "       [8.39716520e-01, 9.36105190e-01, 9.11658224e-01],\n",
              "       [2.24660945e-01, 6.04453680e-01, 6.87950619e-01],\n",
              "       [7.98831977e-01, 6.77329768e-01, 9.95324109e-02],\n",
              "       [9.41251042e-01, 5.78549470e-01, 8.27958576e-01],\n",
              "       [5.16661159e-01, 6.29722291e-01, 3.05220029e-01],\n",
              "       [3.15742026e-01, 2.54863088e-01, 8.49465432e-01],\n",
              "       [6.42004951e-01, 6.91901347e-01, 1.17474165e-01],\n",
              "       [7.67659479e-01, 7.69393170e-01, 8.73647454e-01],\n",
              "       [3.14133857e-01, 3.82960312e-01, 9.47793562e-01],\n",
              "       [4.00890963e-01, 4.86797926e-01, 9.04806390e-01],\n",
              "       [6.33266505e-01, 7.85130243e-01, 8.10744071e-01],\n",
              "       [7.93760411e-01, 2.28184069e-01, 1.89765662e-02],\n",
              "       [1.02677573e-01, 8.91934335e-01, 3.28165146e-01],\n",
              "       [7.19679849e-01, 2.18016762e-01, 2.32690361e-01],\n",
              "       [2.08148348e-01, 7.34765926e-01, 1.17883255e-01],\n",
              "       [9.60069392e-01, 5.35238722e-04, 7.30121253e-01],\n",
              "       [7.15971623e-01, 8.85431025e-01, 8.47981649e-02],\n",
              "       [2.42426548e-02, 7.35872485e-01, 9.05834275e-01],\n",
              "       [8.06532307e-01, 9.53959187e-01, 8.45182114e-01],\n",
              "       [5.59536834e-01, 1.92493110e-01, 7.72808537e-01],\n",
              "       [8.82006548e-01, 5.02081330e-01, 9.97974633e-01],\n",
              "       [5.16818728e-01, 7.07885520e-01, 5.42605972e-01],\n",
              "       [9.54445666e-01, 5.85746522e-01, 7.11113291e-02],\n",
              "       [1.93905390e-01, 4.34295933e-02, 8.29571025e-01],\n",
              "       [5.74835054e-01, 5.93596527e-01, 9.63931968e-01],\n",
              "       [2.50840570e-01, 2.89734475e-01, 1.06711052e-01],\n",
              "       [6.78431814e-01, 6.59500976e-02, 2.58219417e-01],\n",
              "       [2.07799857e-01, 2.99078475e-01, 7.61766478e-01],\n",
              "       [8.38963869e-01, 7.33430513e-01, 8.78950679e-01],\n",
              "       [7.46621702e-01, 9.05151897e-01, 5.86803957e-01],\n",
              "       [5.38466364e-01, 7.84685100e-01, 5.30153289e-01],\n",
              "       [9.75221110e-01, 8.21740460e-01, 8.12114389e-01],\n",
              "       [8.75475090e-01, 8.20268472e-01, 6.78918243e-01],\n",
              "       [5.79708630e-01, 3.39342232e-01, 5.99251046e-01],\n",
              "       [1.55973928e-01, 9.60245424e-01, 3.14413110e-01],\n",
              "       [6.70135323e-01, 4.44954317e-01, 4.71505438e-01],\n",
              "       [3.97833640e-01, 7.12598400e-01, 2.01501090e-01],\n",
              "       [4.35074197e-01, 2.75097425e-01, 6.24296646e-01],\n",
              "       [1.59505534e-01, 2.43163660e-01, 5.76927779e-02],\n",
              "       [9.82134232e-01, 6.77808502e-01, 9.46646736e-01],\n",
              "       [4.07247632e-02, 4.69488337e-02, 3.01713895e-01],\n",
              "       [3.11064007e-02, 8.20689239e-02, 2.27763189e-01],\n",
              "       [5.01465249e-01, 7.03301939e-01, 3.43020115e-01],\n",
              "       [5.35383672e-01, 2.65535386e-01, 8.86672704e-01],\n",
              "       [4.87551944e-01, 3.45446637e-01, 8.49924590e-01],\n",
              "       [3.78274309e-01, 2.84157786e-01, 4.84795222e-01],\n",
              "       [8.17279109e-01, 2.79733721e-01, 8.67668058e-01],\n",
              "       [6.29131359e-01, 4.14258734e-01, 8.60854072e-01],\n",
              "       [8.58051655e-01, 6.67707428e-01, 3.17225627e-01],\n",
              "       [7.44642597e-01, 5.96749312e-01, 1.14658469e-02],\n",
              "       [9.58828458e-03, 1.14430630e-02, 7.21191970e-01],\n",
              "       [8.68771444e-01, 4.12658965e-01, 8.24164537e-02],\n",
              "       [8.10471316e-02, 4.65990762e-01, 2.79356141e-01],\n",
              "       [9.26654165e-01, 9.22072478e-01, 6.56280153e-01],\n",
              "       [1.83015146e-01, 3.41459271e-01, 2.74639732e-01],\n",
              "       [7.70526734e-01, 2.50764088e-01, 7.57222975e-03],\n",
              "       [2.38018191e-01, 6.82721493e-01, 5.40276868e-01]])"
            ]
          },
          "execution_count": 77,
          "metadata": {},
          "output_type": "execute_result"
        }
      ]
    },
    {
      "cell_type": "code",
      "metadata": {
        "colab": {
          "base_uri": "https://localhost:8080/"
        },
        "id": "i4Yc9aPDUamY",
        "outputId": "212a3495-a750-4733-ae94-63534c8cf606"
      },
      "source": [
        "data=whiten(data)\n",
        "data"
      ],
      "execution_count": null,
      "outputs": [
        {
          "data": {
            "text/plain": [
              "array([[2.11422141e+00, 3.72493989e+00, 3.50329041e+00],\n",
              "       [3.62217906e+00, 2.76151362e+00, 2.04052548e+00],\n",
              "       [3.01013546e+00, 1.36201052e+00, 1.85958218e+00],\n",
              "       [2.26801601e+00, 1.36811839e+00, 2.20368118e+00],\n",
              "       [1.49729638e+00, 1.86469484e+00, 2.19409339e+00],\n",
              "       [2.08278814e+00, 3.75341178e+00, 3.68633108e+00],\n",
              "       [2.17059057e+00, 1.58022491e+00, 1.94376908e+00],\n",
              "       [4.11023168e+00, 1.58320669e+00, 2.19648645e+00],\n",
              "       [2.93052599e+00, 3.19317267e+00, 2.35984909e+00],\n",
              "       [3.58351541e+00, 3.10895007e+00, 3.49464934e+00],\n",
              "       [2.30382426e+00, 3.27681993e+00, 2.74660614e+00],\n",
              "       [2.31774513e+00, 2.31247397e+00, 1.46338650e+00],\n",
              "       [3.52666961e+00, 1.34745473e+00, 1.84961599e+00],\n",
              "       [2.12477205e+00, 3.50430101e+00, 2.94400697e+00],\n",
              "       [1.78707115e+00, 3.35514918e+00, 3.02908565e+00],\n",
              "       [4.01591584e+00, 3.29672732e+00, 2.90275626e+00],\n",
              "       [1.64799966e+00, 1.53820071e+00, 2.98495896e+00],\n",
              "       [3.41623168e+00, 3.09189241e+00, 3.91113702e+00],\n",
              "       [2.97246124e+00, 3.75163538e+00, 2.61352704e+00],\n",
              "       [2.55566738e+00, 3.03751195e+00, 2.89518455e+00],\n",
              "       [4.03515504e+00, 2.79146311e+00, 2.15509938e+00],\n",
              "       [3.91327842e+00, 1.55165110e+00, 3.75228652e+00],\n",
              "       [2.15779336e+00, 1.73433320e+00, 3.39191313e+00],\n",
              "       [1.98873593e+00, 2.17261754e+00, 2.44872705e+00],\n",
              "       [3.81030590e+00, 1.82940814e+00, 3.77961684e+00],\n",
              "       [3.22544778e+00, 1.84039788e+00, 2.70641418e+00],\n",
              "       [2.71843864e+00, 1.35058260e+00, 2.31198372e+00],\n",
              "       [2.84731579e+00, 3.87630205e+00, 1.87645314e+00],\n",
              "       [2.02242578e+00, 2.18870448e+00, 3.88895163e+00],\n",
              "       [1.80896302e+00, 3.65753528e+00, 3.48866362e+00],\n",
              "       [2.28572125e+00, 1.49333383e+00, 2.34937448e+00],\n",
              "       [4.09051684e+00, 2.88444964e+00, 3.47266284e+00],\n",
              "       [4.08168961e+00, 1.78277744e+00, 2.03760350e+00],\n",
              "       [1.75230931e+00, 1.52797181e+00, 2.29069199e+00],\n",
              "       [2.45747840e+00, 3.49652849e+00, 2.46559536e+00],\n",
              "       [3.77480852e+00, 3.84811786e+00, 3.14357201e+00],\n",
              "       [3.90920163e+00, 3.31727644e+00, 3.12827792e+00],\n",
              "       [2.27858627e+00, 3.46014094e+00, 2.04647032e+00],\n",
              "       [1.68881512e+00, 1.56427985e+00, 1.31576759e+00],\n",
              "       [2.96918734e+00, 3.79101559e+00, 3.15797999e+00],\n",
              "       [1.70202132e+00, 2.22537559e+00, 3.65215543e+00],\n",
              "       [3.98037053e+00, 2.01523947e+00, 2.75043180e+00],\n",
              "       [4.30283857e+00, 1.98515776e+00, 3.50628823e+00],\n",
              "       [2.08645865e+00, 3.04130891e+00, 3.83090753e+00],\n",
              "       [2.35008203e+00, 3.12618405e+00, 2.43718813e+00],\n",
              "       [3.45553529e+00, 3.54571931e+00, 3.27142881e+00],\n",
              "       [2.82546891e+00, 1.73920654e+00, 3.55003334e+00],\n",
              "       [3.37887464e+00, 2.27294201e+00, 2.80866049e+00],\n",
              "       [2.32419637e+00, 3.30566954e+00, 3.26623774e+00],\n",
              "       [2.71891110e+00, 2.07549630e+00, 3.52049074e+00],\n",
              "       [2.65672866e+00, 3.53431397e+00, 3.81722586e+00],\n",
              "       [2.58901911e+00, 3.88624717e+00, 2.25483051e+00],\n",
              "       [2.67551604e+00, 2.15466634e+00, 2.13474968e+00],\n",
              "       [2.22306868e+00, 2.47167328e+00, 2.14781504e+00],\n",
              "       [1.84366984e+00, 2.28338050e+00, 3.63996271e+00],\n",
              "       [3.83758880e+00, 1.66569189e+00, 2.18387587e+00],\n",
              "       [2.29812040e+00, 1.77559745e+00, 1.88858331e+00],\n",
              "       [3.30186315e+00, 1.83445818e+00, 3.47732703e+00],\n",
              "       [2.36980208e+00, 1.67329033e+00, 2.34054002e+00],\n",
              "       [4.30206576e+00, 3.68484729e+00, 2.62265026e+00],\n",
              "       [1.75232862e+00, 2.84615080e+00, 2.01652387e+00],\n",
              "       [2.24141236e+00, 3.47007683e+00, 2.99964165e+00],\n",
              "       [2.54451944e+00, 3.85318679e+00, 1.73573059e+00],\n",
              "       [2.36544022e+00, 2.74742981e+00, 2.44921510e+00],\n",
              "       [3.30881626e+00, 2.73550266e+00, 2.86213095e+00],\n",
              "       [2.56638381e+00, 3.92694039e+00, 2.70691067e+00],\n",
              "       [2.19391428e+00, 2.39063674e+00, 1.63015768e+00],\n",
              "       [4.31313374e+00, 2.90794289e+00, 2.74585775e+00],\n",
              "       [2.39489945e+00, 1.75165954e+00, 3.20556511e+00],\n",
              "       [3.64106467e+00, 3.28646761e+00, 2.52059627e+00],\n",
              "       [1.48748958e+00, 1.46056909e+00, 1.87286195e+00],\n",
              "       [3.66336760e+00, 2.12690090e+00, 2.80476128e+00],\n",
              "       [2.63243601e+00, 3.39594975e+00, 3.39981683e+00],\n",
              "       [2.05238820e+00, 1.74098348e+00, 3.70646755e+00],\n",
              "       [2.47012287e+00, 3.98002315e+00, 1.66569822e+00],\n",
              "       [3.11965383e+00, 2.98621510e+00, 2.44707190e+00],\n",
              "       [1.65701074e+00, 3.09933841e+00, 3.25306648e+00],\n",
              "       [4.11702906e+00, 1.72021874e+00, 1.35475179e+00],\n",
              "       [2.47750751e+00, 2.74109516e+00, 3.61518444e+00],\n",
              "       [2.97475829e+00, 3.62793597e+00, 3.63122867e+00],\n",
              "       [1.91054162e+00, 3.23415936e+00, 2.62741345e+00],\n",
              "       [2.34685104e+00, 1.41862681e+00, 2.42207196e+00],\n",
              "       [3.73234856e+00, 3.49095823e+00, 1.80647705e+00],\n",
              "       [1.63914079e+00, 2.13912530e+00, 3.10867757e+00],\n",
              "       [2.36238977e+00, 2.95785408e+00, 2.79675773e+00],\n",
              "       [1.80455412e+00, 3.04027391e+00, 3.10474665e+00],\n",
              "       [1.67359834e+00, 3.84878843e+00, 2.29174001e+00],\n",
              "       [2.99397780e+00, 3.72141018e+00, 2.53538746e+00],\n",
              "       [2.77656965e+00, 1.46471512e+00, 2.94932792e+00],\n",
              "       [2.14706454e+00, 2.38056195e+00, 3.82401054e+00],\n",
              "       [1.85667296e+00, 1.56967805e+00, 3.43630291e+00],\n",
              "       [3.41085210e+00, 1.95944582e+00, 3.45096510e+00],\n",
              "       [2.27906378e+00, 2.91381925e+00, 3.44662360e+00],\n",
              "       [2.30116905e+00, 2.20914284e+00, 2.01861210e+00],\n",
              "       [2.50743070e+00, 2.25732388e+00, 1.84358819e+00],\n",
              "       [2.67201206e+00, 3.01625254e+00, 1.45609177e+00],\n",
              "       [1.95997560e+00, 3.89553190e+00, 2.79909040e+00],\n",
              "       [3.62272488e+00, 2.61451905e+00, 1.33324166e+00],\n",
              "       [2.26238234e+00, 2.62067176e+00, 3.72696055e+00],\n",
              "       [3.62615334e+00, 3.71505279e+00, 1.40865067e+00],\n",
              "       [1.95484091e+00, 2.29248639e+00, 8.13644317e-01],\n",
              "       [2.83127488e+00, 2.69399663e-01, 5.95262010e-01],\n",
              "       [2.77553296e+00, 1.41378319e+00, 4.03548720e-01],\n",
              "       [1.05909987e+00, 2.45448979e+00, 2.16595478e+00],\n",
              "       [5.63526860e-01, 1.46994142e+00, 1.83294742e+00],\n",
              "       [7.45303193e-01, 1.82741785e+00, 1.22329432e+00],\n",
              "       [2.23445508e+00, 6.53428533e-01, 1.78509295e-01],\n",
              "       [1.04171498e-01, 1.28472817e+00, 1.42186265e+00],\n",
              "       [2.77012457e+00, 2.18341746e+00, 2.56859420e+00],\n",
              "       [2.18690366e+00, 2.53921822e+00, 1.17602090e+00],\n",
              "       [1.61321812e+00, 8.91092167e-01, 2.20727840e+00],\n",
              "       [2.23669261e+00, 1.05241752e+00, 1.62426760e+00],\n",
              "       [1.85653046e+00, 2.35648825e+00, 9.34840158e-01],\n",
              "       [1.57796379e+00, 6.84787809e-01, 1.19899638e+00],\n",
              "       [1.16727919e-01, 2.49955177e+00, 1.51379170e+00],\n",
              "       [2.42959212e+00, 1.78371535e+00, 2.60056117e+00],\n",
              "       [1.55740529e+00, 2.26187199e-01, 2.21170353e+00],\n",
              "       [5.04615136e-01, 2.45500397e+00, 1.24157130e-01],\n",
              "       [2.32993531e+00, 2.35965519e+00, 6.93009202e-01],\n",
              "       [8.12337854e-01, 7.57671825e-01, 1.09520469e+00],\n",
              "       [1.90138944e+00, 1.28865256e+00, 9.12116297e-02],\n",
              "       [2.11654870e+00, 1.91095907e+00, 1.16544573e-01],\n",
              "       [5.69607260e-01, 2.58648936e-01, 2.47766158e+00],\n",
              "       [9.91516259e-01, 4.84561827e-01, 1.29755066e+00],\n",
              "       [1.70239156e+00, 1.50423233e+00, 2.10252468e+00],\n",
              "       [3.40336203e-01, 1.44682813e+00, 1.35692722e+00],\n",
              "       [4.67597464e-01, 1.46106496e+00, 2.50043877e+00],\n",
              "       [2.04388971e+00, 2.34580185e+00, 1.79221067e+00],\n",
              "       [2.76518633e+00, 1.05533261e+00, 2.49847287e+00],\n",
              "       [3.51699700e-01, 1.37533806e+00, 2.49887665e+00],\n",
              "       [1.75399253e+00, 1.84654134e+00, 2.05422367e+00],\n",
              "       [4.96674398e-01, 9.79975467e-01, 2.39148926e+00],\n",
              "       [2.10787286e+00, 4.73105837e-01, 3.53068169e-01],\n",
              "       [1.48019597e+00, 1.66624920e+00, 1.78453333e+00],\n",
              "       [1.72823650e+00, 1.30920330e+00, 2.01916218e+00],\n",
              "       [2.43858525e+00, 3.65548031e-01, 2.19848432e+00],\n",
              "       [1.44106137e+00, 1.54826436e+00, 2.01725358e+00],\n",
              "       [2.81899572e+00, 8.92495584e-01, 1.45692459e+00],\n",
              "       [2.62017038e+00, 1.91690989e+00, 1.20589907e+00],\n",
              "       [2.48138397e+00, 3.79156718e-01, 4.42488489e-01],\n",
              "       [2.82561734e+00, 2.64649882e+00, 1.68492355e+00],\n",
              "       [8.72224508e-01, 6.59318343e-01, 5.26882083e-01],\n",
              "       [1.93034339e-01, 1.80078457e+00, 2.31875252e+00],\n",
              "       [2.49207527e+00, 2.50126745e+00, 2.37875027e+00],\n",
              "       [6.66739276e-01, 1.61509661e+00, 1.79503972e+00],\n",
              "       [2.37073985e+00, 1.80982108e+00, 2.59705604e-01],\n",
              "       [2.79340514e+00, 1.54588072e+00, 2.16035641e+00],\n",
              "       [1.53332520e+00, 1.68261419e+00, 7.96397386e-01],\n",
              "       [9.37045867e-01, 6.80992643e-01, 2.21647332e+00],\n",
              "       [1.90531521e+00, 1.84875625e+00, 3.06520245e-01],\n",
              "       [2.27822742e+00, 2.05581394e+00, 2.27957042e+00],\n",
              "       [9.32273211e-01, 1.02326766e+00, 2.47303664e+00],\n",
              "       [1.18974729e+00, 1.30072114e+00, 2.36087208e+00],\n",
              "       [1.87938162e+00, 2.09786330e+00, 2.11543935e+00],\n",
              "       [2.35568867e+00, 6.09706463e-01, 4.95147313e-02],\n",
              "       [3.04722171e-01, 2.38324319e+00, 8.56267086e-01],\n",
              "       [2.13583550e+00, 5.82539479e-01, 6.07148869e-01],\n",
              "       [6.17733886e-01, 1.96329015e+00, 3.07587666e-01],\n",
              "       [2.84925345e+00, 1.43015466e-03, 1.90507372e+00],\n",
              "       [2.12483038e+00, 2.36586639e+00, 2.21260174e-01],\n",
              "       [7.19463284e-02, 1.96624687e+00, 2.36355409e+00],\n",
              "       [2.39359256e+00, 2.54897323e+00, 2.20529704e+00],\n",
              "       [1.66056982e+00, 5.14340437e-01, 2.01645581e+00],\n",
              "       [2.61758183e+00, 1.34155830e+00, 2.60397193e+00],\n",
              "       [1.53379282e+00, 1.89146586e+00, 1.41579823e+00],\n",
              "       [2.83256359e+00, 1.56511119e+00, 1.85547707e-01],\n",
              "       [5.75464238e-01, 1.16043613e-01, 2.16456370e+00],\n",
              "       [1.70597123e+00, 1.58608636e+00, 2.51514588e+00],\n",
              "       [7.44434064e-01, 7.74168779e-01, 2.78436520e-01],\n",
              "       [2.01342132e+00, 1.76218265e-01, 6.73760728e-01],\n",
              "       [6.16699651e-01, 7.99135892e-01, 1.98764424e+00],\n",
              "       [2.48984158e+00, 1.95972193e+00, 2.29340789e+00],\n",
              "       [2.21579239e+00, 2.41856044e+00, 1.53112212e+00],\n",
              "       [1.59803776e+00, 2.09667388e+00, 1.38330599e+00],\n",
              "       [2.89422007e+00, 2.19568558e+00, 2.11901486e+00],\n",
              "       [2.59819804e+00, 2.19175244e+00, 1.77147193e+00],\n",
              "       [1.72043482e+00, 9.06720409e-01, 1.56359977e+00],\n",
              "       [4.62892845e-01, 2.56577001e+00, 8.20384494e-01],\n",
              "       [1.98879935e+00, 1.18891527e+00, 1.23027869e+00],\n",
              "       [1.18067390e+00, 1.90405865e+00, 5.25768056e-01],\n",
              "       [1.29119485e+00, 7.35058671e-01, 1.62895017e+00],\n",
              "       [4.73373797e-01, 6.49731842e-01, 1.50535264e-01],\n",
              "       [2.91473655e+00, 1.81110025e+00, 2.47004428e+00],\n",
              "       [1.20861235e-01, 1.25447002e-01, 7.87248982e-01],\n",
              "       [9.23162638e-02, 2.19287672e-01, 5.94292613e-01],\n",
              "       [1.48822742e+00, 1.87921856e+00, 8.95027512e-01],\n",
              "       [1.58888908e+00, 7.09508959e-01, 2.31355664e+00],\n",
              "       [1.44693609e+00, 9.23031342e-01, 2.21767138e+00],\n",
              "       [1.12262654e+00, 7.59267901e-01, 1.26495515e+00],\n",
              "       [2.42548647e+00, 7.47446826e-01, 2.26396864e+00],\n",
              "       [1.86710951e+00, 1.10689685e+00, 2.24618920e+00],\n",
              "       [2.54648951e+00, 1.78411024e+00, 8.27723073e-01],\n",
              "       [2.20991889e+00, 1.59451058e+00, 2.99173371e-02],\n",
              "       [2.84557065e-02, 3.05757956e-02, 1.88177493e+00],\n",
              "       [2.57830325e+00, 1.10262228e+00, 2.15045679e-01],\n",
              "       [2.40528259e-01, 1.24512452e+00, 7.28911864e-01],\n",
              "       [2.75008515e+00, 2.46377213e+00, 1.71240335e+00],\n",
              "       [5.43144632e-01, 9.12377125e-01, 7.16605543e-01],\n",
              "       [2.28673674e+00, 6.70040140e-01, 1.97578907e-02],\n",
              "       [7.06380348e-01, 1.82422773e+00, 1.40972100e+00]])"
            ]
          },
          "execution_count": 78,
          "metadata": {},
          "output_type": "execute_result"
        }
      ]
    },
    {
      "cell_type": "code",
      "metadata": {
        "colab": {
          "base_uri": "https://localhost:8080/"
        },
        "id": "_wXodUwdUd83",
        "outputId": "60d68cda-0272-41c9-86d7-82b64270b10b"
      },
      "source": [
        "centroids,_=kmeans(data,3)\n",
        "centroids"
      ],
      "execution_count": null,
      "outputs": [
        {
          "data": {
            "text/plain": [
              "array([[2.73618814, 1.86783501, 2.35818306],\n",
              "       [1.32684901, 1.26905436, 1.23978418],\n",
              "       [2.66984988, 3.29020307, 2.92526239]])"
            ]
          },
          "execution_count": 79,
          "metadata": {},
          "output_type": "execute_result"
        }
      ]
    },
    {
      "cell_type": "code",
      "metadata": {
        "colab": {
          "base_uri": "https://localhost:8080/"
        },
        "id": "NFNr7nxiUgk1",
        "outputId": "31223606-1cf3-4db2-d238-9a3ca3b7cb65"
      },
      "source": [
        "clx,_=vq(data,centroids)\n",
        "clx"
      ],
      "execution_count": null,
      "outputs": [
        {
          "data": {
            "text/plain": [
              "array([2, 0, 0, 0, 1, 2, 0, 0, 2, 2, 2, 0, 0, 2, 2, 2, 0, 2, 2, 2, 0, 0,\n",
              "       0, 0, 0, 0, 0, 2, 2, 2, 0, 2, 0, 0, 2, 2, 2, 2, 1, 2, 2, 0, 0, 2,\n",
              "       2, 2, 0, 0, 2, 0, 2, 2, 0, 0, 2, 0, 0, 0, 0, 2, 2, 2, 2, 2, 2, 2,\n",
              "       0, 2, 0, 2, 1, 0, 2, 0, 2, 2, 2, 0, 2, 2, 2, 0, 2, 0, 2, 2, 2, 2,\n",
              "       0, 2, 0, 0, 2, 0, 0, 0, 2, 0, 2, 2, 1, 1, 1, 1, 1, 1, 1, 1, 0, 0,\n",
              "       1, 1, 1, 1, 1, 0, 1, 1, 1, 1, 1, 1, 1, 1, 1, 1, 1, 0, 0, 1, 0, 1,\n",
              "       1, 1, 1, 0, 1, 0, 0, 1, 0, 1, 1, 0, 1, 1, 0, 1, 1, 1, 0, 1, 1, 0,\n",
              "       1, 1, 1, 1, 0, 1, 1, 0, 1, 0, 1, 1, 1, 0, 1, 1, 1, 0, 0, 1, 0, 0,\n",
              "       1, 1, 1, 1, 1, 1, 0, 1, 1, 1, 1, 1, 1, 0, 1, 1, 1, 1, 1, 1, 0, 1,\n",
              "       1, 1], dtype=int32)"
            ]
          },
          "execution_count": 80,
          "metadata": {},
          "output_type": "execute_result"
        }
      ]
    },
    {
      "cell_type": "code",
      "metadata": {
        "colab": {
          "base_uri": "https://localhost:8080/"
        },
        "id": "7Vtq7lDlUjLc",
        "outputId": "9d148546-750e-4d58-d443-07432e07d2d2"
      },
      "source": [
        "from scipy.fftpack import fft\n",
        " \n",
        "x=np.array([1.0,2.0,1.0,-1.0,1.5])\n",
        " \n",
        "y=fft(x)\n",
        "print(\"FFT :\\n\",y)"
      ],
      "execution_count": null,
      "outputs": [
        {
          "name": "stdout",
          "output_type": "stream",
          "text": [
            "FFT :\n",
            " [ 4.5       -0.j          2.08155948-1.65109876j -1.83155948+1.60822041j\n",
            " -1.83155948-1.60822041j  2.08155948+1.65109876j]\n"
          ]
        }
      ]
    },
    {
      "cell_type": "code",
      "metadata": {
        "colab": {
          "base_uri": "https://localhost:8080/"
        },
        "id": "AkeMc_ISUlgX",
        "outputId": "038d21a8-fe8b-4be7-b141-0cac3dc77027"
      },
      "source": [
        "from scipy.fftpack import ifft\n",
        "yinv=ifft(y)\n",
        "print(\"FFT Inverse:\\n\",yinv)"
      ],
      "execution_count": null,
      "outputs": [
        {
          "name": "stdout",
          "output_type": "stream",
          "text": [
            "FFT Inverse:\n",
            " [ 1. +0.j  2. +0.j  1. +0.j -1. +0.j  1.5+0.j]\n"
          ]
        }
      ]
    },
    {
      "cell_type": "code",
      "metadata": {
        "colab": {
          "base_uri": "https://localhost:8080/"
        },
        "id": "BSXxLxAFUnze",
        "outputId": "514f94e2-fa69-4208-90c9-a77036474db5"
      },
      "source": [
        "from scipy.fftpack import dct\n",
        "print(\"DCT:\\n\",dct(np.array([4.,3.,5.,10.,5.,3.])))"
      ],
      "execution_count": null,
      "outputs": [
        {
          "name": "stdout",
          "output_type": "stream",
          "text": [
            "DCT:\n",
            " [ 60.          -3.48476592 -13.85640646  11.3137085    6.\n",
            "  -6.31319305]\n"
          ]
        }
      ]
    },
    {
      "cell_type": "code",
      "metadata": {
        "colab": {
          "base_uri": "https://localhost:8080/"
        },
        "id": "vmHVqrXkUqs8",
        "outputId": "d2a37b9e-b657-4622-dbdf-0f793217e59a"
      },
      "source": [
        "from scipy.fftpack import idct\n",
        "print(\"IDCT:\\n\",idct(np.array([4.,3.,5.,10.,5.,3.])))"
      ],
      "execution_count": null,
      "outputs": [
        {
          "name": "stdout",
          "output_type": "stream",
          "text": [
            "IDCT:\n",
            " [ 39.15085889 -20.14213562  -6.45392043   7.13341236   8.14213562\n",
            "  -3.83035081]\n"
          ]
        }
      ]
    },
    {
      "cell_type": "markdown",
      "metadata": {
        "id": "wcNVWn0QUwzV"
      },
      "source": [
        "# **SciPy-Integrated**"
      ]
    },
    {
      "cell_type": "markdown",
      "metadata": {
        "id": "VUFTbhXqU0B1"
      },
      "source": [
        "The general form of quad is scipy.integrate.quad(f,a,b), Where 'f' is the name of the function to be integrated. Whereas, 'a' and 'b' are the lower and upper limits, respectively. Let us see an example of the Gaussian function, integrated over a range of 0 and 1"
      ]
    },
    {
      "cell_type": "markdown",
      "metadata": {
        "id": "WfLhKEflU4Fo"
      },
      "source": [
        "  # **∫f(x)dx**"
      ]
    },
    {
      "cell_type": "code",
      "metadata": {
        "colab": {
          "base_uri": "https://localhost:8080/"
        },
        "id": "EewsFDgkU7kq",
        "outputId": "0802503f-c5ee-45c6-cfde-b8f98c2117d7"
      },
      "source": [
        "import scipy.integrate\n",
        "from numpy import exp\n",
        "f=lambda x:exp(-x**2)\n",
        "i=scipy.integrate.quad(f,0,1)\n",
        "print(i)"
      ],
      "execution_count": null,
      "outputs": [
        {
          "name": "stdout",
          "output_type": "stream",
          "text": [
            "(0.7468241328124271, 8.291413475940725e-15)\n"
          ]
        }
      ]
    },
    {
      "cell_type": "markdown",
      "metadata": {
        "id": "TmJFrXbCU65d"
      },
      "source": [
        "# **Linear Algebra**"
      ]
    },
    {
      "cell_type": "markdown",
      "metadata": {
        "id": "loNUyHroT0vB"
      },
      "source": [
        "**x+3y+5z=10**\n",
        " \n",
        "**2x+5y+z=8**\n",
        " \n",
        "**2x+3y+8z=3 ***"
      ]
    },
    {
      "cell_type": "code",
      "metadata": {
        "colab": {
          "base_uri": "https://localhost:8080/"
        },
        "id": "miJmCNPlVEqb",
        "outputId": "aca92847-cef8-459c-d1d3-c8a4df9bacf5"
      },
      "source": [
        "from scipy import linalg\n",
        "import numpy as np\n",
        " \n",
        "a=np.array([[1,3,5],[2,5,1],[2,3,8]])\n",
        "b=np.array([10,8,3])\n",
        " \n",
        "X=linalg.solve(a,b)\n",
        " \n",
        "print(X)"
      ],
      "execution_count": null,
      "outputs": [
        {
          "name": "stdout",
          "output_type": "stream",
          "text": [
            "[-9.28  5.16  0.76]\n"
          ]
        }
      ]
    },
    {
      "cell_type": "markdown",
      "metadata": {
        "id": "l1X9ged3VHdz"
      },
      "source": [
        "# **Finding an Determinant**"
      ]
    },
    {
      "cell_type": "code",
      "metadata": {
        "colab": {
          "base_uri": "https://localhost:8080/"
        },
        "id": "DZAQJZZuVKHh",
        "outputId": "199f294c-c0f6-4781-b25c-a7234629d29d"
      },
      "source": [
        "from scipy import linalg\n",
        "import numpy as np\n",
        " \n",
        "A=np.array([[1,2],[3,4]])\n",
        " \n",
        "x=linalg.det(A)\n",
        " \n",
        "print(x)"
      ],
      "execution_count": null,
      "outputs": [
        {
          "name": "stdout",
          "output_type": "stream",
          "text": [
            "-2.0\n"
          ]
        }
      ]
    },
    {
      "cell_type": "markdown",
      "metadata": {
        "id": "v6zJ10NpVM_I"
      },
      "source": [
        "# **Eigen values and Eigen Vectors**"
      ]
    },
    {
      "cell_type": "code",
      "metadata": {
        "colab": {
          "base_uri": "https://localhost:8080/"
        },
        "id": "cWaONqFaVPgv",
        "outputId": "3540dfde-3277-4ea8-f1f5-8a459f4366e4"
      },
      "source": [
        "from scipy import linalg\n",
        "import numpy as np\n",
        " \n",
        "A=np.array([[1,2],[3,4]])\n",
        " \n",
        "l,v=linalg.eig(A)\n",
        " \n",
        "print(\"Eigen Values :\\n\",l)\n",
        " \n",
        "print(\"Eigen Vectors:\\n\",v)"
      ],
      "execution_count": null,
      "outputs": [
        {
          "name": "stdout",
          "output_type": "stream",
          "text": [
            "Eigen Values :\n",
            " [-0.37228132+0.j  5.37228132+0.j]\n",
            "Eigen Vectors:\n",
            " [[-0.82456484 -0.41597356]\n",
            " [ 0.56576746 -0.90937671]]\n"
          ]
        }
      ]
    },
    {
      "cell_type": "markdown",
      "metadata": {
        "id": "9z9u8_1SVUQy"
      },
      "source": [
        " # **Matplot Library**"
      ]
    },
    {
      "cell_type": "code",
      "metadata": {
        "colab": {
          "base_uri": "https://localhost:8080/",
          "height": 226
        },
        "id": "euVrX_gFVSdI",
        "outputId": "2f49e177-7061-4d9b-b269-dc7e0541383b"
      },
      "source": [
        "import matplotlib.pyplot as plt\n",
        "import numpy as np\n",
        " \n",
        "x=np.arange(5)\n",
        "y=(35,45,23,27,60)\n",
        "plt.bar(x,y)\n",
        "plt.show()"
      ],
      "execution_count": null,
      "outputs": [
        {
          "data": {
            "image/png": "[encoded data removed]",
            "text/plain": [
              "<Figure size 432x288 with 1 Axes>"
            ]
          },
          "metadata": {},
          "output_type": "display_data"
        }
      ]
    },
    {
      "cell_type": "code",
      "metadata": {
        "colab": {
          "base_uri": "https://localhost:8080/",
          "height": 226
        },
        "id": "ckQiGAgQVjBW",
        "outputId": "66c8787e-7ec9-4183-ed56-2a4f0642a7a8"
      },
      "source": [
        "plt.scatter(x,y)\n",
        "plt.show()"
      ],
      "execution_count": null,
      "outputs": [
        {
          "data": {
            "image/png": "[encoded data removed]",
            "text/plain": [
              "<Figure size 432x288 with 1 Axes>"
            ]
          },
          "metadata": {},
          "output_type": "display_data"
        }
      ]
    },
    {
      "cell_type": "code",
      "metadata": {
        "colab": {
          "base_uri": "https://localhost:8080/",
          "height": 220
        },
        "id": "PLsI81FyVnok",
        "outputId": "0e67f366-c4da-4b9f-d7a0-908a23347f26"
      },
      "source": [
        "import pandas as pd\n",
        "from sklearn.datasets import load_iris\n",
        "iris=load_iris()\n",
        "df=pd.DataFrame(iris.data)\n",
        " \n",
        "df.columns=['sepal_Length','sepal_Width','petal_Length','petal_Width']\n",
        "df.head()"
      ],
      "execution_count": null,
      "outputs": [
        {
          "data": {
            "text/html": [
              "<div>\n",
              "<style scoped>\n",
              "    .dataframe tbody tr th:only-of-type {\n",
              "        vertical-align: middle;\n",
              "    }\n",
              "\n",
              "    .dataframe tbody tr th {\n",
              "        vertical-align: top;\n",
              "    }\n",
              "\n",
              "    .dataframe thead th {\n",
              "        text-align: right;\n",
              "    }\n",
              "</style>\n",
              "<table border=\"1\" class=\"dataframe\">\n",
              "  <thead>\n",
              "    <tr style=\"text-align: right;\">\n",
              "      <th></th>\n",
              "      <th>sepal_Length</th>\n",
              "      <th>sepal_Width</th>\n",
              "      <th>petal_Length</th>\n",
              "      <th>petal_Width</th>\n",
              "    </tr>\n",
              "  </thead>\n",
              "  <tbody>\n",
              "    <tr>\n",
              "      <th>0</th>\n",
              "      <td>5.1</td>\n",
              "      <td>3.5</td>\n",
              "      <td>1.4</td>\n",
              "      <td>0.2</td>\n",
              "    </tr>\n",
              "    <tr>\n",
              "      <th>1</th>\n",
              "      <td>4.9</td>\n",
              "      <td>3.0</td>\n",
              "      <td>1.4</td>\n",
              "      <td>0.2</td>\n",
              "    </tr>\n",
              "    <tr>\n",
              "      <th>2</th>\n",
              "      <td>4.7</td>\n",
              "      <td>3.2</td>\n",
              "      <td>1.3</td>\n",
              "      <td>0.2</td>\n",
              "    </tr>\n",
              "    <tr>\n",
              "      <th>3</th>\n",
              "      <td>4.6</td>\n",
              "      <td>3.1</td>\n",
              "      <td>1.5</td>\n",
              "      <td>0.2</td>\n",
              "    </tr>\n",
              "    <tr>\n",
              "      <th>4</th>\n",
              "      <td>5.0</td>\n",
              "      <td>3.6</td>\n",
              "      <td>1.4</td>\n",
              "      <td>0.2</td>\n",
              "    </tr>\n",
              "  </tbody>\n",
              "</table>\n",
              "</div>"
            ],
            "text/plain": [
              "   sepal_Length  sepal_Width  petal_Length  petal_Width\n",
              "0           5.1          3.5           1.4          0.2\n",
              "1           4.9          3.0           1.4          0.2\n",
              "2           4.7          3.2           1.3          0.2\n",
              "3           4.6          3.1           1.5          0.2\n",
              "4           5.0          3.6           1.4          0.2"
            ]
          },
          "execution_count": 91,
          "metadata": {},
          "output_type": "execute_result"
        }
      ]
    },
    {
      "cell_type": "code",
      "metadata": {
        "colab": {
          "base_uri": "https://localhost:8080/",
          "height": 240
        },
        "id": "nuOsXfUkVqge",
        "outputId": "5eb212bc-30b6-4222-e6c0-e686d4679cff"
      },
      "source": [
        "df.hist()\n",
        "plt.show()"
      ],
      "execution_count": null,
      "outputs": [
        {
          "data": {
            "image/png": "[encoded data removed]",
            "text/plain": [
              "<Figure size 432x288 with 4 Axes>"
            ]
          },
          "metadata": {},
          "output_type": "display_data"
        }
      ]
    },
    {
      "cell_type": "code",
      "metadata": {
        "colab": {
          "base_uri": "https://localhost:8080/",
          "height": 231
        },
        "id": "CP_HGSJExpUe",
        "outputId": "fa2284aa-7213-4f1e-fd32-6bc64ad253d6"
      },
      "source": [
        "df.boxplot()\n",
        "plt.show()"
      ],
      "execution_count": null,
      "outputs": [
        {
          "data": {
            "image/png": "[encoded data removed]",
            "text/plain": [
              "<Figure size 432x288 with 1 Axes>"
            ]
          },
          "metadata": {},
          "output_type": "display_data"
        }
      ]
    },
    {
      "cell_type": "code",
      "metadata": {
        "colab": {
          "base_uri": "https://localhost:8080/",
          "height": 228
        },
        "id": "33nvYL8IV3u-",
        "outputId": "00e9e659-792c-48ab-e6f4-e5f9ca02d543"
      },
      "source": [
        "import numpy as np\n",
        "x=np.linspace(0,20,1000)\n",
        "y=np.sin(x)\n",
        " \n",
        "plt.plot(x,y,label='sample Label')\n",
        "plt.title('sample plot title')\n",
        "plt.xlabel('x axis label')\n",
        "plt.ylabel('y axis label')\n",
        "plt.grid(True)\n",
        " \n",
        "plt.figtext(0.5,0.01,'Fig1:Sinusodial', ha='right',va='bottom')\n",
        " \n",
        "plt.legend(loc='best',framealpha=0.5,prop={'size':'small'})\n",
        " \n",
        "plt.tight_layout(pad=1)\n",
        " \n",
        "plt.show()"
      ],
      "execution_count": null,
      "outputs": [
        {
          "data": {
            "image/png": "[encoded data removed]",
            "text/plain": [
              "<Figure size 432x288 with 1 Axes>"
            ]
          },
          "metadata": {},
          "output_type": "display_data"
        }
      ]
    },
    {
      "cell_type": "markdown",
      "metadata": {
        "id": "IbsUeWlmtiAD"
      },
      "source": [
        ""
      ]
    }
  ]
}